{
 "cells": [
  {
   "cell_type": "code",
   "execution_count": 1,
   "metadata": {},
   "outputs": [],
   "source": [
    "import pandas as pd\n",
    "import numpy as np \n",
    "import datetime\n",
    "import math\n",
    "import gc\n",
    "import datetime\n",
    "gc.collect()\n",
    "\n",
    "from tqdm import tqdm"
   ]
  },
  {
   "cell_type": "markdown",
   "metadata": {},
   "source": [
    "# Load Data"
   ]
  },
  {
   "cell_type": "code",
   "execution_count": 2,
   "metadata": {},
   "outputs": [
    {
     "name": "stderr",
     "output_type": "stream",
     "text": [
      "100%|██████████| 14/14 [00:28<00:00,  2.78s/it]"
     ]
    },
    {
     "name": "stdout",
     "output_type": "stream",
     "text": [
      "(2031893, 41)\n",
      "2031893 plays were loaded\n"
     ]
    },
    {
     "name": "stderr",
     "output_type": "stream",
     "text": [
      "\n"
     ]
    }
   ],
   "source": [
    "# load play by play & drive data\n",
    "years = list(range(2005, int(datetime.datetime.now().year)))\n",
    "\n",
    "df = pd.DataFrame()\n",
    "for year in tqdm(years):\n",
    "    path = './output/'+str(year)+'/'+str(year)+'_pbp.csv'\n",
    "    sea_df = pd.read_csv(path)\n",
    "    \n",
    "    drive_path = './output/'+str(year)+'/'+str(year)+'_drives.csv'\n",
    "    drive_df = pd.read_csv(drive_path)\n",
    "    \n",
    "    drive_df = drive_df.rename(columns={'id':'drive_id'})\n",
    "    \n",
    "    sea_df = pd.merge(left=sea_df, right=drive_df, how='left', on=['drive_id','drive_id'])\n",
    "    df = pd.concat([df,sea_df])\n",
    "\n",
    "num_plays = len(df)\n",
    "print(df.shape)\n",
    "print(str(num_plays) + \" plays were loaded\")"
   ]
  },
  {
   "cell_type": "code",
   "execution_count": 3,
   "metadata": {},
   "outputs": [],
   "source": [
    "# offense_x seems to be correct while offense_y is not\n",
    "\n",
    "df = df.drop(columns=['defense_y','defense_conference_y','offense_y','offense_conference_y'])\n",
    "\n",
    "df = df.rename(columns={'defense_x':'defense','defense_conference_x':'defense_conference','offense_x':'offense','offense_conference_x':'offense_conference'})\n"
   ]
  },
  {
   "cell_type": "markdown",
   "metadata": {},
   "source": [
    "## Special Teams\n",
    "\n",
    "I'll do special teams and overtimes in future work. Right now, keeping it simple."
   ]
  },
  {
   "cell_type": "code",
   "execution_count": 4,
   "metadata": {},
   "outputs": [
    {
     "name": "stdout",
     "output_type": "stream",
     "text": [
      "2031893\n",
      "1871043\n"
     ]
    }
   ],
   "source": [
    "print(len(df))\n",
    "nah = ['2pt Conversion','Kickoff','Kickoff Return (Offense)','Kickoff Return Touchdown',\n",
    "      'Offensive 1pt Safety','Defensive 2pt Conversion','Extra Point Good','Extra Point Missed']\n",
    "\n",
    "df = df.loc[~df.play_type.isin(nah)]\n",
    "print(len(df))"
   ]
  },
  {
   "cell_type": "code",
   "execution_count": 5,
   "metadata": {},
   "outputs": [
    {
     "name": "stdout",
     "output_type": "stream",
     "text": [
      "1864121\n"
     ]
    }
   ],
   "source": [
    "# also drop overtime\n",
    "\n",
    "df = df.loc[(df.period > 0) & (df.period <= 4)]\n",
    "print(len(df))\n"
   ]
  },
  {
   "cell_type": "markdown",
   "metadata": {},
   "source": [
    "## Clock\n",
    "\n",
    "Clock data is unreliable because maybe 25% of the games have only have one time for each play, and that time is when the drive started. I played with trying to predict time per play based on play type, but the data was very messy. So I decided to get the total time of each drive, and then assume each play took the same amount of time. EPA shouldn't be significantly affected most of the time, i.e. a 70 yard pass will be considered a good play no matter what. The only time it might have an adverse effect is toward the end of a game, when seconds matter. I think that in college football, when the clock stops for a first down, and incompletions, that all pass plays probably do take a somewhat similar amount of time. Drives in this situation will consist mostly of the same play type, and plays of the same play type likely take similar amounts of time. I'll compare it to the clock data I do have to make sure."
   ]
  },
  {
   "cell_type": "code",
   "execution_count": 6,
   "metadata": {},
   "outputs": [],
   "source": [
    "# fix clock data first so drives can be figured out\n",
    "time_cols = ['clock.minutes','clock.seconds','start_time.minutes','start_time.seconds',\n",
    "            'end_time.minutes','end_time.seconds']\n",
    "for tc in time_cols:\n",
    "    df[tc] = df[tc].fillna(0)\n",
    "\n",
    "# get time remaining in game\n",
    "df['tr_game'] = (4-df['period']) * 900 + (df['clock.minutes'] * 60) + df['clock.seconds']\n",
    "df['tr_half'] = np.where(df['period']>2,df['tr_game'], df['tr_game']-1800)\n",
    "\n",
    "df = df.drop(columns=['clock.minutes','clock.seconds'])"
   ]
  },
  {
   "cell_type": "code",
   "execution_count": 7,
   "metadata": {},
   "outputs": [],
   "source": [
    "# fill empties\n",
    "df['elapsed.minutes'] = df['elapsed.minutes'].copy().fillna(0)\n",
    "df['elapsed.seconds'] = df['elapsed.seconds'].copy().fillna(0)\n",
    "df['drive_time'] = 60*df['elapsed.minutes'] + df['elapsed.seconds']"
   ]
  },
  {
   "cell_type": "code",
   "execution_count": 8,
   "metadata": {},
   "outputs": [
    {
     "name": "stdout",
     "output_type": "stream",
     "text": [
      "8969\n",
      "275461\n",
      "146.12538980109707\n"
     ]
    }
   ],
   "source": [
    "# a lot of those drive times are negative... and other problems. so here's an alt drive time\n",
    "# alt clock\n",
    "\n",
    "# these get the start and end time of every drive\n",
    "maxs = df.groupby(['game_id','drive_id'])['tr_game'].max().reset_index()\n",
    "mins = df.groupby(['game_id','drive_id'])['tr_game'].min().reset_index()\n",
    "maxs = maxs.rename(columns={'tr_game':'drive_start'})\n",
    "mins = mins.rename(columns={'tr_game':'drive_end'})\n",
    "\n",
    "# sometimes the drive end time is the same as the drive start. in that case, I use the next drive start\n",
    "maxs = maxs.sort_values(by=['game_id','drive_start'],ascending=False)\n",
    "next_max = maxs.groupby(['game_id'])['drive_start'].shift(-1)\n",
    "next_max = pd.Series(next_max, name='next_drive_start')\n",
    "new_max = pd.concat([maxs, next_max], axis=1)\n",
    "new_max['next_drive_start'] = new_max['next_drive_start'].fillna(0)\n",
    "\n",
    "# sometimes (rarely, 2%ish of the time) both the next drive start and the drive end are the same as the drive start\n",
    "# in that case, as a last resort, i use the next drive end time. \n",
    "# i'm fairly sure most of the time it's when a timeout or something divides the same drive into two.\n",
    "# i can explore this more in future work\n",
    "mins = mins.sort_values(by=['game_id','drive_end'],ascending=False)\n",
    "next_min = mins.groupby(['game_id'])['drive_end'].shift(-1)\n",
    "next_min = pd.Series(next_min, name='next_drive_end')\n",
    "new_min = pd.concat([mins, next_min], axis=1)\n",
    "new_min['next_drive_end'] = new_min['next_drive_end'].fillna(0)\n",
    "new_min = new_min.drop(columns='game_id')\n",
    "times = pd.merge(left=new_max,right=new_min,on=['drive_id','drive_id'],how='left')\n",
    "\n",
    "\n",
    "# attempt 1 (works on ~95.5% of data)\n",
    "times['drive_time_1'] = times['drive_start']-times['next_drive_start']\n",
    "# plan B (95.8% of data)\n",
    "times['drive_time'] = np.where(times['drive_time_1']>0,times['drive_time_1'],(times['drive_start']-times['drive_end']))\n",
    "# last resort (works on 99.3% of data)\n",
    "# times['drive_time'] = np.where(times['drive_time_2']>0,times['drive_time_2'],(times['drive_start']-times['next_drive_end']))\n",
    "\n",
    "not_good = times.loc[times.drive_time<=0]\n",
    "print(len(not_good))\n",
    "\n",
    "good = times.loc[times.drive_time>0]\n",
    "print(len(good))\n",
    "\n",
    "print(good.drive_time.mean())\n",
    "\n",
    "times = times[['drive_id','drive_time']]\n",
    "times = times.rename(columns={'drive_time':'alt_drive_time'})\n"
   ]
  },
  {
   "cell_type": "code",
   "execution_count": 9,
   "metadata": {},
   "outputs": [],
   "source": [
    "df = pd.merge(left=df,right=times,how='left',on=['drive_id','drive_id'])\n"
   ]
  },
  {
   "cell_type": "code",
   "execution_count": 10,
   "metadata": {},
   "outputs": [
    {
     "name": "stdout",
     "output_type": "stream",
     "text": [
      "1844449\n",
      "                drive_time  alt_drive_time\n",
      "drive_time        1.000000        0.855643\n",
      "alt_drive_time    0.855643        1.000000\n"
     ]
    }
   ],
   "source": [
    "# longest drive in CFB history is 882. so need to drop anything above 900\n",
    "# also drop anything below or equal to 0\n",
    "\n",
    "df['correct_time_1'] = np.where(df['drive_time'] > 0, df['drive_time'], df['alt_drive_time'])\n",
    "\n",
    "df = df.loc[df['correct_time_1'] > 0]\n",
    "\n",
    "df['correct_drive_time'] = np.where(df['drive_time'] < 900, df['drive_time'], df['alt_drive_time'])\n",
    "\n",
    "df = df.loc[df['correct_drive_time'] < 900]\n",
    "\n",
    "print(len(df))\n",
    "\n",
    "print(df[['drive_time','alt_drive_time']].corr())\n",
    "\n",
    "df = df.drop(columns=['drive_time','alt_drive_time','correct_time_1'])\n",
    "df = df.rename(columns={'correct_drive_time':'drive_time'})"
   ]
  },
  {
   "cell_type": "markdown",
   "metadata": {},
   "source": [
    "# some objectives\n",
    "\n",
    "1) fix \"uncategorized\" play type  \n",
    "2) aggregate and clean all play types  \n",
    "3) aggregate and clean all drive results  "
   ]
  },
  {
   "cell_type": "code",
   "execution_count": 11,
   "metadata": {},
   "outputs": [
    {
     "data": {
      "text/plain": [
       "play_type\n",
       "Blocked Field Goal                       446\n",
       "Blocked Field Goal Touchdown              24\n",
       "Blocked Punt                             347\n",
       "Blocked Punt Touchdown                    18\n",
       "End Period                              9205\n",
       "End of Game                             3414\n",
       "End of Half                             4303\n",
       "Field Goal Good                        24021\n",
       "Field Goal Missed                       8758\n",
       "Fumble Recovery (Opponent)              3665\n",
       "Fumble Recovery (Own)                   4313\n",
       "Fumble Return Touchdown                  146\n",
       "Interception                               2\n",
       "Interception Return Touchdown            822\n",
       "Missed Field Goal Return                  20\n",
       "Missed Field Goal Return Touchdown         3\n",
       "Pass                                   41599\n",
       "Pass Completion                       225742\n",
       "Pass Incompletion                     246884\n",
       "Pass Interception                      11406\n",
       "Pass Interception Return                6680\n",
       "Pass Reception                        144382\n",
       "Passing Touchdown                      13821\n",
       "Penalty                                97552\n",
       "Punt                                  107897\n",
       "Punt Return Touchdown                     52\n",
       "Rush                                  769603\n",
       "Rushing Touchdown                      14990\n",
       "Sack                                   36513\n",
       "Safety                                   729\n",
       "Timeout                                67056\n",
       "Uncategorized                             36\n",
       "Name: down, dtype: int64"
      ]
     },
     "execution_count": 11,
     "metadata": {},
     "output_type": "execute_result"
    }
   ],
   "source": [
    "gb = df.groupby(['play_type'])['down'].count()\n",
    "gb"
   ]
  },
  {
   "cell_type": "code",
   "execution_count": 14,
   "metadata": {},
   "outputs": [
    {
     "name": "stdout",
     "output_type": "stream",
     "text": [
      "N/A fumbled, recovered by UTEP Aaron Jones , return for 0 yards Aaron Jones sacked for a loss of 4 yards to the UTEP 12 UTEP Penalty, intentional grounding (-3 Yards) to the UTEP 3\n",
      "TEAM fumbled, recovered by Clem N/A  Deshaun Watson pass incomplete to N/A\n",
      "Alex Kelley fumbled, recovered by Colo N/A  Sefo Liufau pass incomplete to Bryce Bobo\n",
      "End of 2nd Quarter\n",
      "End of 3rd Quarter\n",
      "End of 3rd Quarter\n",
      "Joshua Dobbs fumbled,  Joshua Dobbs pass intercepted Torren McGaster return for 6 yds to the Tenn 24\n",
      "Michael Gordon run for 35 yds for a TD, (Logan Spry PAT MISSED)\n",
      "Malik Smith return for 9 yds to the SDSt 49\n",
      "Josh Burton return for 8 yds for a TD, (Josh Kealamakia KICK)\n",
      "Roland Jenkins return for no gain to the Tulsa 28 UL MONROE Penalty, illegal block (10 Yards) to the Tulsa 43\n",
      "Demetrius Kemp return for 7 yds to the NCaro 30\n",
      "Jamauri Bogan run for 9 yds to the Nwest 13 for a 1ST down\n",
      ", Devonte Williams return for 24 yds to the Ind 24\n",
      "TEAM fumbled,  Brandon Wright punt for 21 yds\n",
      "Treston Decoud return for 13 yds to the OrgSt 33\n",
      "Kamari Cotton-Moya return for no gain to the IowSt 19\n",
      "Justin Davis fumbled,   for a 1ST down Sam Darnold pass complete to Deontay Burnett for 40 yds to the ArzSt 41 for a 1ST down\n",
      "Sean White fumbled,  Eli Stove run for 1 yd to the LaMon 48\n",
      "Troy Williams fumbled,  Armand Shyne run for 1 yd to the Ariz 25\n",
      "TEAM fumbled,  Jacob Eason pass incomplete to Reggie Davis\n",
      "TEAM fumbled,  Michael Birdsong pass incomplete to Jordan Giberti\n",
      "Juwan Offray return for 2 yds to the LaMon 39\n",
      "for a SAFETY for a SAFETY\n",
      "Troy Williams fumbled,  Jordan Howard run for 3 yds to the SJSt 5\n",
      "Keller Chryst fumbled,  Keller Chryst pass incomplete to Trenton Irwin\n",
      "TEAM fumbled,  Dakota Torres run for 3 yds to the SJSt 35\n",
      "Daniel Jones pass incomplete  DUKE Penalty, ineligible downfield on pass ( Yards) declined\n",
      "Josh Pollack fumbled, for a TD TEAM punt blocked by Michael Pittman Jr. blocked by Michael Pittman Jr.  Jalen Greene return for 11 yds (Chase McGrath KICK)\n",
      "Victor Heyward return for 10 yds to the GeoSt 40\n",
      "Boss Tagaloa fumbled,  Joshua Kelley run for a loss of 3 yards to the Colo 23\n",
      "JT Daniels fumbled,  Vavae Malepeai run for 5 yds to the USC 36\n",
      "TEAM fumbled,  Khalil Herbert run for a loss of 6 yards to the IowSt 7\n",
      "Dayton Furuta fumbled,  Cole McDonald run for 2 yds to the UNLV 30\n",
      "Jason Shelley fumbled,  Devin Brumfield run for no gain to the Colo 35\n",
      "Nick Pickett return for no gain OREGON Penalty, unsportsmanlike conduct (Nick Pickett)\n"
     ]
    }
   ],
   "source": [
    "uncat = df.loc[df['play_type']=='Uncategorized']\n",
    "for pt in list(uncat.play_text.values):\n",
    "    print(pt)\n",
    "    \n"
   ]
  },
  {
   "cell_type": "code",
   "execution_count": null,
   "metadata": {},
   "outputs": [],
   "source": []
  }
 ],
 "metadata": {
  "kernelspec": {
   "display_name": "Python 3",
   "language": "python",
   "name": "python3"
  },
  "language_info": {
   "codemirror_mode": {
    "name": "ipython",
    "version": 3
   },
   "file_extension": ".py",
   "mimetype": "text/x-python",
   "name": "python",
   "nbconvert_exporter": "python",
   "pygments_lexer": "ipython3",
   "version": "3.7.4"
  }
 },
 "nbformat": 4,
 "nbformat_minor": 2
}
