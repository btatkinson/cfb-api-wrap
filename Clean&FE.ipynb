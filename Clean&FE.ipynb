{
 "cells": [
  {
   "cell_type": "code",
   "execution_count": 19,
   "metadata": {},
   "outputs": [],
   "source": [
    "import pandas as pd\n",
    "import numpy as np \n",
    "import datetime\n",
    "import math\n",
    "import gc\n",
    "import datetime\n",
    "gc.collect()\n",
    "\n",
    "from tqdm import tqdm"
   ]
  },
  {
   "cell_type": "markdown",
   "metadata": {},
   "source": [
    "# Load Data"
   ]
  },
  {
   "cell_type": "code",
   "execution_count": 20,
   "metadata": {},
   "outputs": [
    {
     "name": "stderr",
     "output_type": "stream",
     "text": [
      "100%|██████████| 15/15 [00:35<00:00,  3.43s/it]"
     ]
    },
    {
     "name": "stdout",
     "output_type": "stream",
     "text": [
      "(2122188, 41)\n",
      "2122188 plays were loaded\n"
     ]
    },
    {
     "name": "stderr",
     "output_type": "stream",
     "text": [
      "\n"
     ]
    }
   ],
   "source": [
    "# load play by play\n",
    "years = list(range(2004, int(datetime.datetime.now().year)))\n",
    "\n",
    "df = pd.DataFrame()\n",
    "for year in tqdm(years):\n",
    "    path = './output/'+str(year)+'/'+str(year)+'_pbp.csv'\n",
    "    sea_df = pd.read_csv(path)\n",
    "    \n",
    "    drive_path = './output/'+str(year)+'/'+str(year)+'_drives.csv'\n",
    "    drive_df = pd.read_csv(drive_path)\n",
    "    \n",
    "    drive_df = drive_df.rename(columns={'id':'drive_id'})\n",
    "    \n",
    "    sea_df = pd.merge(left=sea_df, right=drive_df, how='left', on=['drive_id','drive_id'])\n",
    "    df = pd.concat([df,sea_df])\n",
    "\n",
    "num_plays = len(df)\n",
    "print(df.shape)\n",
    "print(str(num_plays) + \" plays were loaded\")"
   ]
  },
  {
   "cell_type": "markdown",
   "metadata": {},
   "source": [
    "# Clean Data "
   ]
  },
  {
   "cell_type": "code",
   "execution_count": 44,
   "metadata": {},
   "outputs": [],
   "source": [
    "# fix clock data first so drives can be figured out\n",
    "\n",
    "\n",
    "time_cols = ['clock.minutes','clock.seconds','start_time.minutes','start_time.seconds',\n",
    "            'end_time.minutes','end_time.seconds']\n",
    "for tc in time_cols:\n",
    "    df[tc] = df[tc].fillna(0)\n",
    "\n",
    "# get time remaining in game\n",
    "df['tr_game'] = (4-df['period']) * 900 + (df['clock.minutes'] * 60) + df['clock.seconds']\n",
    "df['tr_half'] = np.where(df['period']>2,df['tr_game'], df['tr_game']-1800)\n",
    "\n",
    "df = df.drop(columns=['clock.minutes','clock.seconds'])"
   ]
  },
  {
   "cell_type": "code",
   "execution_count": 55,
   "metadata": {},
   "outputs": [],
   "source": [
    "# isolate extra point attempts\n",
    "xp_cats = ['Two Point Pass','Two Point Rush','Blocked PAT','Extra Point Good','Extra Point Missed', '2pt Conversion',\n",
    "          'Offensive 1pt Safety','Defensive 2pt Conversion']\n",
    "xps = df.loc[df['play_type'].isin(xp_cats)]\n",
    "df = df.loc[~df['play_type'].isin(xp_cats)]\n"
   ]
  },
  {
   "cell_type": "code",
   "execution_count": 53,
   "metadata": {},
   "outputs": [],
   "source": [
    "kickoffs_cats = ['Kickoff Return (Offense)', 'Kickoff Return Touchdown', 'Kickoff Return (Defense)', 'Kickoff']\n",
    "kickoffs = df.loc[df['play_type'].isin(kickoffs_cats)]\n",
    "df = df.loc[~df['play_type'].isin(kickoffs_cats)]\n"
   ]
  },
  {
   "cell_type": "code",
   "execution_count": 57,
   "metadata": {},
   "outputs": [],
   "source": [
    "# isolate OT\n",
    "ot = df.loc[df['period'] > 4]\n",
    "df = df.loc[(df['period'] <= 4) & (df['period'] >0)]\n"
   ]
  },
  {
   "cell_type": "code",
   "execution_count": 64,
   "metadata": {},
   "outputs": [
    {
     "name": "stdout",
     "output_type": "stream",
     "text": [
      "['away', 'defense_x', 'defense_conference_x', 'defense_score', 'distance', 'down', 'drive_id', 'home', 'id', 'offense_x', 'offense_conference_x', 'offense_score', 'period', 'play_text', 'play_type', 'yard_line', 'yards_gained', 'season', 'week', 'season_type', 'defense_y', 'defense_conference_y', 'drive_result', 'elapsed.minutes', 'elapsed.seconds', 'end_period', 'end_time.minutes', 'end_time.seconds', 'end_yardline', 'game_id', 'offense_y', 'offense_conference_y', 'plays', 'scoring', 'start_period', 'start_time.minutes', 'start_time.seconds', 'start_yardline', 'yards', 'tr_game', 'tr_half']\n",
      "      tr_game                                          play_text  \\\n",
      "252    2355.0  Jordan Palmer (UTEP) pass left side intercepte...   \n",
      "403     264.0  Sam Keller (ASU) pass right side complete to J...   \n",
      "404      20.0  Sam Keller (ASU) pass right side complete to J...   \n",
      "623    3543.0                                     Eagles safety.   \n",
      "1243      0.0                            End of the 4th quarter.   \n",
      "1496   2155.0  Dane King (BU) pass left side intercepted by K...   \n",
      "1563    930.0                           5 yard penalty on Bears.   \n",
      "1567    930.0  Dane King (BU) pass across the middle intercep...   \n",
      "1578    870.0  Dane King (BU) pass left side intercepted by M...   \n",
      "1677   2512.0  Aggies punt blocked, recovered by Chris Housto...   \n",
      "1945    340.0         Extra point by Nicholas Folk (UA) is good.   \n",
      "1950    507.0      Wildcats timeout; 08:27 remaining 4th quarter   \n",
      "1951    507.0  Kris Heavner (UA) pass left side complete to M...   \n",
      "1952    500.0  Chris Henry (UA) rushed up the middle for 7 ya...   \n",
      "1953    466.0  Kris Heavner (UA) rushed right side for -3 yards.   \n",
      "1954    459.0  Kris Heavner (UA) pass right side complete to ...   \n",
      "1955    437.0        Mike Bell (UA) rushed left side for 1 yard.   \n",
      "1956    396.0     Mike Bell (UA) rushed right side for -3 yards.   \n",
      "1957    355.0  Kris Heavner (UA) pass left side complete to S...   \n",
      "2517    398.0  Justin Holland (CSU) pass across the middle in...   \n",
      "2712    475.0  Geoffrey Nixon (MSU) pass left side intercepte...   \n",
      "3004   1568.0           Extra point by Andy Bailey (GA) is good.   \n",
      "3371   1500.0  Grant Arnoldink (CMU) pass right side intercep...   \n",
      "3823    362.0  Terrapins fumble by Joel Statham (MARY), recov...   \n",
      "4000    555.0  Josh Betts (MU) pass right side intercepted by...   \n",
      "\n",
      "             offense_x          offense_y  \n",
      "252               UTEP      Arizona State  \n",
      "403      Arizona State               UTEP  \n",
      "404      Arizona State               UTEP  \n",
      "623         Ball State     Boston College  \n",
      "1243  Washington State         New Mexico  \n",
      "1496            Baylor                UAB  \n",
      "1563            Baylor                UAB  \n",
      "1567            Baylor                UAB  \n",
      "1578            Baylor                UAB  \n",
      "1677  New Mexico State           Arkansas  \n",
      "1945           Arizona   Northern Arizona  \n",
      "1950           Arizona   Northern Arizona  \n",
      "1951           Arizona   Northern Arizona  \n",
      "1952           Arizona   Northern Arizona  \n",
      "1953           Arizona   Northern Arizona  \n",
      "1954           Arizona   Northern Arizona  \n",
      "1955           Arizona   Northern Arizona  \n",
      "1956           Arizona   Northern Arizona  \n",
      "1957           Arizona   Northern Arizona  \n",
      "2517    Colorado State           Colorado  \n",
      "2712      Murray State        Connecticut  \n",
      "3004           Georgia   Georgia Southern  \n",
      "3371  Central Michigan            Indiana  \n",
      "3823          Maryland  Northern Illinois  \n",
      "4000        Miami (OH)           Michigan  \n"
     ]
    }
   ],
   "source": [
    "# validate\n",
    "bad = df.loc[df['offense_x']!=df['offense_y']]\n",
    "# print(bad[['tr_game','play_text','offense_x','offense_y']].head(25))\n",
    "# offense_x seems to be correct while offense_y is not\n",
    "\n",
    "df = df.drop(columns=['defense_y','defense_conference_y','offense_y','offense_conference_y'])\n",
    "\n",
    "df = df.rename(columns={'defense_x':'defense','defense_conference_x':'defense_conference','offense_x':'offense','offense_conference_x':'offense_conference'})\n"
   ]
  },
  {
   "cell_type": "code",
   "execution_count": 65,
   "metadata": {},
   "outputs": [
    {
     "name": "stdout",
     "output_type": "stream",
     "text": [
      "['away', 'defense', 'defense_conference', 'defense_score', 'distance', 'down', 'drive_id', 'home', 'id', 'offense', 'offense_conference', 'offense_score', 'period', 'play_text', 'play_type', 'yard_line', 'yards_gained', 'season', 'week', 'season_type', 'drive_result', 'elapsed.minutes', 'elapsed.seconds', 'end_period', 'end_time.minutes', 'end_time.seconds', 'end_yardline', 'game_id', 'plays', 'scoring', 'start_period', 'start_time.minutes', 'start_time.seconds', 'start_yardline', 'yards', 'tr_game', 'tr_half']\n"
     ]
    }
   ],
   "source": [
    "print(list(df))"
   ]
  },
  {
   "cell_type": "code",
   "execution_count": 66,
   "metadata": {},
   "outputs": [
    {
     "name": "stdout",
     "output_type": "stream",
     "text": [
      "5507\n",
      "['Extra point by Ryan Killeen (USC) is good.'\n",
      " '35 yard field goal by Brandon Pace (VT) is good.'\n",
      " '35 yard field goal by Ryan Killeen (USC) is no good.' ...\n",
      " 'Dayton Furuta fumbled,  Cole McDonald run for 2 yds to the UNLV 30'\n",
      " 'Jason Shelley fumbled,  Devin Brumfield run for no gain to the Colo 35'\n",
      " 'Nick Pickett return for no gain OREGON Penalty, unsportsmanlike conduct (Nick Pickett)']\n"
     ]
    }
   ],
   "source": [
    "uncat = df.loc[df['play_type']=='Uncategorized']\n",
    "print(len(uncat))\n",
    "print(uncat.play_text.head(10))"
   ]
  },
  {
   "cell_type": "code",
   "execution_count": 69,
   "metadata": {},
   "outputs": [
    {
     "name": "stdout",
     "output_type": "stream",
     "text": [
      "['Rush' 'Pass Incompletion' 'Timeout' 'Penalty' 'Punt Return'\n",
      " 'Pass Interception' 'Pass Completion' 'Uncategorized' 'End Period'\n",
      " 'Fumble Recovery (Own)' 'Sack' 'Fumble Recovery (Opponent)'\n",
      " 'Interception Return Touchdown' 'Blocked Punt' 'Safety'\n",
      " 'Blocked Punt Touchdown' 'Blocked Field Goal' 'Punt Return Touchdown'\n",
      " 'Fumble Return Touchdown' 'Blocked Field Goal Touchdown' 'Punt' 'Pass'\n",
      " 'Field Goal Good' 'Field Goal Missed' 'Pass Reception'\n",
      " 'Passing Touchdown' 'Rushing Touchdown' 'Pass Interception Return'\n",
      " 'End of Half' 'End of Game' 'Missed Field Goal Return' 'Interception'\n",
      " 'Missed Field Goal Return Touchdown']\n"
     ]
    }
   ],
   "source": [
    "print(df.play_type.unique())"
   ]
  },
  {
   "cell_type": "code",
   "execution_count": 74,
   "metadata": {},
   "outputs": [
    {
     "name": "stdout",
     "output_type": "stream",
     "text": [
      "4551\n",
      "4551\n"
     ]
    }
   ],
   "source": [
    "# fix uncategorized\n",
    "print(len(df.loc[df.play_type=='Uncategorized']))\n",
    "df['XP'] = np.where((df['play_type']=='Uncategorized')&(df['play_text'].str.contains('Extra point by')),1,0)\n",
    "df['FG'] = np.where((df['play_type']=='Uncategorized')&(df['play_text'].str.contains('yard field goal by')),1,0)\n",
    "df['FG/XP'] = df['XP'] + df['FG']\n",
    "\n",
    "df['FG/XP Good'] = np.where((df['FG/XP']==1)&(df['play_text'].str.contains('is good')),1,0)\n",
    "df['FG/XP Not Good'] = np.where((df['FG/XP']==1)&(df['FG/XP Good']==0),1,0)\n",
    "\n",
    "df.loc[(df['FG'] == 1) & (df['FG/XP Good']==1), ['play_type']] =['Field Goal Good']\n",
    "df.loc[(df['FG'] == 1) & (df['FG/XP Good']==1), ['play_type']] =['Field Goal Missed']\n",
    "\n",
    "print(len(df.loc[df.play_type=='Uncategorized']))"
   ]
  },
  {
   "cell_type": "code",
   "execution_count": null,
   "metadata": {},
   "outputs": [],
   "source": []
  }
 ],
 "metadata": {
  "kernelspec": {
   "display_name": "Python 3",
   "language": "python",
   "name": "python3"
  },
  "language_info": {
   "codemirror_mode": {
    "name": "ipython",
    "version": 3
   },
   "file_extension": ".py",
   "mimetype": "text/x-python",
   "name": "python",
   "nbconvert_exporter": "python",
   "pygments_lexer": "ipython3",
   "version": "3.7.4"
  }
 },
 "nbformat": 4,
 "nbformat_minor": 2
}
