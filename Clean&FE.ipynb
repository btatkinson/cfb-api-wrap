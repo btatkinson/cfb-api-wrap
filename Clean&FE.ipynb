{
 "cells": [
  {
   "cell_type": "code",
   "execution_count": 1,
   "metadata": {},
   "outputs": [],
   "source": [
    "import pandas as pd\n",
    "import numpy as np \n",
    "import datetime\n",
    "import math\n",
    "import gc\n",
    "import datetime\n",
    "gc.collect()\n",
    "\n",
    "from tqdm import tqdm"
   ]
  },
  {
   "cell_type": "markdown",
   "metadata": {},
   "source": [
    "# Load Data"
   ]
  },
  {
   "cell_type": "code",
   "execution_count": 2,
   "metadata": {},
   "outputs": [
    {
     "name": "stderr",
     "output_type": "stream",
     "text": [
      "100%|██████████| 14/14 [00:32<00:00,  3.10s/it]"
     ]
    },
    {
     "name": "stdout",
     "output_type": "stream",
     "text": [
      "(2031893, 41)\n",
      "2031893 plays were loaded\n"
     ]
    },
    {
     "name": "stderr",
     "output_type": "stream",
     "text": [
      "\n"
     ]
    }
   ],
   "source": [
    "# load play by play & drive data\n",
    "years = list(range(2005, int(datetime.datetime.now().year)))\n",
    "\n",
    "df = pd.DataFrame()\n",
    "for year in tqdm(years):\n",
    "    path = './output/'+str(year)+'/'+str(year)+'_pbp.csv'\n",
    "    sea_df = pd.read_csv(path)\n",
    "    \n",
    "    drive_path = './output/'+str(year)+'/'+str(year)+'_drives.csv'\n",
    "    drive_df = pd.read_csv(drive_path)\n",
    "    \n",
    "    drive_df = drive_df.rename(columns={'id':'drive_id'})\n",
    "    \n",
    "    sea_df = pd.merge(left=sea_df, right=drive_df, how='left', on=['drive_id','drive_id'])\n",
    "    df = pd.concat([df,sea_df])\n",
    "\n",
    "num_plays = len(df)\n",
    "print(df.shape)\n",
    "print(str(num_plays) + \" plays were loaded\")"
   ]
  },
  {
   "cell_type": "code",
   "execution_count": 3,
   "metadata": {},
   "outputs": [],
   "source": [
    "# offense_x seems to be correct while offense_y is not\n",
    "\n",
    "df = df.drop(columns=['defense_y','defense_conference_y','offense_y','offense_conference_y'])\n",
    "\n",
    "df = df.rename(columns={'defense_x':'defense','defense_conference_x':'defense_conference','offense_x':'offense','offense_conference_x':'offense_conference'})\n"
   ]
  },
  {
   "cell_type": "code",
   "execution_count": 4,
   "metadata": {},
   "outputs": [],
   "source": [
    "# fix yard_line, it's w.r.t the home team\n",
    "df = df.rename(columns={'yard_line':'wrong_yardline'})\n",
    "\n",
    "df['yard_line'] = np.where(df['offense']==df['home'],df['wrong_yardline'],100-df['wrong_yardline'])\n",
    "# print(df[['home','offense','yard_line','wrong_yardline']].head(50))\n",
    "df = df.drop(columns=['wrong_yardline'])"
   ]
  },
  {
   "cell_type": "markdown",
   "metadata": {},
   "source": [
    "## Special Teams\n",
    "\n",
    "I'll do special teams and overtimes in future work. Right now, keeping it simple."
   ]
  },
  {
   "cell_type": "code",
   "execution_count": 5,
   "metadata": {},
   "outputs": [
    {
     "name": "stdout",
     "output_type": "stream",
     "text": [
      "2031893\n",
      "1871043\n"
     ]
    }
   ],
   "source": [
    "print(len(df))\n",
    "nah = ['2pt Conversion','Kickoff','Kickoff Return (Offense)','Kickoff Return Touchdown',\n",
    "      'Offensive 1pt Safety','Defensive 2pt Conversion','Extra Point Good','Extra Point Missed']\n",
    "\n",
    "df = df.loc[~df.play_type.isin(nah)]\n",
    "print(len(df))"
   ]
  },
  {
   "cell_type": "code",
   "execution_count": 6,
   "metadata": {},
   "outputs": [
    {
     "name": "stdout",
     "output_type": "stream",
     "text": [
      "1864121\n"
     ]
    }
   ],
   "source": [
    "# also drop overtime\n",
    "\n",
    "df = df.loc[(df.period > 0) & (df.period <= 4)]\n",
    "print(len(df))\n"
   ]
  },
  {
   "cell_type": "markdown",
   "metadata": {},
   "source": [
    "## Clock\n",
    "\n",
    "Clock data is unreliable because maybe 25% of the games have only have one time for each play, and that time is when the drive started. I played with trying to predict time per play based on play type, but the data was very messy. So I decided to get the total time of each drive, and then assume each play took the same amount of time. EPA shouldn't be significantly affected most of the time, i.e. a 70 yard pass will be considered a good play no matter what. The only time it might have an adverse effect is toward the end of a game, when seconds matter. I think that in college football, when the clock stops for a first down, and incompletions, that all pass plays probably do take a somewhat similar amount of time. Drives in this situation will consist mostly of the same play type, and plays of the same play type likely take similar amounts of time. I'll compare it to the clock data I do have to make sure."
   ]
  },
  {
   "cell_type": "code",
   "execution_count": 7,
   "metadata": {},
   "outputs": [],
   "source": [
    "# fix clock data first so drives can be figured out\n",
    "time_cols = ['clock.minutes','clock.seconds','start_time.minutes','start_time.seconds',\n",
    "            'end_time.minutes','end_time.seconds']\n",
    "for tc in time_cols:\n",
    "    df[tc] = df[tc].fillna(0)\n",
    "\n",
    "# get time remaining in game\n",
    "df['tr_game'] = (4-df['period']) * 900 + (df['clock.minutes'] * 60) + df['clock.seconds']\n",
    "df['tr_half'] = np.where(df['period']>2,df['tr_game'], df['tr_game']-1800)\n",
    "\n",
    "df = df.drop(columns=['clock.minutes','clock.seconds'])"
   ]
  },
  {
   "cell_type": "code",
   "execution_count": 8,
   "metadata": {},
   "outputs": [],
   "source": [
    "# fill empties\n",
    "df['elapsed.minutes'] = df['elapsed.minutes'].copy().fillna(0)\n",
    "df['elapsed.seconds'] = df['elapsed.seconds'].copy().fillna(0)\n",
    "df['drive_time'] = 60*df['elapsed.minutes'] + df['elapsed.seconds']"
   ]
  },
  {
   "cell_type": "code",
   "execution_count": 9,
   "metadata": {},
   "outputs": [
    {
     "name": "stdout",
     "output_type": "stream",
     "text": [
      "8969\n",
      "275461\n",
      "146.12538980109707\n"
     ]
    }
   ],
   "source": [
    "# a lot of those drive times are negative... and other problems. so here's an alt drive time\n",
    "# alt clock\n",
    "\n",
    "# these get the start and end time of every drive\n",
    "maxs = df.groupby(['game_id','drive_id'])['tr_game'].max().reset_index()\n",
    "mins = df.groupby(['game_id','drive_id'])['tr_game'].min().reset_index()\n",
    "maxs = maxs.rename(columns={'tr_game':'drive_start'})\n",
    "mins = mins.rename(columns={'tr_game':'drive_end'})\n",
    "\n",
    "# sometimes the drive end time is the same as the drive start. in that case, I use the next drive start\n",
    "maxs = maxs.sort_values(by=['game_id','drive_start'],ascending=False)\n",
    "next_max = maxs.groupby(['game_id'])['drive_start'].shift(-1)\n",
    "next_max = pd.Series(next_max, name='next_drive_start')\n",
    "new_max = pd.concat([maxs, next_max], axis=1)\n",
    "new_max['next_drive_start'] = new_max['next_drive_start'].fillna(0)\n",
    "\n",
    "# sometimes (rarely, 2%ish of the time) both the next drive start and the drive end are the same as the drive start\n",
    "# in that case, as a last resort, i use the next drive end time. \n",
    "# i'm fairly sure most of the time it's when a timeout or something divides the same drive into two.\n",
    "# i can explore this more in future work\n",
    "mins = mins.sort_values(by=['game_id','drive_end'],ascending=False)\n",
    "next_min = mins.groupby(['game_id'])['drive_end'].shift(-1)\n",
    "next_min = pd.Series(next_min, name='next_drive_end')\n",
    "new_min = pd.concat([mins, next_min], axis=1)\n",
    "new_min['next_drive_end'] = new_min['next_drive_end'].fillna(0)\n",
    "new_min = new_min.drop(columns='game_id')\n",
    "times = pd.merge(left=new_max,right=new_min,on=['drive_id','drive_id'],how='left')\n",
    "\n",
    "\n",
    "# attempt 1 (works on ~95.5% of data)\n",
    "times['drive_time_1'] = times['drive_start']-times['next_drive_start']\n",
    "# plan B (95.8% of data)\n",
    "times['drive_time'] = np.where(times['drive_time_1']>0,times['drive_time_1'],(times['drive_start']-times['drive_end']))\n",
    "# last resort (didn't implement)\n",
    "# times['drive_time'] = np.where(times['drive_time_2']>0,times['drive_time_2'],(times['drive_start']-times['next_drive_end']))\n",
    "\n",
    "not_good = times.loc[times.drive_time<=0]\n",
    "print(len(not_good))\n",
    "\n",
    "good = times.loc[times.drive_time>0]\n",
    "print(len(good))\n",
    "\n",
    "print(good.drive_time.mean())\n",
    "\n",
    "times = times[['drive_id','drive_time']]\n",
    "times = times.rename(columns={'drive_time':'alt_drive_time'})\n"
   ]
  },
  {
   "cell_type": "code",
   "execution_count": 10,
   "metadata": {},
   "outputs": [],
   "source": [
    "df = pd.merge(left=df,right=times,how='left',on=['drive_id','drive_id'])\n"
   ]
  },
  {
   "cell_type": "code",
   "execution_count": 11,
   "metadata": {},
   "outputs": [
    {
     "name": "stdout",
     "output_type": "stream",
     "text": [
      "1844449\n",
      "correlation between primary and approximate drive time\n",
      "                drive_time  alt_drive_time\n",
      "drive_time        1.000000        0.855643\n",
      "alt_drive_time    0.855643        1.000000\n"
     ]
    }
   ],
   "source": [
    "# longest drive in CFB history is 882. so need to drop anything above 900\n",
    "# also drop anything below or equal to 0\n",
    "\n",
    "df['correct_time_1'] = np.where(df['drive_time'] > 0, df['drive_time'], df['alt_drive_time'])\n",
    "\n",
    "df = df.loc[df['correct_time_1'] > 0]\n",
    "\n",
    "df['correct_drive_time'] = np.where(df['drive_time'] < 900, df['drive_time'], df['alt_drive_time'])\n",
    "\n",
    "df = df.loc[df['correct_drive_time'] < 900]\n",
    "\n",
    "print(len(df))\n",
    "\n",
    "print(\"correlation between primary and approximate drive time\")\n",
    "print(df[['drive_time','alt_drive_time','correct_drive_time']].corr())\n",
    "\n",
    "df = df.drop(columns=['drive_time','alt_drive_time','correct_time_1'])\n",
    "df = df.rename(columns={'correct_drive_time':'drive_time'})"
   ]
  },
  {
   "cell_type": "code",
   "execution_count": null,
   "metadata": {},
   "outputs": [],
   "source": [
    "print(len(df))\n",
    "df = df.dropna(subset=['play_text'])\n",
    "print(len(df))"
   ]
  },
  {
   "cell_type": "markdown",
   "metadata": {},
   "source": [
    "# some objectives\n",
    "\n",
    "1) fix \"uncategorized\" play type  \n",
    "2) aggregate, clean, validate all play types  \n",
    "3) fix \"uncategorized\" drive results  \n",
    "4) aggregate, clean, validate all drive results  \n",
    "5) compare play types to drive results to make sure they match"
   ]
  },
  {
   "cell_type": "code",
   "execution_count": 12,
   "metadata": {},
   "outputs": [],
   "source": [
    "# fixing uncategorized play types\n",
    "\n",
    "base = r'^{}'\n",
    "expr = '(?=.*{})'\n",
    "words = ['End', 'of', 'Quarter']\n",
    "end_period = base.format(''.join(expr.format(w) for w in words))\n",
    "\n",
    "df.loc[(df.play_type=='Uncategorized')&(df.play_text.str.contains(end_period,regex=True)), 'play_type'] = 'End Period'\n",
    "\n",
    "words = ['fumbled','run', 'for']\n",
    "fumbles = base.format(''.join(expr.format(w) for w in words))\n",
    "\n",
    "df.loc[(df.play_type=='Uncategorized')&(df.play_text.str.contains(fumbles,regex=True)), 'play_type'] = 'Fumble Recovery (Own)'\n",
    "\n",
    "df.loc[(df.play_type=='Uncategorized')&(df.play_text.str.contains('Penalty')), 'play_type'] = 'Penalty'\n"
   ]
  },
  {
   "cell_type": "code",
   "execution_count": 13,
   "metadata": {},
   "outputs": [
    {
     "name": "stdout",
     "output_type": "stream",
     "text": [
      "how many uncategorized plays are left?\n",
      "0\n"
     ]
    }
   ],
   "source": [
    "# fix individual\n",
    "# many of the ones left are fumbles, and then something\n",
    "df.loc[(df.play_type=='Uncategorized')&(df.play_text.str.contains('recovered by UTEP Aaron Jones')), 'play_type'] = 'Penalty'\n",
    "\n",
    "df.loc[(df.play_type=='Uncategorized')&(df.play_text.str.contains('intercepted')), 'play_type'] = 'Pass Interception'\n",
    "\n",
    "df.loc[(df.play_type=='Uncategorized')&(df.play_text.str.contains('SAFETY')), 'play_type'] = 'Safety'\n",
    "\n",
    "words = ['fumbled','pass', 'complete']\n",
    "complete = base.format(''.join(expr.format(w) for w in words))\n",
    "df.loc[(df.play_type=='Uncategorized')&(df.play_text.str.contains(complete,regex=True)), 'play_type'] = 'Pass Completion'\n",
    "\n",
    "words = ['TD','punt', 'blocked']\n",
    "td_pb = base.format(''.join(expr.format(w) for w in words))\n",
    "df.loc[(df.play_type=='Uncategorized')&(df.play_text.str.contains(td_pb,regex=True)), 'play_type'] = 'Blocked Punt Touchdown'\n",
    "\n",
    "\n",
    "words = ['run','for', 'TD']\n",
    "run_td = base.format(''.join(expr.format(w) for w in words))\n",
    "df.loc[(df.play_type=='Uncategorized')&(df.play_text.str.contains(run_td,regex=True)), 'play_type'] = 'Rushing Touchdown'\n",
    "\n",
    "df.loc[(df.play_type=='Uncategorized')&(df.down==4), 'play_type'] = 'Punt'\n",
    "\n",
    "words = ['return','for', 'TD']\n",
    "fumb_td = base.format(''.join(expr.format(w) for w in words))\n",
    "df.loc[(df.play_type=='Uncategorized')&(df.play_text.str.contains(fumb_td,regex=True)), 'play_type'] = 'Fumble Return Touchdown'\n",
    "\n",
    "df.loc[(df.play_type=='Uncategorized')&df.play_text.str.contains('return for'), 'play_type'] = 'Fumble Recovery (Opponent)'\n",
    "\n",
    "df.loc[(df.play_type=='Uncategorized')&df.play_text.str.contains('run for'), 'play_type'] = 'Rush'\n",
    "\n",
    "print(\"how many uncategorized plays are left?\")\n",
    "print(len(df.loc[df['play_type']=='Uncategorized']))\n"
   ]
  },
  {
   "cell_type": "code",
   "execution_count": 14,
   "metadata": {},
   "outputs": [],
   "source": [
    "nah_part_2 = ['End Period','End of Half','End of Game']\n",
    "df = df.loc[~df.play_type.isin(nah_part_2)]"
   ]
  },
  {
   "cell_type": "code",
   "execution_count": 15,
   "metadata": {},
   "outputs": [
    {
     "data": {
      "text/plain": [
       "play_type\n",
       "Blocked Field Goal                       446\n",
       "Blocked Field Goal Touchdown              24\n",
       "Blocked Punt                             347\n",
       "Blocked Punt Touchdown                    19\n",
       "Field Goal Good                        24021\n",
       "Field Goal Missed                       8758\n",
       "Fumble Recovery (Opponent)              3671\n",
       "Fumble Recovery (Own)                   4322\n",
       "Fumble Return Touchdown                  147\n",
       "Interception                               2\n",
       "Interception Return Touchdown            822\n",
       "Missed Field Goal Return                  20\n",
       "Missed Field Goal Return Touchdown         3\n",
       "Pass                                   41599\n",
       "Pass Completion                       225748\n",
       "Pass Incompletion                     246884\n",
       "Pass Interception                      11407\n",
       "Pass Interception Return                6680\n",
       "Pass Reception                        144382\n",
       "Passing Touchdown                      13821\n",
       "Penalty                                97556\n",
       "Punt                                  107899\n",
       "Punt Return Touchdown                     52\n",
       "Rush                                  769604\n",
       "Rushing Touchdown                      14991\n",
       "Sack                                   36513\n",
       "Safety                                   730\n",
       "Timeout                                67056\n",
       "Name: down, dtype: int64"
      ]
     },
     "execution_count": 15,
     "metadata": {},
     "output_type": "execute_result"
    }
   ],
   "source": [
    "gb = df.groupby(['play_type'])['down'].count()\n",
    "gb"
   ]
  },
  {
   "cell_type": "markdown",
   "metadata": {},
   "source": [
    "1) fix uncategorized play type (check)  \n",
    "2) clean/validate/aggregate play types\n"
   ]
  },
  {
   "cell_type": "code",
   "execution_count": 16,
   "metadata": {},
   "outputs": [
    {
     "name": "stdout",
     "output_type": "stream",
     "text": [
      "There are a few!\n",
      "11\n",
      "All are defensive scores\n"
     ]
    }
   ],
   "source": [
    "# start with the top: blocked FG. make sure none are touchdowns\n",
    "bfg = df.loc[(df.play_type=='Blocked Field Goal')&(df.play_text.str.contains('TOUCHDOWN|touchdown|Touchdown|TD'))]\n",
    "\n",
    "print(\"There are a few!\")\n",
    "print(len(bfg))\n",
    "print(\"All are defensive scores\")\n",
    "\n",
    "df.loc[((df.play_type=='Blocked Field Goal')&(df.play_text.str.contains('TOUCHDOWN|touchdown|Touchdown|TD'))), 'play_type']='Blocked Field Goal Touchdown'\n",
    "\n",
    "del bfg"
   ]
  },
  {
   "cell_type": "code",
   "execution_count": 17,
   "metadata": {},
   "outputs": [
    {
     "name": "stdout",
     "output_type": "stream",
     "text": [
      "92\n",
      "punts to fix\n",
      "fixed\n"
     ]
    }
   ],
   "source": [
    "# same thing for blocked punt\n",
    "bp = df.loc[(df.play_type=='Blocked Punt')&(df.play_text.str.contains('TOUCHDOWN|touchdown|Touchdown|TD'))]\n",
    "\n",
    "print(len(bp))\n",
    "print(\"punts to fix\")\n",
    "\n",
    "# pretty safe to assume these are all defensive\n",
    "df.loc[((df.play_type=='Blocked Punt')&(df.play_text.str.contains('TOUCHDOWN|touchdown|Touchdown|TD'))), 'play_type']='Blocked Punt Touchdown'\n",
    "\n",
    "print('fixed')\n",
    "del bp"
   ]
  },
  {
   "cell_type": "code",
   "execution_count": 18,
   "metadata": {},
   "outputs": [
    {
     "name": "stdout",
     "output_type": "stream",
     "text": [
      "68\n",
      "fumble recoveries that were TDs\n"
     ]
    }
   ],
   "source": [
    "# regular FG missed, verify they weren't blocked/touchdown (all good)\n",
    "# mfg = df.loc[(df.play_type=='FG Missed')&(df.play_text.str.contains('Blocked|BLOCKED|blocked'))]\n",
    "# mfg = df.loc[(df.play_type=='FG Missed')&(df.play_text.str.contains('TOUCHDOWN|touchdown|Touchdown|TD'))]\n",
    "\n",
    "# check Fumble Recovery (Opponent)\n",
    "fro = df.loc[(df.play_type=='Fumble Recovery (Opponent)')&(df.play_text.str.contains('TOUCHDOWN|touchdown|Touchdown|TD'))]\n",
    "\n",
    "print(len(fro))\n",
    "print(\"fumble recoveries that were TDs\")\n",
    "\n",
    "# i think all but 1 or two are defensive, don't know a good way to sort those out\n",
    "df.loc[(df.play_type=='Fumble Recovery (Opponent)')&(df.play_text.str.contains('TOUCHDOWN|touchdown|Touchdown|TD')), 'play_type'] = 'Fumble Return Touchdown'\n",
    "\n",
    "del fro\n"
   ]
  },
  {
   "cell_type": "code",
   "execution_count": 19,
   "metadata": {},
   "outputs": [],
   "source": [
    "# standardize\n",
    "df.loc[df.play_type=='Interception', 'play_type'] = 'Pass Interception'\n"
   ]
  },
  {
   "cell_type": "code",
   "execution_count": 20,
   "metadata": {},
   "outputs": [
    {
     "name": "stdout",
     "output_type": "stream",
     "text": [
      "18\n",
      "own fumble recoveries that were TDs\n"
     ]
    }
   ],
   "source": [
    "fro = df.loc[(df.play_type=='Fumble Recovery (Own)')&(df.play_text.str.contains('TOUCHDOWN|touchdown|Touchdown|TD'))]\n",
    "\n",
    "print(len(fro))\n",
    "print(\"own fumble recoveries that were TDs\")\n",
    "\n",
    "df.loc[(df.play_type=='Fumble Recovery (Opponent)')&(df.play_text.str.contains('TOUCHDOWN|touchdown|Touchdown|TD')), 'play_type'] = 'Rushing Touchdown'\n",
    "\n",
    "# missed field goal returns are gucci"
   ]
  },
  {
   "cell_type": "code",
   "execution_count": 21,
   "metadata": {},
   "outputs": [],
   "source": [
    "# check pass for random stuff\n",
    "pa = df.loc[(df.play_type=='Pass')&(df.play_text.str.contains('TOUCHDOWN|touchdown|Touchdown|TD'))]\n",
    "\n",
    "pa = pa.loc[(~pa.play_text.str.contains('intercepted|Intercepted|INTERCEPTED'))&\n",
    "            (~pa.play_text.str.contains('fumbled'))&\n",
    "            (~pa.play_text.str.contains('Penalty|PENALTY|penalty'))&\n",
    "            (~pa.play_text.str.contains('TTD'))]\n",
    "\n",
    "pa_ids = list(pa.id.values)\n",
    "\n",
    "df.loc[df.id.isin(pa_ids), 'play_type'] = 'Passing Touchdown'"
   ]
  },
  {
   "cell_type": "code",
   "execution_count": 22,
   "metadata": {},
   "outputs": [],
   "source": [
    "pa = df.loc[(df.play_type=='Pass')&(df.play_text.str.contains('TOUCHDOWN|touchdown|Touchdown|TD'))]\n",
    "\n",
    "pa = pa.loc[((pa.play_text.str.contains('Penalty|PENALTY|penalty'))&\n",
    "        (pa.play_text.str.contains('ACCEPTED|accepted|Accepted')))]\n",
    "\n",
    "pa_ids = list(pa.id.values)\n",
    "df.loc[df.id.isin(pa_ids), 'play_type'] = 'Penalty'\n"
   ]
  },
  {
   "cell_type": "code",
   "execution_count": 23,
   "metadata": {},
   "outputs": [],
   "source": [
    "pa = df.loc[(df.play_type=='Pass')&(df.play_text.str.contains('TOUCHDOWN|touchdown|Touchdown|TD'))]\n",
    "\n",
    "pa = pa.loc[pa.play_text.str.contains('intercepted|Intercepted|INTERCEPTED')]\n",
    "\n",
    "pa_ids = list(pa.id.values)\n",
    "df.loc[df.id.isin(pa_ids), 'play_type'] = 'Interception Return Touchdown'"
   ]
  },
  {
   "cell_type": "code",
   "execution_count": 24,
   "metadata": {},
   "outputs": [],
   "source": [
    "pa = df.loc[(df.play_type=='Pass')&(df.play_text.str.contains('TOUCHDOWN|touchdown|Touchdown|TD'))]\n",
    "\n",
    "pa = pa.loc[pa.play_text.str.contains('fumbled')]\n",
    "\n",
    "fbr_ids = list(pa.loc[pa.drive_result=='FUMBLE RETURN TD'].id.values)\n",
    "df.loc[df.id.isin(fbr_ids),'play_type'] = 'Fumble Return Touchdown'\n",
    "\n",
    "fbr_ids = list(pa.loc[pa.drive_result=='PASSING TD'].id.values)\n",
    "df.loc[df.id.isin(fbr_ids),'play_type'] = 'Passing Touchdown'\n",
    "\n"
   ]
  },
  {
   "cell_type": "code",
   "execution_count": 40,
   "metadata": {},
   "outputs": [
    {
     "data": {
      "text/plain": [
       "69"
      ]
     },
     "execution_count": 40,
     "metadata": {},
     "output_type": "execute_result"
    }
   ],
   "source": [
    "pa = df.loc[(df.play_type=='Pass')&(df.play_text.str.contains('TOUCHDOWN|touchdown|Touchdown|TD'))]\n",
    "\n",
    "pa = pa.loc[pa.play_text.str.contains('fumbled')]\n",
    "\n",
    "# slightly guessing but i think it's right\n",
    "\n",
    "ptd = pa.loc[pa.play_text.str.contains('pass complete')]\n",
    "ptd_ids = list(ptd.id.values)\n",
    "df.loc[df.id.isin(ptd_ids), 'play_type'] = 'Passing Touchdown'\n",
    "\n",
    "pa = df.loc[(df.play_type=='Pass')&(df.play_text.str.contains('TOUCHDOWN|touchdown|Touchdown|TD'))]\n",
    "pa_ids = list(pa.id.values)\n",
    "df.loc[df.id.isin(pa_ids), 'play_type'] = 'Fumble Return Touchdown'\n",
    "\n",
    "del pa\n",
    "gc.collect()"
   ]
  },
  {
   "cell_type": "code",
   "execution_count": 26,
   "metadata": {},
   "outputs": [],
   "source": [
    "# change rushing tds categorized as 'rush' to rushing tds\n",
    "rush = df.loc[(df.play_type=='Rush')&(df.play_text.str.contains('TOUCHDOWN|touchdown|Touchdown|TD'))]\n",
    "# for penalties that don't stop a touchdown\n",
    "words = ['0 yard','accepted']\n",
    "pens = base.format(''.join(expr.format(w) for w in words))\n",
    "rush_tds = rush.loc[(~rush.play_text.str.contains('Penalty|PENALTY|penalty')) | (rush.play_text.str.contains('declined|DECLINED') | (rush.play_text.str.contains(pens)))]\n",
    "rush_tds = rush_tds.loc[~rush.play_text.str.contains('fumbled')]\n",
    "rtd_ids = list(rush_tds.id.values)\n",
    "df.loc[df.id.isin(rtd_ids),'play_type'] = 'Rushing Touchdown'\n",
    "\n",
    "del rush_tds\n",
    "# rtd_ids = list(rush_tds.id.values)"
   ]
  },
  {
   "cell_type": "code",
   "execution_count": 27,
   "metadata": {},
   "outputs": [],
   "source": [
    "# some fumble 6 rushes that need to be categorized as such\n",
    "\n",
    "rush = df.loc[(df.play_type=='Rush')&(df.play_text.str.contains('TOUCHDOWN|touchdown|Touchdown|TD'))]\n",
    "words = ['fumbled','returned by']\n",
    "ftds = base.format(''.join(expr.format(w) for w in words))\n",
    "fumble_tds = rush.loc[(rush.play_text.str.contains(ftds))]\n",
    "\n",
    "fbtd_ids = list(fumble_tds.id.values)\n",
    "df.loc[df.id.isin(fbtd_ids),'play_type'] = 'Fumble Return Touchdown'\n",
    "\n",
    "words = ['fumbled','loss of']\n",
    "ftds = base.format(''.join(expr.format(w) for w in words))\n",
    "fumble_tds = rush.loc[(rush.play_text.str.contains(ftds))]\n",
    "\n",
    "fbtd_ids = list(fumble_tds.id.values)\n",
    "df.loc[df.id.isin(fbtd_ids),'play_type'] = 'Fumble Return Touchdown'\n",
    "\n",
    "# subset of fumble 6s always say 'to the {other team} 0' \n",
    "words = ['to the','0']\n",
    "ftds = base.format(''.join(expr.format(w) for w in words))\n",
    "fumble_tds = rush.loc[(rush.play_text.str.contains(ftds))]\n",
    "\n",
    "fbtd_ids = list(fumble_tds.id.values)\n",
    "df.loc[df.id.isin(fbtd_ids),'play_type'] = 'Fumble Return Touchdown'"
   ]
  },
  {
   "cell_type": "code",
   "execution_count": 28,
   "metadata": {},
   "outputs": [],
   "source": [
    "df.loc[((df.play_type=='Rush')&(df.play_text.str.contains('penalty|PENALTY|Penalty'))), 'play_type'] = 'Penalty'\n",
    "\n"
   ]
  },
  {
   "cell_type": "code",
   "execution_count": 29,
   "metadata": {},
   "outputs": [],
   "source": [
    "# hard to determine which fumbles go for offensive TD vs defensive TD from just play text\n",
    "# lean on drive result\n",
    "\n",
    "df.loc[(df.play_type=='Rush')&(df.drive_result=='RUSHING TD'), 'play_type'] = 'Rushing Touchdown'\n",
    "\n",
    "df.loc[(df.play_type=='Rush')&(df.drive_result=='FUMBLE RETURN TD'), 'play_type'] = 'Fumble Return Touchdown'\n",
    "\n",
    "# i verified these\n",
    "df.loc[((df.play_type=='Rush')&(df.yard_line>90)&(df.play_text.str.contains('TOUCHDOWN|touchdown|Touchdown|TD'))), 'play_type'] = 'Rushing Touchdown'\n",
    "\n",
    "# rest seem to be defensive. might be one or two offensive that leaked through\n",
    "\n",
    "df.loc[((df.play_type=='Rush')&(df.play_text.str.contains('TOUCHDOWN|touchdown|Touchdown|TD'))), 'play_type'] = 'Fumble Return Touchdown'\n",
    "                               \n"
   ]
  },
  {
   "cell_type": "code",
   "execution_count": 30,
   "metadata": {},
   "outputs": [
    {
     "name": "stdout",
     "output_type": "stream",
     "text": [
      "3\n"
     ]
    }
   ],
   "source": [
    "clean = ['Pass','Rush']\n",
    "sa = df.loc[(df.play_type.isin(clean))&(df.play_text.str.contains('Safety|safety|SAFETY'))]\n",
    "sa_ids = list(sa.id.values)\n",
    "print(len(sa))\n",
    "df.loc[df.id.isin(sa_ids), 'play_type'] = 'Safety'"
   ]
  },
  {
   "cell_type": "code",
   "execution_count": 42,
   "metadata": {},
   "outputs": [],
   "source": [
    "df.loc[(df.play_type=='Pass')&(df.play_text.str.contains('incomplete')), 'play_type'] = 'Pass Incompletion'\n",
    "df.loc[(df.play_type=='Pass')&(df.play_text.str.contains('complete')), 'play_type'] = 'Pass Completion'\n",
    "df.loc[(df.play_type=='Pass')&(df.play_text.str.contains('intercepted')), 'play_type'] = 'Interception'\n",
    "df.loc[(df.play_type=='Pass')&(df.play_text.str.contains('sacked')), 'play_type'] = 'Sack'\n",
    "    "
   ]
  },
  {
   "cell_type": "code",
   "execution_count": 43,
   "metadata": {},
   "outputs": [
    {
     "name": "stdout",
     "output_type": "stream",
     "text": [
      "225\n",
      "Bernard Morris, fumbled by Bernard Morris at the MMC 34, recovered by Team to the MMC 34.\n",
      "Steven Moffett, fumbled by Steven Moffett at the SSI 35, recovered by Team to the SSI 35.\n",
      "Nate Longshore, fumbled by Nate Longshore at the CCD 26, recovered by Justin Forsett to the CCD 26.\n",
      "Daymeion Hughes, fumbled by Daymeion Hughes at the CCD 27, recovered by James Henderson to the CCD 27.\n",
      "nan\n",
      "nan\n",
      "Donovan Woods, fumbled by Donovan Woods at the MMV 27, recovered by Team to the MMV 27.\n",
      "Travis Lulay, fumbled by Travis Lulay at the MMV 36, recovered by Travis Lulay to the MMV 36.\n",
      "Travis Lulay, fumbled by Travis Lulay at the MMV 38, recovered by Travis Lulay to the MMV 38.\n",
      "Travis Lulay, fumbled by Travis Lulay at the MMV 38, recovered by Travis Lulay to the MMV 38.\n",
      "Kole McKamey, fumbled by Kole McKamey at the NNH 30, recovered by Kole McKamey to the NNH 30.\n",
      "Jamarcu Russell, fumbled at the LSU 19, recovered by Michael Jones at the LSU 19.\n",
      "Quinton Porter, fumbled at the BC 8, recovered by Team at the BC 8.\n",
      "Charlie Whitehurst, fumbled at the Clem 31, recovered by Jad Dean at the Clem 31.\n",
      "Paul Smith, fumbled at the Okla 44, recovered by Team at the Okla 44.\n",
      "Pat White, fumbled at the WVirg 30, recovered by Steve Weedon at the WVirg 30.\n",
      "Josh Collier, fumbled at the WVirg 25, recovered by Craig Wilson at the WVirg 25.\n",
      "Jason Washington, fumbled at the Mont 22, recovered by Lex Hilliard at the Mont 22.\n",
      "Kellen Clemens, fumbled at the Oregn 38, recovered by Team at the Oregn 38.\n",
      "Cody Hodges, fumbled at the FlaIn 47, recovered by Team at the FlaIn 47.\n",
      "Pat Julmiste, fumbled at the SFla 35, recovered by Team at the SFla 35.\n",
      "Sam Hollenbach, fumbled at the WVirg 37, recovered by Steve Weedon at the WVirg 37.\n",
      "Jonathan Wilson, fumbled at the VMI 29, recovered by Team at the VMI 29.\n",
      "Nick Noce, fumbled at the OKSt 41, recovered by Team at the OKSt 41.\n",
      "Steve Warren, fumbled at the NoTex 15, recovered by Team at the NoTex 15.\n",
      "Stewart Sampsel, fumbled at the Buff 15, recovered by Team at the Buff 15.\n",
      "Ryan Hart, fumbled at the Buff 17, recovered by Team at the Buff 17.\n",
      "Brian Luke, fumbled at the Kans 28, recovered by Team at the Kans 28.\n",
      "Steven Britton, fumbled at the TenTc 25, recovered by Team at the TenTc 25.\n",
      "Blake Field, fumbled at the Aub 15, recovered by WKty, returned by Team for 4 yards, Chris Walker for 4 yards at the Aub 11.\n",
      "Jay Davis, fumbled at the NCSt 7, recovered by UNC at the NCSt 7.\n",
      "Will Hudgens, fumbled at the Tulsa 35, recovered by Memph at the Tulsa 35.\n",
      "Tyler Palko, fumbled at the YngSt 38, recovered by Tyler Palko at the YngSt 38.\n",
      "Tye Gunn, fumbled at the TCU 21, recovered by TCU at the TCU 21.\n",
      "Mike Schneider, fumbled at the Duke 24, recovered by UVa at the Duke 24, Duke penalty holding declined.\n",
      "Shane Steichen, fumbled at the UNLV 36, recovered by UthSt at the UNLV 36.\n",
      "Robert Johnson, fumbled at the Ark 17, recovered by DeMeco Ryans at the Ark 17.\n",
      "Steven Moffett, fumbled at the Marsh 26, recovered by Scott Wilks at the Marsh 26.\n",
      "Kent Smith, fumbled at the EMich 38, recovered by CMich at the EMich 20.\n",
      "Matt Leinart, fumbled at the Oregn 47, recovered by USC at the Oregn 47.\n",
      "Ryan Hart, fumbled at the Rutgr 16, recovered by Rutgr at the Rutgr 16.\n",
      "John Beck, fumbled at the BYU 32, recovered by Nicholas Osborn at the BYU 32.\n",
      "nan\n",
      "Brian Johnson, fumbled at the Utah 20, recovered by UNC at the Utah 20.\n",
      "Robert Reid, fumbled at the Colo 35, recovered by OKSt at the Colo 35.\n",
      "Jordan Palmer, fumbled at the Memph 16, recovered by Memph at the Memph 16.\n",
      "Jarrod Jackson, fumbled at the UNLV 35, recovered by UNLV at the UNLV 35.\n",
      "Drew Weatherford, fumbled at the WFrst 49, recovered by FSU at the WFrst 49.\n",
      "Tim Brasic, fumbled at the Illin 8, recovered by Illin at the Illin 8.\n",
      "Brad Smith, fumbled at the Misso 24, recovered by OKSt at the Misso 24.\n",
      "Robert Reid, fumbled at the OKSt 30, recovered by Misso at the OKSt 30, Oklahoma St penalty holding declined.\n",
      "Robert Reid, fumbled at the Misso 48, recovered by OKSt at the Misso 48.\n",
      "Robert Reid, fumbled at the OKSt 36, recovered by OKSt at the OKSt 36.\n",
      "Tyler Palko, fumbled at the Pitt 14, recovered by Cincy at the Pitt 14.\n",
      "Adam Barmann, fumbled at the KanSt 14, recovered by KanSt, returned by Team for no gain, lateral to Alphonso Moran for no gain at the KanSt 14.\n",
      "Rick Clausen, fumbled at the Tenn 35, recovered by Rick Clausen at the Tenn 35.\n",
      "Jeff Ballard, fumbled at the TCU 36, recovered by TCU at the TCU 36.\n",
      "Corey Bramlet, fumbled at the TCU 2, recovered by Eric Buchanan, returned by Eric Buchanan for 19 yards at the TCU 21.\n",
      "Corey Bramlet, fumbled at the TCU 17, recovered by TCU at the TCU 17.\n",
      "Robert Johnson, fumbled at the Aub 21, recovered by Aub, returned by Team for no gain, lateral to Karibi Dede for no gain at the Aub 21.\n",
      "John Stocco, fumbled at the Wisc 32, recovered by Wisc at the Wisc 32.\n",
      "nan\n",
      "Bernard Morris, fumbled at the Marsh 25, recovered by Marsh at the Marsh 25.\n",
      "Brandon Jones, fumbled at the Ohio 9, recovered by David Shelby at the Ohio 9.\n",
      "nan\n",
      "nan\n",
      "Kole McKamey, fumbled at the NMex 34, recovered by Luke Chase at the NMex 34.\n",
      "Jacob Doss, fumbled at the NMex 14, recovered by Jacob Doss at the NMex 14.\n",
      "Matt Moore, fumbled at the OrgSt 20, recovered by UCLA at the OrgSt 20.\n",
      "Matthew DiLallo, fumbled at the Colo 7, recovered by Colo at the Colo 7.\n",
      "Joey Lynch, fumbled at the BalSt 2, recovered by BalSt at the BalSt 2.\n",
      "Charlie Whitehurst, fumbled at the Temp 26, recovered by Clem at the Temp 26.\n",
      "Isaiah Stanback, fumbled at the Wash 30, recovered by USC at the Wash 30.\n",
      "nan\n",
      "Drew Tate, fumbled at the Iowa 48, recovered by Iowa at the Iowa 48.\n",
      "nan\n",
      "Chris Horton, fumbled at the UCLA 2, recovered by UCLA at the UCLA 2.\n",
      "Charlie Whitehurst, fumbled at the Clem 45, recovered by GaTch at the Clem 45.\n",
      "Steven Moffett, fumbled at the UCF 26, recovered by Steven Moffett at the UCF 26.\n",
      "Ryan Hart, fumbled at the Navy 22, recovered by Darnell Stapleton at the Navy 22.\n",
      "Tim Hiller, fumbled at the WMich 37, recovered by Greg Jennings at the WMich 38.\n",
      "Jay Cutler, fumbled at the Vandy 14, recovered by Brandon Siler at the Vandy 14.\n",
      "Mike McGann, fumbled at the Temp 34, recovered by Temp at the Temp 29.\n",
      "Fritz Brayton, fumbled at the WshSt 47, recovered by ASU, returned by Team for 2 yards, lateral to Josh Golden for 2 yards at the WshSt 45.\n",
      "Brodie Croyle, fumbled at the Alab 18, recovered by Titus Brown at the Alab 18.\n",
      "Tim Hiller, fumbled at the WMich 31, recovered by EMich at the WMich 31.\n",
      "Joe Ayoob, fumbled at the Cal 34, recovered by Joe Ayoob at the Cal 34.\n",
      "Joe Ayoob, fumbled at the Oregn 15, recovered by Marshawn Lynch at the Oregn 15.\n",
      "Darrell Hackney, fumbled at the UAB 41, recovered by Glenroy Watkins at the UAB 41, Uab penalty 15 yard personal foul accepted.\n",
      "Willie Tuitama, fumbled at the Wash 24, recovered by Cody Ellis at the Wash 24.\n",
      "Rudy Carpenter, fumbled at the UCLA 25, recovered by Spencer Havner at the UCLA 25.\n",
      "Zac Taylor, fumbled at the Neb 11, recovered by Blake Seiler at the Neb 11.\n",
      "Dustin Almond, fumbled at the Houst 43, recovered by Kade Lane at the Houst 43.\n",
      "Vince Young, fumbled at the Kans 27, recovered by Texas at the Kans 27.\n",
      "Tim Brasic, fumbled at the Illin 30, recovered by Tim Brasic at the Illin 30.\n",
      "Jerod Mayo, fumbled at the Tenn 27, recovered by Tenn at the Tenn 27.\n",
      "Kevin O'Connell, fumbled at the SDSU 29, recovered by Kevin O'Connell at the SDSU 29.\n",
      "DJ Shockley, fumbled at the UGA 18, recovered by UGA at the UGA 18.\n",
      "Zack Asack, fumbled at the Duke 27, recovered by Bob Benion at the Duke 27.\n",
      "James Pinkney, fumbled at the ECaro 45, recovered by Marsh, returned by Team for 8 yards at the ECaro 37.\n",
      "Brett Basanez, fumbled at the NWest 24, recovered by NWest at the NWest 24.\n",
      "Tony Paoli, fumbled at the EMich 45, recovered by Michael Schifano at the EMich 45.\n",
      "Scott Elliott, fumbled at the Tulsa 39, recovered by Tulsa, returned by Team for 2 yards, lateral to Josh Burris for 2 yards at the Tulsa 41.\n",
      "Michael Machen, fumbled at the KentS 17, recovered by KentS at the KentS 17.\n",
      "Jorvorskie Lane, fumbled at the TexAM 28, recovered by TexAM at the TexAM 28.\n",
      "Reggie Ball, fumbled at the GaTch 43, recovered by Reggie Ball at the GaTch 43.\n",
      "Erik Ainge, fumbled at the Tenn 31, recovered by Kent at the Tenn 31.\n",
      "Curtis Pulley, fumbled at the Kent 28, recovered by Kent at the Kent 28.\n",
      "nan\n",
      "Matt Leinart, fumbled at the USC 44, recovered by Justin London at the USC 44.\n",
      "Tyler Graunke, fumbled at the Hawa 18, recovered by Kurt Kahui at the Hawa 18.\n",
      "Kevin O'Connell, fumbled at the SDSU 10, recovered by Melila Purcell at the SDSU 10.\n",
      "Fritz Jacques, fumbled at the KentS 39, recovered by Mike Sherels at the KentS 39.\n",
      "Alex Brink, fumbled at the WshSt 34, recovered by Demaundray Woolridge at the WshSt 34.\n",
      "Chase Daniel, fumbled at the MurrS 48, recovered by MurrS at the MurrS 48.\n",
      "Eric Ward, fumbled at the Duke 16, recovered by Eric Ward at the Duke 16.\n",
      "Kole McKamey, fumbled at the NMex 43, recovered by Robert Turner at the NMex 43.\n",
      "Rusty Smith, fumbled at the FlAtl 32, recovered by Kwam Williams at the FlAtl 32.\n",
      "Chase Clement, fumbled at the Rice 14, recovered by Chase Clement at the Rice 14.\n",
      "Steven Moffett, fumbled at the Nova 34, recovered by UCF at the Nova 34.\n",
      "Peter Carriere, fumbled at the Cincy 17, recovered by Peter Carriere at the Cincy 17.\n",
      "Chris Leak, fumbled at the Fla 19, recovered by Chris Leak at the Fla 19.\n",
      "Mike Kafka, fumbled at the NHamp 34, recovered by NWest at the NHamp 34.\n",
      "Will Proctor, fumbled at the Clem 33, recovered by Chansi Stuckey at the Clem 27.\n",
      "Clint Marks, fumbled at the MTSU 49, recovered by Clint Marks at the MTSU 49.\n",
      "Marcus Stone, fumbled at the NCSt 32, recovered by NCSt at the NCSt 32.\n",
      "Marcus Stone, fumbled at the NCSt 30, recovered by Toney Baker at the NCSt 32.\n",
      "Marcus Stone, fumbled at the Akron 34, recovered by Mark Groza at the Akron 34.\n",
      "Jason Manson, fumbled at the Iowa 18, recovered by Jason Manson at the Iowa 18.\n",
      "Anthony Turner, fumbled at the BowlG 26, recovered by Buff at the BowlG 26.\n",
      "Paul Thompson, fumbled at the Okla 4, recovered by Wash at the Okla 4.\n",
      "Adam Dimichele, fumbled at the Temp 30, recovered by Adam Dimichele at the Temp 30.\n",
      "Lance Kriesien, fumbled at the Utah 45, recovered by Lance Kriesien at the Utah 45.\n",
      "Tray Rutland, fumbled at the MiSt 47, recovered by Aub, returned by Team for 43 yards at the MiSt 4.\n",
      "Joe Ayoob, fumbled at the PrtSt 41, recovered by Cole Smith at the PrtSt 41.\n",
      "Dj Hernandez, fumbled at the WFrst 29, recovered by Stanley Arnoux at the WFrst 29.\n",
      "Will Proctor, fumbled at the Clem 9, recovered by Jacoby Ford at the Clem 9.\n",
      "Kellen Lewis, fumbled at the Ind 21, recovered by SoIll at the Ind 21.\n",
      "John Beck, fumbled at the BYU 42, recovered by Austin Giles at the BYU 42.\n",
      "Chris Nelson, fumbled at the NMex 19, recovered by Misso at the NMex 19.\n",
      "Woody Wilson, fumbled at the NoTex 42, recovered by NoTex at the NoTex 42.\n",
      "Daniel Meager, fumbled at the NoTex 8, recovered by Kinny Spotwood at the NoTex 8.\n",
      "Tom Zetts, fumbled at the YngSt 35, recovered by PnnSt at the YngSt 35.\n",
      " to the Duke 38.\n",
      "Steven Moffett, fumbled at the SFla 15, recovered by SFla at the SFla 15.\n",
      "Drew Willy, fumbled at the NoIll 30, recovered by Buff at the NoIll 30.\n",
      " to the SMU 21.\n",
      "Brett Hicks, fumbled at the SMU 39, recovered by Justin Smart at the SMU 39.\n",
      "Clint Marks, fumbled at the MTSU 28, recovered by Rufus Alexander at the MTSU 28.\n",
      "Zac Champion, fumbled at the TexAM 1, recovered by TexAM at the TexAM 1.\n",
      "Corey Leonard, fumbled at the ArkSt 40, recovered by SMU at the ArkSt 40.\n",
      "Blake Mitchell, fumbled at the SoCar 45, recovered by SoCar at the SoCar 45.\n",
      "Ryan Cubit, fumbled at the Temp 6, recovered by Ryan Cubit at the Temp 6.\n",
      "Adam Dimichele, fumbled at the Temp 17, recovered by Adam Dimichele at the Temp 17.\n",
      "Adam Dimichele, fumbled at the Temp 15, recovered by Zach Davidson at the Temp 15.\n",
      "Adam Dimichele, fumbled at the WMich 43, recovered by Adam Dimichele at the WMich 43.\n",
      "Vaughn Charlton, fumbled at the Temp 8, recovered by Josh Bundy at the Temp 8.\n",
      " , fumbled by Marquies Gunn at the SoCar 39, recovered by Cory Boyd at the SoCar 39, tackled by Will Herring.\n",
      "Danny Sullivan, fumbled at the ASU 17, recovered by Michael Speed at the ASU 17.\n",
      "Brady Leaf, fumbled at the ASU 22, recovered by Oregn at the ASU 22.\n",
      "Willie Tuitama, fumbled at the Ariz 40, recovered by Chris Henry at the Ariz 40.\n",
      "John Parker Wilson, fumbled at the Alab 5, recovered by Alab at the Alab 5.\n",
      "Andrew Brewer, fumbled at the PnnSt 37, recovered by Tyrell Sutton at the PnnSt 37.\n",
      "Caleb Hanie, fumbled at the Fresn 22, recovered by Fresn at the Fresn 22.\n",
      "Jerry Babb, fumbled at the EMich 42, recovered by Jerry Babb at the EMich 42.\n",
      "Chris Nelson, fumbled at the AFA 48, recovered by Paul Baker at the AFA 48.\n",
      "Nate Davis, fumbled at the NoIll 49, recovered by Larry Bostic at the NoIll 49.\n",
      "Joey Lynch, fumbled at the BalSt 36, recovered by Ken West at the BalSt 36.\n",
      "Luke Getsy, fumbled at the Akron 45, recovered by KentS at the Akron 45.\n",
      "Riley Skinner, fumbled at the Clem 48, recovered by Jeff Griffin at the Clem 48.\n",
      "Alex Brink, fumbled at the OrgSt 41, recovered by WshSt at the OrgSt 41.\n",
      "Alex Brink, fumbled at the WshSt 37, recovered by OrgSt at the WshSt 37.\n",
      "Pat White, fumbled at the WVirg 35, recovered by Pat White at the WVirg 35.\n",
      "Ty Evans, fumbled at the MiSt 1, recovered by Craig Jenkins at the MiSt 1.\n",
      "Dustin Grutza, fumbled at the Akron 33, recovered by Cincy at the Akron 33.\n",
      "Cam Sexton, fumbled at the UNC 31, recovered by UNC at the UNC 31.\n",
      "Chris Leak, fumbled at the Aub 21, recovered by Tray Blackmon, returned by Tray Blackmon for 17 yards at the Aub 38.\n",
      "Bernard Jackson, fumbled at the TexTc 7, recovered by TexTc at the TexTc 7.\n",
      "Clifford Harris, fumbled at the FSU 6, recovered by Thaddeus Lewis at the FSU 6.\n",
      "Cam Sexton, fumbled at the UNC 30, recovered by UNC at the UNC 30.\n",
      "Isiah Williams, fumbled at the Illin 9, recovered by Illin at the Illin 9.\n",
      "Aaron Opelt, fumbled at the Toled 40, recovered by Steve Odom at the Toled 40.\n",
      "Lester Ricard, fumbled at the Tulan 10, recovered by Karibi Dede at the Tulan 10.\n",
      "Chris Williams, fumbled at the UAB 10, recovered by UAB at the UAB 10.\n",
      "Mitch Mustain, fumbled at the Ark 30, recovered by Darren McFadden at the Ark 30.\n",
      "T.C. Ostrander, fumbled at the Stanf 25, recovered by Andy Howe at the Stanf 25.\n",
      "Patrick Cowan, fumbled at the UCLA 28, recovered by Trevor Laws at the UCLA 28.\n",
      "Josh Freeman, fumbled at the KanSt 18, recovered by Josh Freeman at the KanSt 18.\n",
      "Josh Freeman, fumbled at the 50 yard line, recovered by Stryker Sulak at the 50 yard line.\n",
      " , fumbled by Josh Gaines at the Illin 12, recovered by Illin at the Illin 10, tackled by Ed Johnson and Tim Shaw.\n",
      "Derek Wash, fumbled at the TCU 10, recovered by Quentin Willard at the TCU 10.\n",
      "Kyle Israel, fumbled at the UCF 28, recovered by UCF at the UCF 28.\n",
      "John Stocco, fumbled at the Prdue 19, recovered by John Stocco at the Prdue 19.\n",
      "Kevin Craft, fumbled at the SDSU 24, recovered by Brandyn Dombrowski at the SDSU 24.\n",
      "Patrick Cowan, fumbled at the UCLA 22, recovered by Chris Markey at the UCLA 22.\n",
      "Chris Leak, fumbled at the Fla 37, recovered by Carlton Medder at the Fla 37.\n",
      "Sam Hollenbach, fumbled at the MD 28, recovered by Sam Hollenbach at the MD 28.\n",
      "Troy Smith, fumbled at the OSU 38, recovered by Minn at the OSU 38.\n",
      "Bryan Cupito, fumbled at the Minn 23, recovered by Minn at the Minn 23.\n",
      "Bernard Jackson, fumbled at the Colo 25, recovered by Colo at the Colo 25.\n",
      "Curtis Painter, fumbled at the Prdue 11, recovered by Prdue at the Prdue 11.\n",
      "Jeremy Young, fumbled at the ECaro 31, recovered by Jeremy Young at the ECaro 31.\n",
      "Luke Getsy, fumbled at the Akron 27, recovered by Akron at the Akron 27.\n",
      "Corey Leonard, fumbled at the ArkSt 25, recovered by Tray Blackmon at the ArkSt 25.\n",
      "Brett Shrable, fumbled at the Aub 15, recovered by Aub at the Aub 15, Auburn penalty 7 yard personal foul accepted.\n",
      "Caleb Hanie, fumbled at the ColSt 18, recovered by Caleb Hanie at the ColSt 18.\n",
      "Austen Everson, fumbled at the Ohio 22, recovered by Austen Everson at the Ohio 22.\n",
      "Ryan Cubit, fumbled at the WMich 45, recovered by Dan Bazuin at the WMich 45.\n",
      "Ryan Cubit, fumbled at the WMich 21, recovered by WMich at the WMich 21.\n",
      "Alex Brink, fumbled at the WshSt 48, recovered by WshSt at the WshSt 48.\n",
      "Gary Rogers, fumbled at the WshSt 11, recovered by Gary Rogers at the WshSt 11.\n",
      "Bernard Jackson, fumbled at the IowSt 19, recovered by Bernard Jackson at the IowSt 19.\n",
      "Perry Patterson, fumbled at the Syrac 3, recovered by SFla at the Syrac 3.\n",
      "C.J. Bacher, fumbled at the NWest 27, recovered by Antonio Smith at the NWest 27.\n",
      "Chris Nelson, fumbled at the 50 yard line, recovered by Chris Nelson at the 50 yard line.\n",
      "Michael Machen, fumbled at the KentS 35, recovered by VaTch at the KentS 35.\n",
      "Kevin Kolb, fumbled at the Houst 24, recovered by Cory Muse at the Houst 24.\n",
      "Xavier Lee, fumbled at the FSU 21, recovered by Xavier Lee at the FSU 21.\n",
      "Bernard Morris, fumbled at the SouMi 21, recovered by Brian Shope at the SouMi 15.\n",
      "Derek Devine, fumbled at the Marsh 32, recovered by Derek Devine at the Marsh 32.\n",
      "Patrick Cowan, fumbled at the UCLA 43, recovered by Patrick Cowan at the UCLA 43.\n",
      "Brian Brohm, fumbled at the UConn 26, recovered by Brian Brohm at the UConn 26.\n",
      "Carson Williams, fumbled at the Army 49, recovered by Carson Williams at the Army 49.\n",
      "Garcia, Stephen.\n",
      ", MIDDLE TENN penalty 10 yard holding on N/A accepted, no play.\n"
     ]
    }
   ],
   "source": [
    "pa = df.loc[(df.play_type=='Pass')]\n",
    "print(len(pa))\n",
    "for pt in list(pa.play_text.values):\n",
    "    print(pt)"
   ]
  },
  {
   "cell_type": "code",
   "execution_count": null,
   "metadata": {},
   "outputs": [],
   "source": []
  }
 ],
 "metadata": {
  "kernelspec": {
   "display_name": "Python 3",
   "language": "python",
   "name": "python3"
  },
  "language_info": {
   "codemirror_mode": {
    "name": "ipython",
    "version": 3
   },
   "file_extension": ".py",
   "mimetype": "text/x-python",
   "name": "python",
   "nbconvert_exporter": "python",
   "pygments_lexer": "ipython3",
   "version": "3.7.4"
  }
 },
 "nbformat": 4,
 "nbformat_minor": 2
}
