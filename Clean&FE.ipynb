{
 "cells": [
  {
   "cell_type": "code",
   "execution_count": 1,
   "metadata": {},
   "outputs": [],
   "source": [
    "import pandas as pd\n",
    "import numpy as np \n",
    "import datetime\n",
    "import math\n",
    "import gc\n",
    "import datetime\n",
    "gc.collect()\n",
    "\n",
    "from tqdm import tqdm"
   ]
  },
  {
   "cell_type": "markdown",
   "metadata": {},
   "source": [
    "# Load Data"
   ]
  },
  {
   "cell_type": "code",
   "execution_count": 2,
   "metadata": {},
   "outputs": [
    {
     "name": "stderr",
     "output_type": "stream",
     "text": [
      "100%|██████████| 14/14 [00:32<00:00,  3.04s/it]"
     ]
    },
    {
     "name": "stdout",
     "output_type": "stream",
     "text": [
      "(2031893, 41)\n",
      "2031893 plays were loaded\n"
     ]
    },
    {
     "name": "stderr",
     "output_type": "stream",
     "text": [
      "\n"
     ]
    }
   ],
   "source": [
    "# load play by play & drive data\n",
    "years = list(range(2005, int(datetime.datetime.now().year)))\n",
    "\n",
    "df = pd.DataFrame()\n",
    "for year in tqdm(years):\n",
    "    path = './output/'+str(year)+'/'+str(year)+'_pbp.csv'\n",
    "    sea_df = pd.read_csv(path)\n",
    "    \n",
    "    drive_path = './output/'+str(year)+'/'+str(year)+'_drives.csv'\n",
    "    drive_df = pd.read_csv(drive_path)\n",
    "    \n",
    "    drive_df = drive_df.rename(columns={'id':'drive_id'})\n",
    "    \n",
    "    sea_df = pd.merge(left=sea_df, right=drive_df, how='left', on=['drive_id','drive_id'])\n",
    "    df = pd.concat([df,sea_df])\n",
    "\n",
    "num_plays = len(df)\n",
    "print(df.shape)\n",
    "print(str(num_plays) + \" plays were loaded\")"
   ]
  },
  {
   "cell_type": "code",
   "execution_count": 3,
   "metadata": {},
   "outputs": [],
   "source": [
    "# offense_x seems to be correct while offense_y is not\n",
    "\n",
    "df = df.drop(columns=['defense_y','defense_conference_y','offense_y','offense_conference_y'])\n",
    "\n",
    "df = df.rename(columns={'defense_x':'defense','defense_conference_x':'defense_conference','offense_x':'offense','offense_conference_x':'offense_conference'})\n"
   ]
  },
  {
   "cell_type": "code",
   "execution_count": 4,
   "metadata": {},
   "outputs": [],
   "source": [
    "# fix yard_line, it's w.r.t the home team\n",
    "df = df.rename(columns={'yard_line':'wrong_yardline'})\n",
    "\n",
    "df['yard_line'] = np.where(df['offense']==df['home'],df['wrong_yardline'],100-df['wrong_yardline'])\n",
    "# print(df[['home','offense','yard_line','wrong_yardline']].head(50))\n",
    "df = df.drop(columns=['wrong_yardline'])"
   ]
  },
  {
   "cell_type": "markdown",
   "metadata": {},
   "source": [
    "## Special Teams\n",
    "\n",
    "I'll do special teams and overtimes in future work. Right now, keeping it simple."
   ]
  },
  {
   "cell_type": "code",
   "execution_count": 5,
   "metadata": {},
   "outputs": [
    {
     "name": "stdout",
     "output_type": "stream",
     "text": [
      "2031893\n",
      "1871043\n"
     ]
    }
   ],
   "source": [
    "print(len(df))\n",
    "nah = ['2pt Conversion','Kickoff','Kickoff Return (Offense)','Kickoff Return Touchdown',\n",
    "      'Offensive 1pt Safety','Defensive 2pt Conversion','Extra Point Good','Extra Point Missed']\n",
    "\n",
    "df = df.loc[~df.play_type.isin(nah)]\n",
    "print(len(df))"
   ]
  },
  {
   "cell_type": "code",
   "execution_count": 6,
   "metadata": {},
   "outputs": [
    {
     "name": "stdout",
     "output_type": "stream",
     "text": [
      "1864121\n"
     ]
    }
   ],
   "source": [
    "# also drop overtime\n",
    "\n",
    "df = df.loc[(df.period > 0) & (df.period <= 4)]\n",
    "print(len(df))\n"
   ]
  },
  {
   "cell_type": "markdown",
   "metadata": {},
   "source": [
    "## Clock\n",
    "\n",
    "Clock data is unreliable because maybe 25% of the games have only have one time for each play, and that time is when the drive started. I played with trying to predict time per play based on play type, but the data was very messy. So I decided to get the total time of each drive, and then assume each play took the same amount of time. EPA shouldn't be significantly affected most of the time, i.e. a 70 yard pass will be considered a good play no matter what. The only time it might have an adverse effect is toward the end of a game, when seconds matter. I think that in college football, when the clock stops for a first down, and incompletions, that all pass plays probably do take a somewhat similar amount of time. Drives in this situation will consist mostly of the same play type, and plays of the same play type likely take similar amounts of time. I'll compare it to the clock data I do have to make sure."
   ]
  },
  {
   "cell_type": "code",
   "execution_count": 7,
   "metadata": {},
   "outputs": [],
   "source": [
    "# fix clock data first so drives can be figured out\n",
    "time_cols = ['clock.minutes','clock.seconds','start_time.minutes','start_time.seconds',\n",
    "            'end_time.minutes','end_time.seconds']\n",
    "for tc in time_cols:\n",
    "    df[tc] = df[tc].fillna(0)\n",
    "\n",
    "# get time remaining in game\n",
    "df['tr_game'] = (4-df['period']) * 900 + (df['clock.minutes'] * 60) + df['clock.seconds']\n",
    "df['tr_half'] = np.where(df['period']>2,df['tr_game'], df['tr_game']-1800)\n",
    "\n",
    "df = df.drop(columns=['clock.minutes','clock.seconds'])"
   ]
  },
  {
   "cell_type": "code",
   "execution_count": 8,
   "metadata": {},
   "outputs": [],
   "source": [
    "# fill empties\n",
    "df['elapsed.minutes'] = df['elapsed.minutes'].copy().fillna(0)\n",
    "df['elapsed.seconds'] = df['elapsed.seconds'].copy().fillna(0)\n",
    "df['drive_time'] = 60*df['elapsed.minutes'] + df['elapsed.seconds']"
   ]
  },
  {
   "cell_type": "code",
   "execution_count": 9,
   "metadata": {},
   "outputs": [
    {
     "name": "stdout",
     "output_type": "stream",
     "text": [
      "8969\n",
      "275461\n",
      "146.12538980109707\n"
     ]
    }
   ],
   "source": [
    "# a lot of those drive times are negative... and other problems. so here's an alt drive time\n",
    "# alt clock\n",
    "\n",
    "# these get the start and end time of every drive\n",
    "maxs = df.groupby(['game_id','drive_id'])['tr_game'].max().reset_index()\n",
    "mins = df.groupby(['game_id','drive_id'])['tr_game'].min().reset_index()\n",
    "maxs = maxs.rename(columns={'tr_game':'drive_start'})\n",
    "mins = mins.rename(columns={'tr_game':'drive_end'})\n",
    "\n",
    "# sometimes the drive end time is the same as the drive start. in that case, I use the next drive start\n",
    "maxs = maxs.sort_values(by=['game_id','drive_start'],ascending=False)\n",
    "next_max = maxs.groupby(['game_id'])['drive_start'].shift(-1)\n",
    "next_max = pd.Series(next_max, name='next_drive_start')\n",
    "new_max = pd.concat([maxs, next_max], axis=1)\n",
    "new_max['next_drive_start'] = new_max['next_drive_start'].fillna(0)\n",
    "\n",
    "# sometimes (rarely, 2%ish of the time) both the next drive start and the drive end are the same as the drive start\n",
    "# in that case, as a last resort, i use the next drive end time. \n",
    "# i'm fairly sure most of the time it's when a timeout or something divides the same drive into two.\n",
    "# i can explore this more in future work\n",
    "mins = mins.sort_values(by=['game_id','drive_end'],ascending=False)\n",
    "next_min = mins.groupby(['game_id'])['drive_end'].shift(-1)\n",
    "next_min = pd.Series(next_min, name='next_drive_end')\n",
    "new_min = pd.concat([mins, next_min], axis=1)\n",
    "new_min['next_drive_end'] = new_min['next_drive_end'].fillna(0)\n",
    "new_min = new_min.drop(columns='game_id')\n",
    "times = pd.merge(left=new_max,right=new_min,on=['drive_id','drive_id'],how='left')\n",
    "\n",
    "\n",
    "# attempt 1 (works on ~95.5% of data)\n",
    "times['drive_time_1'] = times['drive_start']-times['next_drive_start']\n",
    "# plan B (95.8% of data)\n",
    "times['drive_time'] = np.where(times['drive_time_1']>0,times['drive_time_1'],(times['drive_start']-times['drive_end']))\n",
    "# last resort (didn't implement)\n",
    "# times['drive_time'] = np.where(times['drive_time_2']>0,times['drive_time_2'],(times['drive_start']-times['next_drive_end']))\n",
    "\n",
    "not_good = times.loc[times.drive_time<=0]\n",
    "print(len(not_good))\n",
    "\n",
    "good = times.loc[times.drive_time>0]\n",
    "print(len(good))\n",
    "\n",
    "print(good.drive_time.mean())\n",
    "\n",
    "times = times[['drive_id','drive_time']]\n",
    "times = times.rename(columns={'drive_time':'alt_drive_time'})\n"
   ]
  },
  {
   "cell_type": "code",
   "execution_count": 10,
   "metadata": {},
   "outputs": [],
   "source": [
    "df = pd.merge(left=df,right=times,how='left',on=['drive_id','drive_id'])\n"
   ]
  },
  {
   "cell_type": "code",
   "execution_count": 11,
   "metadata": {},
   "outputs": [
    {
     "name": "stdout",
     "output_type": "stream",
     "text": [
      "1844449\n",
      "correlation between primary and approximate drive time\n",
      "                drive_time  alt_drive_time\n",
      "drive_time        1.000000        0.855643\n",
      "alt_drive_time    0.855643        1.000000\n"
     ]
    }
   ],
   "source": [
    "# longest drive in CFB history is 882. so need to drop anything above 900\n",
    "# also drop anything below or equal to 0\n",
    "\n",
    "df['correct_time_1'] = np.where(df['drive_time'] > 0, df['drive_time'], df['alt_drive_time'])\n",
    "\n",
    "df = df.loc[df['correct_time_1'] > 0]\n",
    "\n",
    "df['correct_drive_time'] = np.where(df['drive_time'] < 900, df['drive_time'], df['alt_drive_time'])\n",
    "\n",
    "df = df.loc[df['correct_drive_time'] < 900]\n",
    "\n",
    "print(len(df))\n",
    "\n",
    "print(\"correlation between primary and approximate drive time\")\n",
    "print(df[['drive_time','alt_drive_time']].corr())\n",
    "\n",
    "df = df.drop(columns=['drive_time','alt_drive_time','correct_time_1'])\n",
    "df = df.rename(columns={'correct_drive_time':'drive_time'})"
   ]
  },
  {
   "cell_type": "markdown",
   "metadata": {},
   "source": [
    "# some objectives\n",
    "\n",
    "1) fix \"uncategorized\" play type  \n",
    "2) aggregate, clean, validate all play types  \n",
    "3) fix \"uncategorized\" drive results  \n",
    "4) aggregate, clean, validate all drive results  \n",
    "5) compare play types to drive results to make sure they match"
   ]
  },
  {
   "cell_type": "code",
   "execution_count": 12,
   "metadata": {},
   "outputs": [],
   "source": [
    "# fixing uncategorized play types\n",
    "\n",
    "base = r'^{}'\n",
    "expr = '(?=.*{})'\n",
    "words = ['End', 'of', 'Quarter']\n",
    "end_period = base.format(''.join(expr.format(w) for w in words))\n",
    "\n",
    "df.loc[(df.play_type=='Uncategorized')&(df.play_text.str.contains(end_period,regex=True)), 'play_type'] = 'End Period'\n",
    "\n",
    "words = ['fumbled','run', 'for']\n",
    "fumbles = base.format(''.join(expr.format(w) for w in words))\n",
    "\n",
    "df.loc[(df.play_type=='Uncategorized')&(df.play_text.str.contains(fumbles,regex=True)), 'play_type'] = 'Fumble Recovery (Own)'\n",
    "\n",
    "df.loc[(df.play_type=='Uncategorized')&(df.play_text.str.contains('Penalty')), 'play_type'] = 'Penalty'\n"
   ]
  },
  {
   "cell_type": "code",
   "execution_count": 13,
   "metadata": {},
   "outputs": [
    {
     "name": "stdout",
     "output_type": "stream",
     "text": [
      "how many uncategorized plays are left?\n",
      "0\n"
     ]
    }
   ],
   "source": [
    "# fix individual\n",
    "# many of the ones left are fumbles, and then something\n",
    "df.loc[(df.play_type=='Uncategorized')&(df.play_text.str.contains('recovered by UTEP Aaron Jones')), 'play_type'] = 'Penalty'\n",
    "\n",
    "df.loc[(df.play_type=='Uncategorized')&(df.play_text.str.contains('intercepted')), 'play_type'] = 'Pass Interception'\n",
    "\n",
    "df.loc[(df.play_type=='Uncategorized')&(df.play_text.str.contains('SAFETY')), 'play_type'] = 'Safety'\n",
    "\n",
    "words = ['fumbled','pass', 'complete']\n",
    "complete = base.format(''.join(expr.format(w) for w in words))\n",
    "df.loc[(df.play_type=='Uncategorized')&(df.play_text.str.contains(complete,regex=True)), 'play_type'] = 'Pass Completion'\n",
    "\n",
    "words = ['TD','punt', 'blocked']\n",
    "td_pb = base.format(''.join(expr.format(w) for w in words))\n",
    "df.loc[(df.play_type=='Uncategorized')&(df.play_text.str.contains(td_pb,regex=True)), 'play_type'] = 'Blocked Punt Touchdown'\n",
    "\n",
    "\n",
    "words = ['run','for', 'TD']\n",
    "run_td = base.format(''.join(expr.format(w) for w in words))\n",
    "df.loc[(df.play_type=='Uncategorized')&(df.play_text.str.contains(run_td,regex=True)), 'play_type'] = 'Rushing Touchdown'\n",
    "\n",
    "df.loc[(df.play_type=='Uncategorized')&(df.down==4), 'play_type'] = 'Punt'\n",
    "\n",
    "words = ['return','for', 'TD']\n",
    "fumb_td = base.format(''.join(expr.format(w) for w in words))\n",
    "df.loc[(df.play_type=='Uncategorized')&(df.play_text.str.contains(fumb_td,regex=True)), 'play_type'] = 'Fumble Return Touchdown'\n",
    "\n",
    "df.loc[(df.play_type=='Uncategorized')&df.play_text.str.contains('return for'), 'play_type'] = 'Fumble Recovery (Opponent)'\n",
    "\n",
    "df.loc[(df.play_type=='Uncategorized')&df.play_text.str.contains('run for'), 'play_type'] = 'Rush'\n",
    "\n",
    "print(\"how many uncategorized plays are left?\")\n",
    "print(len(df.loc[df['play_type']=='Uncategorized']))\n"
   ]
  },
  {
   "cell_type": "code",
   "execution_count": 14,
   "metadata": {},
   "outputs": [],
   "source": [
    "nah_part_2 = ['End Period','End of Half','End of Game']\n",
    "df = df.loc[~df.play_type.isin(nah_part_2)]"
   ]
  },
  {
   "cell_type": "code",
   "execution_count": 24,
   "metadata": {},
   "outputs": [
    {
     "data": {
      "text/plain": [
       "play_type\n",
       "Blocked Field Goal                       435\n",
       "Blocked Field Goal Touchdown              35\n",
       "Blocked Punt                             255\n",
       "Blocked Punt Touchdown                   111\n",
       "Field Goal Good                        24021\n",
       "Field Goal Missed                       8758\n",
       "Fumble Recovery (Opponent)              3671\n",
       "Fumble Recovery (Own)                   4322\n",
       "Fumble Return Touchdown                 1061\n",
       "Interception                               2\n",
       "Interception Return Touchdown            822\n",
       "Missed Field Goal Return                  20\n",
       "Missed Field Goal Return Touchdown         3\n",
       "Pass                                   41599\n",
       "Pass Completion                       225748\n",
       "Pass Incompletion                     246884\n",
       "Pass Interception                      11407\n",
       "Pass Interception Return                6680\n",
       "Pass Reception                        144382\n",
       "Passing Touchdown                      13821\n",
       "Penalty                               109836\n",
       "Punt                                  107899\n",
       "Punt Return Touchdown                     52\n",
       "Rush                                  657968\n",
       "Rushing Touchdown                     113433\n",
       "Sack                                   36513\n",
       "Safety                                   730\n",
       "Timeout                                67056\n",
       "Name: down, dtype: int64"
      ]
     },
     "execution_count": 24,
     "metadata": {},
     "output_type": "execute_result"
    }
   ],
   "source": [
    "gb = df.groupby(['play_type'])['down'].count()\n",
    "gb"
   ]
  },
  {
   "cell_type": "markdown",
   "metadata": {},
   "source": [
    "1) fix uncategorized play type (check)  \n",
    "2) clean/validate/aggregate play types\n"
   ]
  },
  {
   "cell_type": "code",
   "execution_count": 16,
   "metadata": {},
   "outputs": [
    {
     "name": "stdout",
     "output_type": "stream",
     "text": [
      "There are a few!\n",
      "11\n",
      "All are defensive scores\n"
     ]
    }
   ],
   "source": [
    "# start with the top: blocked FG. make sure none are touchdowns\n",
    "bfg = df.loc[(df.play_type=='Blocked Field Goal')&(df.play_text.str.contains('TOUCHDOWN|touchdown|Touchdown|TD'))]\n",
    "\n",
    "print(\"There are a few!\")\n",
    "print(len(bfg))\n",
    "print(\"All are defensive scores\")\n",
    "\n",
    "df.loc[((df.play_type=='Blocked Field Goal')&(df.play_text.str.contains('TOUCHDOWN|touchdown|Touchdown|TD'))), 'play_type']='Blocked Field Goal Touchdown'\n",
    "\n",
    "del bfg"
   ]
  },
  {
   "cell_type": "code",
   "execution_count": 17,
   "metadata": {},
   "outputs": [
    {
     "name": "stdout",
     "output_type": "stream",
     "text": [
      "92\n",
      "punts to fix\n"
     ]
    }
   ],
   "source": [
    "# same thing for blocked punt\n",
    "bp = df.loc[(df.play_type=='Blocked Punt')&(df.play_text.str.contains('TOUCHDOWN|touchdown|Touchdown|TD'))]\n",
    "\n",
    "print(len(bp))\n",
    "print(\"punts to fix\")\n",
    "\n",
    "# pretty safe to assume these are all defensive\n",
    "df.loc[((df.play_type=='Blocked Punt')&(df.play_text.str.contains('TOUCHDOWN|touchdown|Touchdown|TD'))), 'play_type']='Blocked Punt Touchdown'\n",
    "\n",
    "print('fixed')\n",
    "del bp"
   ]
  },
  {
   "cell_type": "code",
   "execution_count": 26,
   "metadata": {},
   "outputs": [
    {
     "name": "stdout",
     "output_type": "stream",
     "text": [
      "0\n",
      "missed fg to fix\n"
     ]
    }
   ],
   "source": [
    "# regular FG missed, verify they weren't blocked/touchdown (all good)\n",
    "# mfg = df.loc[(df.play_type=='FG Missed')&(df.play_text.str.contains('Blocked|BLOCKED|blocked'))]\n",
    "# mfg = df.loc[(df.play_type=='FG Missed')&(df.play_text.str.contains('TOUCHDOWN|touchdown|Touchdown|TD'))]\n"
   ]
  },
  {
   "cell_type": "code",
   "execution_count": 29,
   "metadata": {},
   "outputs": [
    {
     "name": "stdout",
     "output_type": "stream",
     "text": [
      "68\n",
      "TEAM run for a loss of 13 yards TEAM fumbled, recovered by Vandy Oren Burks for a TD, (Hayden Lekacz KICK)\n",
      "Mitch Trubisky pass complete to Quinshad Davis for 6 yds for a TD Quinshad Davis fumbled, forced by Nick Sigmon, recovered by Liber Jacob Hagen  , return for 27 yds, (Avery Echols KICK)\n",
      "David Ash run for a loss of 1 yard David Ash fumbled, recovered by NoTex James Jones for a TD, (Trevor Moore KICK)\n",
      "Jarod Neal pass complete to Ladevin Fair for 5 yds for a TD Ladevin Fair fumbled, recovered by Kent Khalid Henderson  , return for 89 yds, (Austin MacGinnis KICK)\n",
      "Keenan Reynolds run for a loss of 2 yards Keenan Reynolds fumbled, forced by Sharif Finch, recovered by Temp Sharif Finch for a TD, (Austin Jones KICK)\n",
      "Cedric Skinner run for a loss of 1 yard Cedric Skinner fumbled, forced by Earl Foster, recovered by Houst Vincent Hall for a TD, (Kyle Bullard KICK)\n",
      "TEAM run for no gain TEAM fumbled, recovered by FlaAM John Boston for a TD\n",
      "Arkeel Newsome run for a loss of 8 yards Arkeel Newsome fumbled, forced by Armand Nance, recovered by BoiSt Tanner Vallejo, return for 31 yds for a TD(Dan Goodale KICK)\n",
      "TEAM run for a loss of 19 yards TEAM fumbled, recovered by Hawa Beau Yap for a TD, (Tyler Hadden KICK)\n",
      "Blake Sims pass complete to DeAndrew White for 7 yds,  DeAndrew White fumbled, forced by Neiron Ball, recovered by Fla Keanu Neal, return for 49 yds for a TD, (Francisco Velez KICK)\n",
      "Remound Wright run for a loss of 2 yards, fumbled, forced by Shaq Thompson, recovered by Wash Shaq Thompson  , return for 32 yds for a TD, (Cameron Van Winkle KICK)\n",
      "Jalen Hurd run for a loss of 1 yard Jalen Hurd fumbled, recovered by Geo Josh Dawson for a TD, (Marshall Morgan KICK)\n",
      "Jay Warren run for 3 yds Jay Warren fumbled, recovered by FlaIn Richard Leonard  , return for 100 yds for a TD (Austin Taylor KICK)\n",
      "Tago Smith run for a loss of 2 yards Tago Smith fumbled, forced by Joe Nelson, recovered by VMI Damian Jones for a TD, (Dillon Christopher KICK)\n",
      "Tyrone Swoopes pass complete to John Harris for no gain for a TD John Harris fumbled, recovered by IowSt Jevohn Miller  , return for 51 yds, (Cole Netten KICK)\n",
      "Johnny McCrary run for a loss of 3 yards Johnny McCrary fumbled, recovered by ODU Poncho Barnwell for a TD, (Jarrett Cervi KICK)\n",
      "Matt Linehan run for no gain, Matt Linehan fumbled, forced by Xavier Woodson, recovered by ArkSt Rocky Hayes , return for 93 yds for a TD, (Luke Ferguson KICK)\n",
      "Travis Wilson pass complete to Kaelin Clay for 78 yds to the Oregon 1, Kaelin Clay fumbled, recovered by Erick Dargan, Erick Dargan fumbled, recovered by Joe Walker, returned 100 yards for a TD (Aidan Schneider Kick)\n",
      "Johnny McCrary pass complete to Latevius Rayford for 14 yds for a TD Latevius Rayford fumbled, forced by Christian Holmes, recovered by MisSt Christian Holmes  , return for 51 yds, (Evan Sobiesk KICK)\n",
      "Bubba Poole run for no gain to the Utah 39, fumbled, forced Tra'Mayne Bondurant, recovered by Ariz Dan Pettinato, Dan Pettinato return for 31 yds, for a TD (Casey Skowron KICK)\n",
      "Johnathan Gray run for a loss of 3 yards, Johnathan Gray fumbled, recovered by Ark Taiwan Johnson for a TD, (Adam McFain KICK)\n",
      "Jameis Winston run for a loss of 12 yards Jameis Winston fumbled, recovered by Oregn Tony Washington, return for 58 yds for TD (Aidan Schneider PAT blocked)\n",
      "Aaron Grubb run for a loss of 4 yards Aaron Grubb fumbled, recovered by Ariz Jamar Allah  , return for 22 yds for a TD (Casey Skowron KICK)\n",
      "Esayah Obado run for a loss of 5 yards Esayah Obado fumbled, recovered by KntSt Nate Terhune for a TD, (G. Bollas Run For Two-point Conversion)\n",
      "Nick Arbuckle pass complete to Robert Davis for 3 yds for a TD Robert Davis fumbled, forced by Lewis Hill, recovered by NMxSt Jaden Wright  , return for 10 yds, (Parker Davidson PAT BLOCKED)\n",
      "Max Wittek run for a loss of 3 yards Max Wittek fumbled, recovered by OhSt Vonn Bell  , return for 14 yds TOUCHDOWN (Jack Willoughby KICK)\n",
      "Mitch Leidner pass complete to Rashad Still for 9 yds for a TD Rashad Still fumbled, forced by Demetrius Monday, recovered by KntSt Demetrius Monday  , return for 80 yds, (Shane Hynes KICK)\n",
      "Vic Enwere run for a loss of 8 yards Vic Enwere fumbled, forced by Sidney Jones, recovered by Wash Sidney Jones  , return for 70 yds for TD, (Cameron Van Winkle KICK)\n",
      "Zach Charme run for a loss of 4 yards, Zach Charme fumbled, forced by Tony Mekari, recovered by Cal Stefan McClure , return for 45 yds for a TD, (Matt Anderson KICK)\n",
      "Skyler Howard run for a loss of 6 yards Skyler Howard fumbled, recovered by OKSt Emmanuel Ogbah for a TD, (Ben Grogan KICK)\n",
      "TEAM run for a loss of 38 yards TEAM fumbled, recovered by KntSt Ryan Seibert for a TD, (Shane Hynes KICK)\n",
      "TEAM run for a loss of 12 yards TEAM fumbled, recovered by GTech Adam Gotsis for a TD, (Harrison Butker KICK)\n",
      "Justin Holman pass complete to Cam Stewart for 9 yds, Cam Stewart fumbled, recovered by Houst Brandon Wilson, returned for 85 yds for a TD. (Ty Cummings KICK)\n",
      "Patrick Skov run for 6 yds Patrick Skov fumbled, forced by Ufomba Kamalu, recovered by MiaFl Ufomba Kamalu  , return for 45 yds Ufomba Kamalu fumbled, forced by Ufomba Kamalu, recovered by MiaFl Jermaine Grace for a TD, (Michael Badgley KICK)\n",
      "Tyler Stewart run for a loss of 1 yard Tyler Stewart fumbled, recovered by UthSt Kyler Fackrell for a TD, (Jake Thompson KICK)\n",
      "Christian Hackenberg pass complete to Kyle Carter for 10 yds to MchSt 23. Kyle Carter fumbled, recovered by MchSt Demetrious Cox, return 77 yds for TD, (Michael Geiger KICK)\n",
      "Peyton Bender pass complete to Gabe Marks for 5 yds for a TD Gabe Marks fumbled, forced by Kevin King, recovered by Wash Darren Gardenhire  , return for 28 yds, (Cameron Van Winkle KICK)\n",
      "TEAM run for a loss of 17 yards TEAM fumbled, recovered by LaMon Lorenzo Jackson for a TD, (Two-Point Conversion failed )\n",
      "Jeremy Smith run for no gain Jeremy Smith fumbled, forced by Chase Hancock, recovered by Marsh Ty Tyler, Ty Tyler return for 26 yds for a TD (Amoreto Curraj KICK)\n",
      "Eric Dungey pass complete to Jordan Fredericks for 8 yds for a TD Jordan Fredericks fumbled, forced by Brad Watson, recovered by WFrst Cameron Glenn  , return for 83 yds, (Mike Weaver KICK)\n",
      "Cole Garvin pass complete to Kevin Kutchera for 5 yds for a TD Kevin Kutchera fumbled, forced by Chris Humes, recovered by ArkSt Chris Humes  , return for 60 yds, (J.D. Houston KICK)\n",
      "Kurt Palandech run for a loss of 5 yards Kurt Palandech fumbled, recovered by Wyom Logan Wilson for a TD, (Cooper Rothe KICK)\n",
      "Jarvion Franklin run for 6 yds Jarvion Franklin fumbled, forced by Juantez McRae, recovered by KntSt Najee Murray  , return for 47 yds for a TD. (Shane Hynes KICK)\n",
      "Mike Fafaul pass complete to Jordan Lasley for 4 yds for a TD Jordan Lasley fumbled, recovered by OrgSt Manase Hungalu  , return for 40 yds, (Garrett Owens KICK)\n",
      "Cole Garvin pass complete to Maaseiah Francis for a loss of 2 yards for a TD Maaseiah Francis fumbled, forced by Ryan Brown, recovered by Presb Rock Ya-Sin  , return for 61 yds, (Brett Norton KICK)\n",
      "TEAM run for a loss of 2 yards TEAM fumbled, recovered by SoMis Xavier Thigpen for a TD, (Parker Shaunfield KICK)\n",
      "Damion May pass complete to Octayvius Miles for a loss of 2 yards for a TD Octayvius Miles fumbled, forced by Nigel Lawrence, recovered by SAlab Rocel McWilliams for a TD, (Gavin Patterson KICK)\n",
      "Kado Brown pass complete to Obe Fortune for 4 yds for a TD Obe Fortune fumbled, forced by Andre Brown Jr., recovered by Ind Andre Brown Jr.  , return for 22 yds, (Griffin Oakes KICK)\n",
      "Carter Stanley pass complete to Chase Harrell for 4 yds for a TD Chase Harrell fumbled, forced by Justus Parker, recovered by TexTc Justus Parker  , return for 20 yds, (Michael Barden KICK)\n",
      "Jake Browning pass complete to Dante Pettis for a loss of 11 yards, Dante Pettis fumbled, recovered by Cal Darius Allensworth , return for 37 yds for a TD, (Matt Anderson KICK)\n",
      "Tyler Huntley pass complete to Darren Carrington II for a loss of 6 yards for a TD Darren Carrington II fumbled, forced by Ugochukwu Amadi, recovered by Oregn Ugochukwu Amadi  , return for 47 yds, (Aidan Schneider KICK)\n",
      "TEAM run for a loss of 3 yards TEAM fumbled, recovered by Memph Austin Hall for a TD, (Riley Patterson KICK)\n",
      "Shai Werts pass complete to Myles Campbell for no gain for a TD Myles Campbell fumbled, forced by James Traylor, recovered by GeoSt Chandon Sullivan  , return for 28 yds, (Brandon Wright KICK)\n",
      "Charlie Brewer pass complete to Tony Nicholson for a loss of 2 yards for a TD Tony Nicholson fumbled, forced by Douglas Coleman III, recovered by TexTc Douglas Coleman III  , return for 31 yds, (Clayton Hatfield KICK)\n",
      "Nick Gibson run for a loss of 5 yards Nick Gibson fumbled, forced by McTelvin Agim, recovered by Ark Briston Guidry for a TD, (Connor Limpert KICK)\n",
      "Terry Wilson pass complete to Lynn Bowden Jr. for a loss of 4 yards for a TD Lynn Bowden Jr. fumbled, forced by Nate Brisson-Fast, recovered by CMich Devonni Reed  , return for 20 yds\n",
      "TEAM run for a loss of 7 yards TEAM fumbled, recovered by Rutgr Olakunle Fatukasi for a TD (Justin Davidovicz KICK)\n",
      "Calvin Camp run for a loss of 1 yard Calvin Camp fumbled, recovered by AppSt Austin Exford for a TD APPALACHIAN ST Penalty, false start (-5 Yards) to the Charl 8 (Chandler Staton KICK)\n",
      "Jay Christophe pass complete to Brad Woodard for 8 yds for a TD Brad Woodard fumbled, forced by Bryan Londonii, recovered by TexSt A.J. Krawczyk  , return for 82 yds\n",
      "Qua Searcy run for a loss of 15 yards fumbled, recovered by Clem Christian Wilkins at GT 4, return for no gain, fumbled, recovered by Clem Clelin Ferrell , return for 4 yd TD (Greg Huegel KICK)\n",
      "Tyrrell Pigrome run for a loss of 2 yards Tyrrell Pigrome fumbled, recovered by Iowa Anthony Nelson for a TD, (Miguel Recinos KICK)\n",
      "Ben Hicks pass complete to Xavier Jones for 1 yd for a TD Xavier Jones fumbled, recovered by Houst Gleson Sprewell  , return for 24 yds (Dalton Witherspoon KICK)\n",
      "TEAM run for a loss of 2 yards TEAM fumbled, recovered by OhSt Dre'Mont Jones for a TD (Blake Haubeil KICK)\n",
      "Donald Hammond III run for no gain Donald Hammond III fumbled, forced by Adebayo Soremekun, recovered by NMex Jalin Burrell for a TD (Andrew Shelley KICK)\n",
      "Jarret Doege pass complete to Scott Miller for 6 yds for a TD Scott Miller fumbled, forced by Khalil Hodge, recovered by Buff Brandon Williams  , return for 69 yds\n",
      "Tyler Wiegers pass complete to Arthur Jackson III for 6 yds for a TD Arthur Jackson III fumbled, forced by Cepeda Phillips, recovered by KntSt Jamal Parker  , return for 16 yds\n",
      "Kellen Mond pass complete to Trayveon Williams for a loss of 2 yards for a TD Trayveon Williams fumbled, recovered by LSU Michael Divinity Jr.  , return for 58 yds (Cole Tracy KICK)\n",
      "TEAM run for a loss of 24 yards TEAM fumbled, recovered by SCaro Deebo Samuel for a TD (Parker White KICK)\n"
     ]
    }
   ],
   "source": [
    "# check Fumble Recovery (Opponent)\n",
    "fro = df.loc[(df.play_type=='Fumble Recovery (Opponent)')&(df.play_text.str.contains('TOUCHDOWN|touchdown|Touchdown|TD'))]\n",
    "\n",
    "print(len(fro))\n",
    "print(\"fumble recoveries that were TDs\")\n",
    "\n",
    "# safe these were defensive\n",
    "df.loc[(df.play_type=='Fumble Recovery (Opponent)')&(df.play_text.str.contains('TOUCHDOWN|touchdown|Touchdown|TD')), 'play_type'] = 'Fumble Return Touchdown'\n",
    "for pt in list(fro.play_text.values):\n",
    "    print(pt)\n"
   ]
  },
  {
   "cell_type": "code",
   "execution_count": 19,
   "metadata": {},
   "outputs": [],
   "source": [
    "# change rushing tds categorized as 'rush' to rushing tds\n",
    "rush = df.loc[(df.play_type=='Rush')&(df.play_text.str.contains('TOUCHDOWN|touchdown|Touchdown|TD'))]\n",
    "# for penalties that don't stop a touchdown\n",
    "words = ['0 yard','accepted']\n",
    "pens = base.format(''.join(expr.format(w) for w in words))\n",
    "rush_tds = rush.loc[(~rush.play_text.str.contains('Penalty|PENALTY|penalty')) | (rush.play_text.str.contains('declined|DECLINED') | (rush.play_text.str.contains(pens)))]\n",
    "rush_tds = rush_tds.loc[~rush.play_text.str.contains('fumbled')]\n",
    "rtd_ids = list(rush_tds.id.values)\n",
    "df.loc[df.id.isin(rtd_ids),'play_type'] = 'Rushing Touchdown'\n",
    "\n",
    "del rush_tds\n",
    "# rtd_ids = list(rush_tds.id.values)"
   ]
  },
  {
   "cell_type": "code",
   "execution_count": 20,
   "metadata": {},
   "outputs": [],
   "source": [
    "# some fumble 6 rushes that need to be categorized as such\n",
    "\n",
    "rush = df.loc[(df.play_type=='Rush')&(df.play_text.str.contains('TOUCHDOWN|touchdown|Touchdown|TD'))]\n",
    "words = ['fumbled','returned by']\n",
    "ftds = base.format(''.join(expr.format(w) for w in words))\n",
    "fumble_tds = rush.loc[(rush.play_text.str.contains(ftds))]\n",
    "\n",
    "fbtd_ids = list(fumble_tds.id.values)\n",
    "df.loc[df.id.isin(fbtd_ids),'play_type'] = 'Fumble Return Touchdown'\n",
    "\n",
    "words = ['fumbled','loss of']\n",
    "ftds = base.format(''.join(expr.format(w) for w in words))\n",
    "fumble_tds = rush.loc[(rush.play_text.str.contains(ftds))]\n",
    "\n",
    "fbtd_ids = list(fumble_tds.id.values)\n",
    "df.loc[df.id.isin(fbtd_ids),'play_type'] = 'Fumble Return Touchdown'\n",
    "\n",
    "# subset of fumble 6s always say 'to the {other team} 0' \n",
    "words = ['to the','0']\n",
    "ftds = base.format(''.join(expr.format(w) for w in words))\n",
    "fumble_tds = rush.loc[(rush.play_text.str.contains(ftds))]\n",
    "\n",
    "fbtd_ids = list(fumble_tds.id.values)\n",
    "df.loc[df.id.isin(fbtd_ids),'play_type'] = 'Fumble Return Touchdown'"
   ]
  },
  {
   "cell_type": "code",
   "execution_count": 21,
   "metadata": {},
   "outputs": [],
   "source": [
    "df.loc[((df.play_type=='Rush')&(df.play_text.str.contains('penalty|PENALTY|Penalty'))), 'play_type'] = 'Penalty'\n",
    "\n"
   ]
  },
  {
   "cell_type": "code",
   "execution_count": 22,
   "metadata": {},
   "outputs": [],
   "source": [
    "# hard to determine which fumbles go for offensive TD vs defensive TD from just play text\n",
    "# lean on drive result\n",
    "\n",
    "df.loc[(df.play_type=='Rush')&(df.drive_result=='RUSHING TD'), 'play_type'] = 'Rushing Touchdown'\n",
    "\n",
    "df.loc[(df.play_type=='Rush')&(df.drive_result=='FUMBLE RETURN TD'), 'play_type'] = 'Fumble Return Touchdown'\n",
    "\n",
    "# i verified these\n",
    "df.loc[((df.play_type=='Rush')&(df.yard_line>90)&(df.play_text.str.contains('TOUCHDOWN|touchdown|Touchdown|TD'))), 'play_type'] = 'Rushing Touchdown'\n",
    "\n",
    "# rest seem to be defensive. might be one or two offensive that leaked through\n",
    "\n",
    "df.loc[((df.play_type=='Rush')&(df.play_text.str.contains('TOUCHDOWN|touchdown|Touchdown|TD'))), 'play_type'] = 'Fumble Return Touchdown'\n",
    "                               \n"
   ]
  },
  {
   "cell_type": "code",
   "execution_count": 23,
   "metadata": {},
   "outputs": [
    {
     "name": "stdout",
     "output_type": "stream",
     "text": [
      "['away', 'defense', 'defense_conference', 'defense_score', 'distance', 'down', 'drive_id', 'home', 'id', 'offense', 'offense_conference', 'offense_score', 'period', 'play_text', 'play_type', 'yards_gained', 'season', 'week', 'season_type', 'drive_result', 'elapsed.minutes', 'elapsed.seconds', 'end_period', 'end_time.minutes', 'end_time.seconds', 'end_yardline', 'game_id', 'plays', 'scoring', 'start_period', 'start_time.minutes', 'start_time.seconds', 'start_yardline', 'yards', 'yard_line', 'tr_game', 'tr_half', 'drive_time']\n"
     ]
    }
   ],
   "source": [
    "print(list(df))"
   ]
  },
  {
   "cell_type": "code",
   "execution_count": null,
   "metadata": {},
   "outputs": [],
   "source": [
    "\n",
    "    "
   ]
  },
  {
   "cell_type": "code",
   "execution_count": null,
   "metadata": {},
   "outputs": [],
   "source": []
  }
 ],
 "metadata": {
  "kernelspec": {
   "display_name": "Python 3",
   "language": "python",
   "name": "python3"
  },
  "language_info": {
   "codemirror_mode": {
    "name": "ipython",
    "version": 3
   },
   "file_extension": ".py",
   "mimetype": "text/x-python",
   "name": "python",
   "nbconvert_exporter": "python",
   "pygments_lexer": "ipython3",
   "version": "3.7.4"
  }
 },
 "nbformat": 4,
 "nbformat_minor": 2
}
