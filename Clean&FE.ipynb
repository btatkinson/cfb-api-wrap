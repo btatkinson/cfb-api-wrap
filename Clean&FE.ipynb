{
 "cells": [
  {
   "cell_type": "code",
   "execution_count": 1,
   "metadata": {},
   "outputs": [],
   "source": [
    "import pandas as pd\n",
    "import numpy as np \n",
    "import datetime\n",
    "import math\n",
    "import gc\n",
    "import datetime\n",
    "gc.collect()\n",
    "\n",
    "from tqdm import tqdm"
   ]
  },
  {
   "cell_type": "markdown",
   "metadata": {},
   "source": [
    "# Load Data"
   ]
  },
  {
   "cell_type": "code",
   "execution_count": 2,
   "metadata": {},
   "outputs": [
    {
     "name": "stderr",
     "output_type": "stream",
     "text": [
      "100%|██████████| 15/15 [00:30<00:00,  3.01s/it]"
     ]
    },
    {
     "name": "stdout",
     "output_type": "stream",
     "text": [
      "(2122188, 41)\n",
      "2122188 plays were loaded\n"
     ]
    },
    {
     "name": "stderr",
     "output_type": "stream",
     "text": [
      "\n"
     ]
    }
   ],
   "source": [
    "# load play by play & drive data\n",
    "years = list(range(2004, int(datetime.datetime.now().year)))\n",
    "\n",
    "df = pd.DataFrame()\n",
    "for year in tqdm(years):\n",
    "    path = './output/'+str(year)+'/'+str(year)+'_pbp.csv'\n",
    "    sea_df = pd.read_csv(path)\n",
    "    \n",
    "    drive_path = './output/'+str(year)+'/'+str(year)+'_drives.csv'\n",
    "    drive_df = pd.read_csv(drive_path)\n",
    "    \n",
    "    drive_df = drive_df.rename(columns={'id':'drive_id'})\n",
    "    \n",
    "    sea_df = pd.merge(left=sea_df, right=drive_df, how='left', on=['drive_id','drive_id'])\n",
    "    df = pd.concat([df,sea_df])\n",
    "\n",
    "num_plays = len(df)\n",
    "print(df.shape)\n",
    "print(str(num_plays) + \" plays were loaded\")"
   ]
  },
  {
   "cell_type": "markdown",
   "metadata": {},
   "source": [
    "# Clean Data "
   ]
  },
  {
   "cell_type": "code",
   "execution_count": 3,
   "metadata": {},
   "outputs": [],
   "source": [
    "# fix clock data first so drives can be figured out\n",
    "time_cols = ['clock.minutes','clock.seconds','start_time.minutes','start_time.seconds',\n",
    "            'end_time.minutes','end_time.seconds']\n",
    "for tc in time_cols:\n",
    "    df[tc] = df[tc].fillna(0)\n",
    "\n",
    "# get time remaining in game\n",
    "df['tr_game'] = (4-df['period']) * 900 + (df['clock.minutes'] * 60) + df['clock.seconds']\n",
    "df['tr_half'] = np.where(df['period']>2,df['tr_game'], df['tr_game']-1800)\n",
    "\n",
    "df = df.drop(columns=['clock.minutes','clock.seconds'])"
   ]
  },
  {
   "cell_type": "code",
   "execution_count": 4,
   "metadata": {},
   "outputs": [
    {
     "name": "stdout",
     "output_type": "stream",
     "text": [
      "5580\n",
      "27            Extra point by Ryan Killeen (USC) is good.\n",
      "38      35 yard field goal by Brandon Pace (VT) is good.\n",
      "46     35 yard field goal by Ryan Killeen (USC) is no...\n",
      "61                             Start of the 2nd quarter.\n",
      "71             Extra point by Brandon Pace (VT) is good.\n",
      "117           Extra point by Ryan Killeen (USC) is good.\n",
      "122                            Start of the 4th quarter.\n",
      "132     42 yard field goal by Brandon Pace (VT) is good.\n",
      "148           Extra point by Ryan Killeen (USC) is good.\n",
      "166    40 yard field goal by Ryan Killeen (USC) is good.\n",
      "Name: play_text, dtype: object\n"
     ]
    }
   ],
   "source": [
    "# fix uncategorized\n",
    "uncat = df.loc[df['play_type']=='Uncategorized']\n",
    "print(len(uncat))\n",
    "print(uncat.play_text.head(10))"
   ]
  },
  {
   "cell_type": "code",
   "execution_count": 5,
   "metadata": {},
   "outputs": [
    {
     "name": "stdout",
     "output_type": "stream",
     "text": [
      "['Rush' 'Pass Incompletion' 'Timeout' 'Penalty' 'Punt Return'\n",
      " 'Pass Interception' 'Pass Completion' 'Uncategorized'\n",
      " 'Kickoff Return (Offense)' 'End Period' 'Fumble Recovery (Own)' 'Sack'\n",
      " 'Fumble Recovery (Opponent)' 'Interception Return Touchdown'\n",
      " 'Blocked Punt' 'Safety' 'Two Point Pass' 'Kickoff Return Touchdown'\n",
      " 'Two Point Rush' 'Blocked Field Goal' 'Blocked Punt Touchdown'\n",
      " 'Blocked PAT' 'Punt Return Touchdown' 'Fumble Return Touchdown'\n",
      " 'Kickoff Return (Defense)' 'Blocked Field Goal Touchdown' 'Punt' 'Pass'\n",
      " 'Kickoff' 'Extra Point Good' 'Field Goal Good' 'Field Goal Missed'\n",
      " 'Extra Point Missed' '2pt Conversion' 'Offensive 1pt Safety'\n",
      " 'Pass Reception' 'Passing Touchdown' 'Rushing Touchdown'\n",
      " 'Pass Interception Return' 'End of Half' 'End of Game'\n",
      " 'Defensive 2pt Conversion' 'Missed Field Goal Return' 'Interception'\n",
      " 'Missed Field Goal Return Touchdown']\n"
     ]
    }
   ],
   "source": [
    "print(df.play_type.unique())\n",
    "def fix_uncat(play_type, play_text):\n",
    "    if play_type != 'Uncategorized':\n",
    "        return play_type\n",
    "    else:\n",
    "        if isinstance(play_text,str):\n",
    "            if \"Start of the 2nd quarter.\" in play_text:\n",
    "                return \"End Period\"\n",
    "            elif \"Start of the 3rd quarter.\" in play_text:\n",
    "                return \"End of Half\"\n",
    "            elif \"Start of the 4th quarter.\" in play_text:\n",
    "                return \"End Period\"\n",
    "            elif \"Start of overtime.\" in play_text:\n",
    "                return \"End Period\"\n",
    "            elif \"End of the game.\" in play_text:\n",
    "                return \"End of Game\"\n",
    "            elif \"Extra point\" in play_text:\n",
    "                if \"is good\" in play_text:\n",
    "                    return \"Extra Point Good\"\n",
    "                elif \"is no good.\" in play_text[-13:]:\n",
    "                    return \"Extra Point Missed\"\n",
    "                else:\n",
    "                    return play_type\n",
    "            elif \"field goal\" in play_text:\n",
    "                if \"is good\" in play_text:\n",
    "                    return \"Field Goal Good\"\n",
    "                elif \"is no good.\" in play_text[-13:]:\n",
    "                    return \"Field Goal Missed\"\n",
    "                else:\n",
    "                    print(play_text)\n",
    "                    return play_type\n",
    "            elif \"missed PAT returned.\" in play_text:\n",
    "                return \"Extra Point Missed\"\n",
    "            elif \"took lateral and rushed\" in play_text:\n",
    "                return \"Rush\"\n",
    "            # mostly fumbled snaps recovered by own team\n",
    "            elif \"fumbled\" in play_text:\n",
    "                return \"Fumble Recovery (Own)\"\n",
    "            elif \"return for\" in play_text:\n",
    "                return \"Punt Return\"\n",
    "            elif \"End of\" in play_text:\n",
    "                return \"End Period\"\n",
    "            elif \"run for\" in play_text:\n",
    "                return \"Rush\"\n",
    "            elif \"SAFETY\" in play_text:\n",
    "                return \"Safety\"\n",
    "            elif \"Penalty\" in play_text:\n",
    "                return \"Penalty\"\n",
    "            else:\n",
    "                return play_type\n",
    "    return play_type\n",
    "\n",
    "df['play_type'] = df.apply(lambda row: fix_uncat(row['play_type'], row['play_text']),axis=1)\n",
    "\n",
    "# uncat = df.loc[df.play_type=='Uncategorized']\n",
    "# print(len(uncat))"
   ]
  },
  {
   "cell_type": "code",
   "execution_count": 6,
   "metadata": {},
   "outputs": [],
   "source": [
    "# isolate extra point attempts\n",
    "xp_cats = ['Two Point Pass','Two Point Rush','Blocked PAT','Extra Point Good','Extra Point Missed', '2pt Conversion',\n",
    "          'Offensive 1pt Safety','Defensive 2pt Conversion']\n",
    "xps = df.loc[df['play_type'].isin(xp_cats)]\n",
    "df = df.loc[~df['play_type'].isin(xp_cats)]"
   ]
  },
  {
   "cell_type": "code",
   "execution_count": 7,
   "metadata": {},
   "outputs": [],
   "source": [
    "# isolate kickoffs\n",
    "kickoffs_cats = ['Kickoff Return (Offense)', 'Kickoff Return Touchdown', 'Kickoff Return (Defense)', 'Kickoff']\n",
    "kickoffs = df.loc[df['play_type'].isin(kickoffs_cats)]\n",
    "df = df.loc[~df['play_type'].isin(kickoffs_cats)]\n"
   ]
  },
  {
   "cell_type": "code",
   "execution_count": 8,
   "metadata": {},
   "outputs": [],
   "source": [
    "# isolate OT\n",
    "ot = df.loc[df['period'] > 4]\n",
    "df = df.loc[(df['period'] <= 4) & (df['period'] >0)]\n"
   ]
  },
  {
   "cell_type": "code",
   "execution_count": 9,
   "metadata": {},
   "outputs": [],
   "source": [
    "# drop end of period plays\n",
    "\n",
    "eop = ['End of Game','End of Half','End Period']\n",
    "df = df.loc[~df['play_type'].isin(eop)]\n"
   ]
  },
  {
   "cell_type": "code",
   "execution_count": 10,
   "metadata": {},
   "outputs": [],
   "source": [
    "# validate\n",
    "bad = df.loc[df['offense_x']!=df['offense_y']]\n",
    "# print(bad[['tr_game','play_text','offense_x','offense_y']].head(25))\n",
    "# offense_x seems to be correct while offense_y is not\n",
    "\n",
    "df = df.drop(columns=['defense_y','defense_conference_y','offense_y','offense_conference_y'])\n",
    "\n",
    "df = df.rename(columns={'defense_x':'defense','defense_conference_x':'defense_conference','offense_x':'offense','offense_conference_x':'offense_conference'})\n"
   ]
  },
  {
   "cell_type": "code",
   "execution_count": 11,
   "metadata": {},
   "outputs": [],
   "source": [
    "# fix bad distances\n",
    "\n",
    "zeros = df.loc[df['distance'] == 0]\n",
    "# print(len(zeros))\n",
    "# print(zeros.groupby(['play_type'])['distance'].count())\n",
    "# print(zeros.play_text.tail(50))\n",
    "\n",
    "# drop negative distances. change 0 distances to 0.5 yard\n",
    "df = df.loc[df['distance']>=0]\n",
    "\n",
    "df = df.rename(columns={'distance':'wrong_distance'})\n",
    "df['distance'] = np.where(df['wrong_distance']>0,df['wrong_distance'],0.5)\n",
    "df = df.drop(columns=['wrong_distance'])\n"
   ]
  },
  {
   "cell_type": "code",
   "execution_count": 12,
   "metadata": {},
   "outputs": [
    {
     "name": "stdout",
     "output_type": "stream",
     "text": [
      "442\n"
     ]
    }
   ],
   "source": [
    "# fix bad downs\n",
    "zero_down = df.loc[df['down']==0]\n",
    "print(len(zero_down))\n",
    "\n",
    "# impute down + 1 from previous play, to max of 4\n",
    "df['down'] = np.where(df['down']>0,df['down'],df['down'].shift()+1)\n",
    "# still 18 bad\n",
    "\n",
    "df = df.loc[(df['down']>0)&(df['down']<5)]"
   ]
  },
  {
   "cell_type": "markdown",
   "metadata": {},
   "source": [
    "# Feature Engineering\n",
    "\n",
    "### Need 6 Features:\n",
    "-Down (check)  \n",
    "-Seconds left in half (check)  \n",
    "-Yards to go for touchdown (log?)  \n",
    "-Yards to go for first down (log?)    \n",
    "-Goal to goal indicator  \n",
    "-Under 2 minutes indicator  "
   ]
  },
  {
   "cell_type": "code",
   "execution_count": 13,
   "metadata": {},
   "outputs": [
    {
     "name": "stdout",
     "output_type": "stream",
     "text": [
      "['away', 'defense', 'defense_conference', 'defense_score', 'down', 'drive_id', 'home', 'id', 'offense', 'offense_conference', 'offense_score', 'period', 'play_text', 'play_type', 'yard_line', 'yards_gained', 'season', 'week', 'season_type', 'drive_result', 'elapsed.minutes', 'elapsed.seconds', 'end_period', 'end_time.minutes', 'end_time.seconds', 'end_yardline', 'game_id', 'plays', 'scoring', 'start_period', 'start_time.minutes', 'start_time.seconds', 'start_yardline', 'yards', 'tr_game', 'tr_half', 'distance']\n"
     ]
    }
   ],
   "source": [
    "print(list(df))"
   ]
  },
  {
   "cell_type": "code",
   "execution_count": 14,
   "metadata": {},
   "outputs": [],
   "source": [
    "# fix yard_line, it's w.r.t the home team\n",
    "df = df.rename(columns={'yard_line':'wrong_yardline'})\n",
    "df['yard_line'] = np.where(df['offense']==df['home'],df['wrong_yardline'],100-df['wrong_yardline'])\n",
    "# print(df[['home','offense','yard_line','wrong_yardline']].head(50))"
   ]
  },
  {
   "cell_type": "code",
   "execution_count": 15,
   "metadata": {},
   "outputs": [],
   "source": [
    "# get log 10 of distance\n",
    "df['l10_dist'] = np.log10(df['distance'])"
   ]
  },
  {
   "cell_type": "code",
   "execution_count": 16,
   "metadata": {},
   "outputs": [],
   "source": [
    "# goal to go\n",
    "df['GTG'] = np.where((df['yard_line']+df['distance']>=100),1,0)\n",
    "\n",
    "\n",
    "# under two min in half\n",
    "df['UTM'] = np.where(df['tr_half']<=120,1,0)"
   ]
  },
  {
   "cell_type": "markdown",
   "metadata": {},
   "source": [
    "# Save"
   ]
  },
  {
   "cell_type": "code",
   "execution_count": 17,
   "metadata": {},
   "outputs": [],
   "source": [
    "PATH = './output/processed.csv'\n",
    "df.to_csv(PATH,index=False)"
   ]
  }
 ],
 "metadata": {
  "kernelspec": {
   "display_name": "Python 3",
   "language": "python",
   "name": "python3"
  },
  "language_info": {
   "codemirror_mode": {
    "name": "ipython",
    "version": 3
   },
   "file_extension": ".py",
   "mimetype": "text/x-python",
   "name": "python",
   "nbconvert_exporter": "python",
   "pygments_lexer": "ipython3",
   "version": "3.7.4"
  }
 },
 "nbformat": 4,
 "nbformat_minor": 2
}
