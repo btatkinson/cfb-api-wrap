{
 "cells": [
  {
   "cell_type": "code",
   "execution_count": 1,
   "metadata": {},
   "outputs": [],
   "source": [
    "import pandas as pd\n",
    "import numpy as np \n",
    "import datetime\n",
    "import math\n",
    "import gc\n",
    "import requests\n",
    "gc.collect()\n",
    "\n",
    "from tqdm import tqdm"
   ]
  },
  {
   "cell_type": "markdown",
   "metadata": {},
   "source": [
    "# Load Processed Data"
   ]
  },
  {
   "cell_type": "code",
   "execution_count": 2,
   "metadata": {},
   "outputs": [
    {
     "name": "stdout",
     "output_type": "stream",
     "text": [
      "1927115\n"
     ]
    }
   ],
   "source": [
    "PATH = './output/processed.csv'\n",
    "df = pd.read_csv(PATH)\n",
    "print(len(df))"
   ]
  },
  {
   "cell_type": "markdown",
   "metadata": {},
   "source": [
    "## Challenges\n",
    "\n",
    "There are two main challenges when weighting an EPA model.  \n",
    "\n",
    "One, when teams get up 30 points, they will stop running efficient plays and just run clock. There needs to be some sort of penalty weight for plays when the score is out of hand. I'll try and arrive to this penalty empirically.  \n",
    "\n",
    "Two, in the Ron Yurko et. al. paper I'm referencing, they assign weighting penalties if the next score is 4 or 5 drives in the future. Essentially, in that case, the current drive isn't deterministic when it comes to expected points. Again, I'll try to arrive to this penalty empirically.  \n",
    "\n",
    "I'll start with the second challenge, and I'm going to approach it slightly differently. First, I'm going to take a small subset of the data and try to predict drives till next score. This should be near zero when in the opponent's redzone, and might max out (just a guess, 1.5) around a team's own 25. With multinomial logit, I can get a probability of zero, one, two, etc drives till next score. Then, using the rest of the data, I can group by drives till next score and predict probabilities of each type of score that way."
   ]
  },
  {
   "cell_type": "code",
   "execution_count": 3,
   "metadata": {},
   "outputs": [
    {
     "name": "stdout",
     "output_type": "stream",
     "text": [
      "36\n",
      "296840\n"
     ]
    }
   ],
   "source": [
    "gb = df.groupby(['game_id','drive_id'])['down'].count().reset_index()\n",
    "# gb = gb.groupby(['down'])['drive_id'].count()\n",
    "# gb = gb.sort_values(ascending=False)\n",
    "# gb = gb.reset_index()\n",
    "# gb = gb.rename(columns={'drive_id':'play_count'})\n",
    "_max = gb.down.max()\n",
    "print(_max)\n",
    "print(len(gb))"
   ]
  },
  {
   "cell_type": "code",
   "execution_count": 4,
   "metadata": {},
   "outputs": [
    {
     "data": {
      "text/plain": [
       "<Figure size 1500x900 with 1 Axes>"
      ]
     },
     "metadata": {},
     "output_type": "display_data"
    }
   ],
   "source": [
    "# just for fun/validation, wanted to look at \n",
    "import seaborn as sns\n",
    "import matplotlib.pyplot as plt\n",
    "from scipy import stats\n",
    "\n",
    "x = pd.Series(gb.down, name=\"play_count\")\n",
    "fig = plt.figure(figsize=[15,9])\n",
    "# ax1 = sns.kdeplot(x, bw=0.14, label=\"play_count\")\n",
    "ax = sns.distplot(x, bins=np.arange(0,_max), kde=False, norm_hist=True)\n",
    "ax.set(xlabel='play_count', ylabel='percentage of drives')\n",
    "ax.set_title('Distribution of Play Count on 300,000 CFB Drives')\n",
    "plt.show()\n",
    "\n",
    "fig.savefig(\"./plots/play_counts.png\")"
   ]
  },
  {
   "cell_type": "code",
   "execution_count": 5,
   "metadata": {},
   "outputs": [],
   "source": [
    "# add indicator if it's a scoring drive"
   ]
  },
  {
   "cell_type": "code",
   "execution_count": 94,
   "metadata": {},
   "outputs": [
    {
     "data": {
      "text/plain": [
       "drive_result\n",
       "BLOCKED FG                       144\n",
       "BLOCKED FG (TD) TD               159\n",
       "BLOCKED PUNT                     159\n",
       "BLOCKED PUNT TD                  125\n",
       "DOWNS                          51298\n",
       "END OF GAME                    33926\n",
       "END OF HALF                    32523\n",
       "FG GOOD                       239806\n",
       "FG GOOD TD                        31\n",
       "FG MISSED                      89035\n",
       "FG MISSED TD                     128\n",
       "FUMBLE                         73702\n",
       "FUMBLE RETURN TD                1497\n",
       "FUMBLE TD                       2652\n",
       "INCOMPLETE                       600\n",
       "INT                            98930\n",
       "INT RETURN TOUCH                 162\n",
       "INT TD                          6653\n",
       "KICKOFF                           39\n",
       "KICKOFF RETURN TD                 30\n",
       "LATERAL                            2\n",
       "MISSED FG TD                     275\n",
       "PASS COMPLETE                    297\n",
       "PASSING TD                    159048\n",
       "PASSING TD TD                    153\n",
       "PENALTY                          223\n",
       "POSS. ON DOWNS                  4331\n",
       "POSSESSION (FOR OT DRIVES)        24\n",
       "PUNT                          651761\n",
       "PUNT RETURN TD                  2750\n",
       "PUNT RETURN TD TD                 45\n",
       "PUNT TD                         1020\n",
       "RUSH                            2096\n",
       "RUSHING TD                    173532\n",
       "RUSHING TD TD                     55\n",
       "SACK                             406\n",
       "SF                              2085\n",
       "TD                            212896\n",
       "TIMEOUT                          149\n",
       "TURNOVER ON DOWNS              73471\n",
       "TURNOVER ON DOWNS TD             134\n",
       "Uncategorized                  10607\n",
       "Name: down, dtype: int64"
      ]
     },
     "execution_count": 94,
     "metadata": {},
     "output_type": "execute_result"
    }
   ],
   "source": [
    "gb = df.groupby(['drive_result'])['down'].count()\n",
    "gb"
   ]
  },
  {
   "cell_type": "code",
   "execution_count": 108,
   "metadata": {},
   "outputs": [
    {
     "name": "stdout",
     "output_type": "stream",
     "text": [
      "                     away           defense defense_conference  defense_score  \\\n",
      "1256922  Georgia Southern  Georgia Southern           Sun Belt            0.0   \n",
      "1256923  Georgia Southern  Georgia Southern           Sun Belt            0.0   \n",
      "1256924  Georgia Southern  Georgia Southern           Sun Belt            0.0   \n",
      "1256925  Georgia Southern  Georgia Southern           Sun Belt            0.0   \n",
      "1256926  Georgia Southern  Georgia Southern           Sun Belt            0.0   \n",
      "1256927  Georgia Southern  Georgia Southern           Sun Belt            0.0   \n",
      "1256928  Georgia Southern  Georgia Southern           Sun Belt            0.0   \n",
      "1256929  Georgia Southern  Georgia Southern           Sun Belt            0.0   \n",
      "\n",
      "         down    drive_id              home                  id  \\\n",
      "1256922   3.0  4005484217  New Mexico State  400548421102849906   \n",
      "1256923   2.0  4005484217  New Mexico State  400548421102849905   \n",
      "1256924   1.0  4005484217  New Mexico State  400548421102849904   \n",
      "1256925   1.0  4005484217  New Mexico State  400548421102849903   \n",
      "1256926   1.0  4005484217  New Mexico State  400548421102849902   \n",
      "1256927   2.0  4005484217  New Mexico State  400548421102849901   \n",
      "1256928   1.0  4005484217  New Mexico State  400548421101999201   \n",
      "1256929   4.0  4005484217  New Mexico State  400548421102849907   \n",
      "\n",
      "                  offense offense_conference  ...  start_time.seconds  \\\n",
      "1256922  New Mexico State           Sun Belt  ...                 7.0   \n",
      "1256923  New Mexico State           Sun Belt  ...                 7.0   \n",
      "1256924  New Mexico State           Sun Belt  ...                 7.0   \n",
      "1256925  New Mexico State           Sun Belt  ...                 7.0   \n",
      "1256926  New Mexico State           Sun Belt  ...                 7.0   \n",
      "1256927  New Mexico State           Sun Belt  ...                 7.0   \n",
      "1256928  New Mexico State           Sun Belt  ...                 7.0   \n",
      "1256929  New Mexico State           Sun Belt  ...                 7.0   \n",
      "\n",
      "         start_yardline yards tr_game  tr_half  distance  yard_line  l10_dist  \\\n",
      "1256922              22    48  2700.0    900.0      10.0       67.0  1.000000   \n",
      "1256923              22    48  2700.0    900.0       7.0       70.0  0.845098   \n",
      "1256924              22    48  2700.0    900.0      10.0       67.0  1.000000   \n",
      "1256925              22    48  2700.0    900.0      10.0       57.0  1.000000   \n",
      "1256926              22    48  2700.0    900.0      10.0       34.0  1.000000   \n",
      "1256927              22    48  2700.0    900.0       6.0       26.0  0.778151   \n",
      "1256928              22    48  2707.0    907.0      10.0       22.0  1.000000   \n",
      "1256929              22    48  2700.0    900.0      10.0       67.0  1.000000   \n",
      "\n",
      "        GTG UTM  \n",
      "1256922   0   0  \n",
      "1256923   0   0  \n",
      "1256924   0   0  \n",
      "1256925   0   0  \n",
      "1256926   0   0  \n",
      "1256927   0   0  \n",
      "1256928   0   0  \n",
      "1256929   0   0  \n",
      "\n",
      "[8 rows x 41 columns]\n",
      "Tyler Rogers pass incomplete to Joseph Matthews, broken up by Nick Wright\n",
      "Tyler Rogers pass complete to Joshua Bowen for a loss of 3 yards to the GeoSo 33\n",
      "Xavier Hall run for 3 yds to the GeoSo 30\n",
      "Tyler Rogers pass complete to Teldrick Morgan for 10 yds to the GeoSo 33 for a 1ST down\n",
      "Tyler Rogers pass complete to Joshua Bowen for 23 yds to the GeoSo 43 for a 1ST down\n",
      "Tyler Rogers pass complete to Jerrel Brown for 8 yds to the NMxSt 34 for a 1ST down\n",
      "Xavier Hall run for 4 yds to the NMxSt 26\n",
      "Maxwell Johnson run for 3 yds to the GeoSo 30\n",
      "36\n",
      "           game_id     drive_id  tr_game            offense  \\\n",
      "1256930  400548421   4005484218   2588.0   Georgia Southern   \n",
      "1256931  400548421   4005484218   2588.0   Georgia Southern   \n",
      "1256932  400548421   4005484218   2588.0   Georgia Southern   \n",
      "1347054  400763589   4007635891   3600.0           Southern   \n",
      "1347055  400763589   4007635891   3600.0           Southern   \n",
      "1347056  400763589   4007635891   3600.0           Southern   \n",
      "1410867  400787254  40078725411   2552.0          Air Force   \n",
      "1410868  400787254  40078725411   2552.0          Air Force   \n",
      "1410869  400787254  40078725411   2552.0          Air Force   \n",
      "1410870  400787254  40078725411   2552.0          Air Force   \n",
      "1410871  400787254  40078725411   2552.0          Air Force   \n",
      "1410872  400787254  40078725411   2552.0          Air Force   \n",
      "1411436  400787259  40078725911   2083.0               UNLV   \n",
      "1411437  400787259  40078725911   2083.0               UNLV   \n",
      "1411438  400787259  40078725911   2083.0               UNLV   \n",
      "1411439  400787259  40078725911   2083.0               UNLV   \n",
      "1475716  400757086  40075708612   1803.0         Washington   \n",
      "1519307  400869281   4008692815   3350.0      Bowling Green   \n",
      "1519308  400869281   4008692815   3350.0      Bowling Green   \n",
      "1519309  400869281   4008692815   3350.0      Bowling Green   \n",
      "1567405  400869143   4008691437   2519.0           Colorado   \n",
      "1571815  400869227  40086922717   1812.0   Louisiana Monroe   \n",
      "1594461  400869684  40086968412   1814.0     Michigan State   \n",
      "1609930  400869064  40086906423    800.0           Missouri   \n",
      "1609931  400869064  40086906423    800.0           Missouri   \n",
      "1609932  400869064  40086906423    800.0           Missouri   \n",
      "1689340  400938622  40093862212   1843.0          Charlotte   \n",
      "1689341  400938622  40093862212   1843.0          Charlotte   \n",
      "1706699  400935295  40093529514   1805.0               UCLA   \n",
      "1765328  400934559  40093455921   1458.0     Oklahoma State   \n",
      "1765329  400934559  40093455921   1458.0     Oklahoma State   \n",
      "1765330  400934559  40093455921   1458.0     Oklahoma State   \n",
      "1765331  400934559  40093455921   1458.0     Oklahoma State   \n",
      "1786234  401012254  40101225425    890.0  Stephen F. Austin   \n",
      "1786235  401012254  40101225425    890.0  Stephen F. Austin   \n",
      "1786236  401012254  40101225425    890.0  Stephen F. Austin   \n",
      "\n",
      "                       defense  \\\n",
      "1256930       New Mexico State   \n",
      "1256931       New Mexico State   \n",
      "1256932       New Mexico State   \n",
      "1347054         Louisiana Tech   \n",
      "1347055         Louisiana Tech   \n",
      "1347056         Louisiana Tech   \n",
      "1410867                Wyoming   \n",
      "1410868                Wyoming   \n",
      "1410869                Wyoming   \n",
      "1410870                Wyoming   \n",
      "1410871                Wyoming   \n",
      "1410872                Wyoming   \n",
      "1411436         San José State   \n",
      "1411437         San José State   \n",
      "1411438         San José State   \n",
      "1411439         San José State   \n",
      "1475716       Washington State   \n",
      "1519307       Middle Tennessee   \n",
      "1519308       Middle Tennessee   \n",
      "1519309       Middle Tennessee   \n",
      "1567405               Stanford   \n",
      "1571815             New Mexico   \n",
      "1594461               Illinois   \n",
      "1609930              Tennessee   \n",
      "1609931              Tennessee   \n",
      "1609932              Tennessee   \n",
      "1689340  Florida International   \n",
      "1689341  Florida International   \n",
      "1706699                Arizona   \n",
      "1765328                 Kansas   \n",
      "1765329                 Kansas   \n",
      "1765330                 Kansas   \n",
      "1765331                 Kansas   \n",
      "1786234      Mississippi State   \n",
      "1786235      Mississippi State   \n",
      "1786236      Mississippi State   \n",
      "\n",
      "                                                 play_text  \n",
      "1256930  Favian Upshaw run for a loss of 13 yards to th...  \n",
      "1256931      Favian Upshaw run for no gain to the GeoSo 34  \n",
      "1256932          Matt Breida run for 4 yds to the GeoSo 34  \n",
      "1347054  Austin Howard pass complete to Randall Menard ...  \n",
      "1347055  Austin Howard pass complete to Randall Menard ...  \n",
      "1347056  Austin Howard pass complete to Dillon Beard fo...  \n",
      "1410867  Karson Roberts pass complete to Alex Ludowig f...  \n",
      "1410868  Garrett Brown run for a loss of 5 yards to the...  \n",
      "1410869           D.J. Johnson run for 2 yds to the AFA 41  \n",
      "1410870                     Karson Roberts pass incomplete  \n",
      "1410871           Jacobi Owens run for 6 yds to the AFA 34  \n",
      "1410872          Karson Roberts run for 1 yd to the AFA 42  \n",
      "1411436  Kurt Palandech run for a loss of 1 yard to the...  \n",
      "1411437     Kurt Palandech pass incomplete to Devonte Boyd  \n",
      "1411438  SAN JOSÉ ST Penalty, Defensive offside (5 Yard...  \n",
      "1411439     Kurt Palandech pass incomplete to Devonte Boyd  \n",
      "1475716       Team run for a loss of 1 yard to the Wash 31  \n",
      "1519307       Josh Cleveland run for 6 yds to the BwGrn 31  \n",
      "1519308        Josh Cleveland run for 1 yd to the BwGrn 34  \n",
      "1519309  James Knapke pass complete to Josh Cleveland f...  \n",
      "1567405  STANFORD Penalty, face mask (15 yards) (15 Yar...  \n",
      "1571815          Ben Luckett run for 3 yds to the LaMon 28  \n",
      "1594461      TEAM run for a loss of 1 yard to the MchSt 24  \n",
      "1609930     Damarea Crockett run for 3 yds to the Misso 30  \n",
      "1609931     Drew Lock pass incomplete to Johnathon Johnson  \n",
      "1609932     Damarea Crockett run for 2 yds to the Misso 27  \n",
      "1689340  Benny LeMay run for 6 yds to the Charl 32 for ...  \n",
      "1689341          Benny LeMay run for 5 yds to the Charl 26  \n",
      "1706699           Soso Jamabo run for 5 yds to the UCLA 13  \n",
      "1765328  Mason Rudolph pass complete to Justice Hill fo...  \n",
      "1765329  Mason Rudolph sacked by KeyShaun Simmons for a...  \n",
      "1765330  OKLAHOMA ST Penalty, delay of game (-5 Yards) ...  \n",
      "1765331      Mason Rudolph pass incomplete to Justice Hill  \n",
      "1786234  Jae'lon Oglesby run for a loss of 3 yards to t...  \n",
      "1786235  Jake Blumrick pass complete to Frank Iheanacho...  \n",
      "1786236  Jake Blumrick pass incomplete, broken up by Ch...  \n",
      "[4005484218, 4007635891, 40078725411, 40078725911, 40075708612, 4008692815, 4008691437, 40086922717, 40086968412, 40086906423, 40093862212, 40093529514, 40093455921, 40101225425]\n"
     ]
    }
   ],
   "source": [
    "test = df.loc[df.drive_id == 4005484217]\n",
    "print(test)\n",
    "\n",
    "for pt in list(test.play_text.values):\n",
    "    print(pt)\n",
    "\n",
    "uncat = df.loc[(df['drive_result']=='KICKOFF')]\n",
    "\n",
    "print(len(uncat))\n",
    "print(uncat[['game_id','drive_id','tr_game','offense','defense','play_text']])\n",
    "# for uc in list(uncat.play_text.values):\n",
    "#     print(uc)\n",
    "# {'FG TD'}\n",
    "\n",
    "print(list(uncat.drive_id.unique()))"
   ]
  },
  {
   "cell_type": "code",
   "execution_count": 104,
   "metadata": {},
   "outputs": [
    {
     "name": "stdout",
     "output_type": "stream",
     "text": [
      "Favian Upshaw run for a loss of 13 yards to the GeoSo 21\n",
      "Favian Upshaw run for no gain to the GeoSo 34\n",
      "Matt Breida run for 4 yds to the GeoSo 34\n",
      "Austin Howard pass complete to Randall Menard for 11 yds to the Sthrn 20 for a 1ST down\n",
      "Austin Howard pass complete to Randall Menard for 10 yds to the Sthrn 30 for a 1ST down\n",
      "Austin Howard pass complete to Dillon Beard for 8 yds to the Sthrn 38\n",
      "Karson Roberts pass complete to Alex Ludowig for 10 yds to the AFA 39 for a 1ST down\n",
      "Garrett Brown run for a loss of 5 yards to the AFA 29\n",
      "D.J. Johnson run for 2 yds to the AFA 41\n",
      "Karson Roberts pass incomplete\n",
      "Jacobi Owens run for 6 yds to the AFA 34\n",
      "Karson Roberts run for 1 yd to the AFA 42\n",
      "Kurt Palandech run for a loss of 1 yard to the UNLV 29\n",
      "Kurt Palandech pass incomplete to Devonte Boyd\n",
      "SAN JOSÉ ST Penalty, Defensive offside (5 Yards) to the UNLV 30 for a 1ST down\n",
      "Kurt Palandech pass incomplete to Devonte Boyd\n",
      "Team run for a loss of 1 yard to the Wash 31\n",
      "Josh Cleveland run for 6 yds to the BwGrn 31\n",
      "Josh Cleveland run for 1 yd to the BwGrn 34\n",
      "James Knapke pass complete to Josh Cleveland for 2 yds to the BwGrn 33\n",
      "STANFORD Penalty, face mask (15 yards) (15 Yards) to the 50 yard line for a 1ST down\n",
      "Ben Luckett run for 3 yds to the LaMon 28\n",
      "TEAM run for a loss of 1 yard to the MchSt 24\n",
      "Damarea Crockett run for 3 yds to the Misso 30\n",
      "Drew Lock pass incomplete to Johnathon Johnson\n",
      "Damarea Crockett run for 2 yds to the Misso 27\n",
      "Benny LeMay run for 6 yds to the Charl 32 for a 1ST down\n",
      "Benny LeMay run for 5 yds to the Charl 26\n",
      "Soso Jamabo run for 5 yds to the UCLA 13\n",
      "Mason Rudolph pass complete to Justice Hill for 9 yds to the OKSt 27\n",
      "Mason Rudolph sacked by KeyShaun Simmons for a loss of 6 yards to the OKSt 23\n",
      "OKLAHOMA ST Penalty, delay of game (-5 Yards) to the OKSt 18\n",
      "Mason Rudolph pass incomplete to Justice Hill\n",
      "Jae'lon Oglesby run for a loss of 3 yards to the SFAus 22\n",
      "Jake Blumrick pass complete to Frank Iheanacho for 5 yds to the SFAus 27\n",
      "Jake Blumrick pass incomplete, broken up by Chris Rayford\n"
     ]
    }
   ],
   "source": [
    "for text in list(uncat.play_text.values):\n",
    "    print(text)"
   ]
  },
  {
   "cell_type": "code",
   "execution_count": 77,
   "metadata": {},
   "outputs": [],
   "source": [
    "# Kickoff Return TD drive results are usually penalties\n",
    "\n",
    "# except for this game, it seems very off\n",
    "df = df.loc[df.game_id != 252602572]"
   ]
  },
  {
   "cell_type": "code",
   "execution_count": 100,
   "metadata": {},
   "outputs": [],
   "source": [
    "# fix drive result kickoffs\n",
    "kos = df.loc[(df['drive_result']=='KICKOFF')]\n",
    "dids = list(kos.drive_id.unique())\n",
    "\n",
    "fgs = df.loc[(df['drive_id'].isin(dids))&df['play_text'].str.contains('Field Goal')]\n",
    "fg_ids = list(fgs.drive_id.unique())\n",
    "\n",
    "df.loc[df.drive_id.isin(fg_ids), 'drive_result'] = 'FG GOOD'\n",
    "\n",
    "\n",
    "punts = [4005483434]\n",
    "end_of_half = [40054770815]\n",
    "\n",
    "df.loc[df.drive_id.isin(punts), 'drive_result'] = 'PUNT'\n",
    "df.loc[df.drive_id.isin(end_of_half), 'drive_result'] = 'END OF HALF'\n",
    "\n",
    "# special cases\n",
    "\n",
    "df.loc[df.drive_id == 24269009911, 'drive_result'] = 'RUSHING TD'\n",
    "df.loc[df.drive_id == 24269009911, 'drive_id'] = 24269009912"
   ]
  },
  {
   "cell_type": "code",
   "execution_count": 71,
   "metadata": {},
   "outputs": [],
   "source": [
    "# fix Fg missed TDs\n",
    "brt = df.loc[(df['drive_result']=='FG MISSED TD')&df['play_text'].str.contains('BLOCKED')]\n",
    "brt_ids = list(brt.drive_id.unique())\n",
    "\n",
    "df.loc[df['drive_id'].isin(brt_ids), 'drive_result'] = 'BLOCKED FG (TD) TD'\n",
    "\n",
    "brt = df.loc[(df['drive_result']=='FG MISSED TD')&df['play_text'].str.contains('blocked')]\n",
    "brt_ids = list(brt.drive_id.unique())\n",
    "\n",
    "df.loc[df['drive_id'].isin(brt_ids), 'drive_result'] = 'BLOCKED FG (TD) TD'\n",
    "\n",
    "brt = df.loc[(df['drive_result']=='FG MISSED TD')&df['play_text'].str.contains('blocked,')]\n",
    "brt_ids = list(brt.drive_id.unique())\n",
    "\n",
    "df.loc[df['drive_id'].isin(brt_ids), 'drive_result'] = 'BLOCKED FG (TD) TD'"
   ]
  },
  {
   "cell_type": "code",
   "execution_count": 58,
   "metadata": {},
   "outputs": [],
   "source": [
    "# merge 'FG' and 'FG GOOD'\n",
    "df.loc[df['drive_result']=='FG', 'drive_result'] = 'FG GOOD' \n",
    "df.loc[df['drive_result']=='MADE FG', 'drive_result'] = 'FG GOOD' \n",
    "\n",
    "df.loc[df['drive_result']=='MISSED FG', 'drive_result'] = 'FG MISSED' "
   ]
  },
  {
   "cell_type": "code",
   "execution_count": 50,
   "metadata": {},
   "outputs": [],
   "source": [
    "# fix 'end of half TD'\n",
    "end_of_half = [29290230615,29304013515,32259006215,32308025415,32315015219,33250230613,33285263815,33327000821,40060388027]\n",
    "fumble_tds = [30279211614]\n",
    "int_tds = [30282006815,40079088219]\n",
    "rush_tds = [30247263316,30268006217,32243211716,32301000917,40054794315]\n",
    "pass_tds = [30324002112,32329023512]\n",
    "block_fg_td = [40054834612]\n",
    "\n",
    "df.loc[df['drive_id'].isin(end_of_half), 'drive_result'] = 'END OF HALF'\n",
    "df.loc[df['drive_id'].isin(fumble_tds), 'drive_result'] = 'FUMBLE RETURN TD'\n",
    "df.loc[df['drive_id'].isin(int_tds), 'drive_result'] = 'INT TD'\n",
    "df.loc[df['drive_id'].isin(rush_tds), 'drive_result'] = 'RUSHING TD'\n",
    "df.loc[df['drive_id'].isin(pass_tds), 'drive_result'] = 'PASSING TD'\n",
    "df.loc[df['drive_id'].isin(block_fg_td), 'drive_result'] = 'BLOCKED FG (TD) TD'"
   ]
  },
  {
   "cell_type": "code",
   "execution_count": 21,
   "metadata": {},
   "outputs": [],
   "source": [
    "# fix \"end of game TD\"\n",
    "int_tds = [30324020406,40087609227]\n",
    "fumble_tds = [40076354226,40086912120]\n",
    "end_of_game = [40078746229,40094526122]\n",
    "\n",
    "df.loc[df['drive_id'].isin(int_tds), 'drive_result'] = 'INT TD'\n",
    "df.loc[df['drive_id'].isin(fumble_tds), 'drive_result'] = 'FUMBLE RETURN TD'\n",
    "df.loc[df['drive_id'].isin(end_of_game), 'drive_result'] = 'END OF GAME'\n"
   ]
  },
  {
   "cell_type": "code",
   "execution_count": 9,
   "metadata": {},
   "outputs": [],
   "source": [
    "# fix \"downs TD\"\n",
    "passing_tds = [40054825721,4007635338,40076343011,40086953320,4010133465,4010128564]\n",
    "rushing_tds = [40054786022,40060392118,40086953316]\n",
    "interception_tds = [4005482704,40075690213,40076355220,4008696135,40086963817]\n",
    "\n",
    "df.loc[df['drive_id'].isin(passing_tds), 'drive_result'] = 'PASSING TD'\n",
    "df.loc[df['drive_id'].isin(rushing_tds), 'drive_result'] = 'RUSHING TD'\n",
    "df.loc[df['drive_id'].isin(interception_tds), 'drive_result'] = 'INT TD'"
   ]
  },
  {
   "cell_type": "code",
   "execution_count": 10,
   "metadata": {},
   "outputs": [],
   "source": [
    "# fix 'FG TD' drive result\n",
    "df.loc[((df.drive_id == 40054786811)&(df.offense=='Baylor')), 'drive_result'] = 'FG GOOD'\n",
    "df.loc[((df.drive_id == 40054786811)&(df.offense=='Baylor')), 'drive_id'] = 4005478681100\n",
    "\n",
    "df.loc[(df.drive_id == 40054786811), 'drive_result'] = 'RUSHING TD'"
   ]
  },
  {
   "cell_type": "code",
   "execution_count": 11,
   "metadata": {},
   "outputs": [],
   "source": [
    "# fix \"end of 4th\"\n",
    "df.loc[df['drive_result']=='END OF 4TH QUARTER', 'drive_result'] = 'END OF GAME'"
   ]
  },
  {
   "cell_type": "code",
   "execution_count": 12,
   "metadata": {},
   "outputs": [],
   "source": [
    "bfg_ids = [242550275,242760259,243250150,243250344]\n",
    "bfg_dids = [24255027512,24276025916,24325015008,24325034420]\n",
    "to_fix = [(x-1) for x in bfg_dids]\n",
    "\n",
    "df.loc[df['drive_id'].isin(to_fix), 'drive_result'] = 'BLOCKED FG (TD) TD' \n",
    "df.loc[df['drive_id'].isin(bfg_dids), 'drive_id'] = df.drive_id - 1\n"
   ]
  },
  {
   "cell_type": "code",
   "execution_count": 13,
   "metadata": {},
   "outputs": [],
   "source": [
    "bps = list(df.loc[df['drive_result']=='BLOCKED PUNT TD'].drive_id.unique())\n",
    "to_fix = [(x-1) for x in bps]\n",
    "\n",
    "df.loc[df['drive_id'].isin(to_fix), 'drive_result'] = 'BLOCKED PUNT TD' \n",
    "df.loc[df['drive_id'].isin(bps), 'drive_id'] = df.drive_id - 1"
   ]
  },
  {
   "cell_type": "code",
   "execution_count": null,
   "metadata": {},
   "outputs": [],
   "source": []
  },
  {
   "cell_type": "code",
   "execution_count": null,
   "metadata": {},
   "outputs": [],
   "source": []
  }
 ],
 "metadata": {
  "kernelspec": {
   "display_name": "Python 3",
   "language": "python",
   "name": "python3"
  },
  "language_info": {
   "codemirror_mode": {
    "name": "ipython",
    "version": 3
   },
   "file_extension": ".py",
   "mimetype": "text/x-python",
   "name": "python",
   "nbconvert_exporter": "python",
   "pygments_lexer": "ipython3",
   "version": "3.7.4"
  }
 },
 "nbformat": 4,
 "nbformat_minor": 2
}
