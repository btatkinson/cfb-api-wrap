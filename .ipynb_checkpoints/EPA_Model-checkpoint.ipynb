{
 "cells": [
  {
   "cell_type": "code",
   "execution_count": 1,
   "metadata": {},
   "outputs": [],
   "source": [
    "import pandas as pd\n",
    "import numpy as np \n",
    "import datetime\n",
    "import math\n",
    "import gc\n",
    "gc.collect()\n",
    "\n",
    "from tqdm import tqdm"
   ]
  },
  {
   "cell_type": "markdown",
   "metadata": {},
   "source": [
    "# Load Data"
   ]
  },
  {
   "cell_type": "code",
   "execution_count": 2,
   "metadata": {},
   "outputs": [
    {
     "name": "stderr",
     "output_type": "stream",
     "text": [
      "100%|██████████| 17/17 [00:16<00:00,  1.59s/it]"
     ]
    },
    {
     "name": "stdout",
     "output_type": "stream",
     "text": [
      "2223578 plays were loaded\n"
     ]
    },
    {
     "name": "stderr",
     "output_type": "stream",
     "text": [
      "\n"
     ]
    }
   ],
   "source": [
    "years = list(range(2002, int(datetime.datetime.now().year)))\n",
    "\n",
    "df = pd.DataFrame()\n",
    "for year in tqdm(years):\n",
    "    path = './output/'+str(year)+'/'+str(year)+'_pbp.csv'\n",
    "    sea_df = pd.read_csv(path)\n",
    "    df = pd.concat([df,sea_df])\n",
    "\n",
    "num_plays = len(df)\n",
    "print(str(num_plays) + \" plays were loaded\")"
   ]
  },
  {
   "cell_type": "code",
   "execution_count": 3,
   "metadata": {},
   "outputs": [
    {
     "name": "stdout",
     "output_type": "stream",
     "text": [
      "['away', 'clock.minutes', 'clock.seconds', 'defense', 'defense_conference', 'defense_score', 'distance', 'down', 'drive_id', 'home', 'id', 'offense', 'offense_conference', 'offense_score', 'period', 'play_text', 'play_type', 'yard_line', 'yards_gained']\n",
      "['Uncategorized', 'Kickoff Return (Offense)', 'Sack', 'Rush', 'Punt Return', 'Penalty', 'Pass Completion', 'Pass Incompletion', 'Safety', 'End Period', 'Pass Interception', 'Blocked Punt Touchdown', 'Fumble Recovery (Own)', 'Timeout', 'Fumble Recovery (Opponent)', 'Two Point Pass', 'Two Point Rush', 'Interception Return Touchdown', 'Blocked Punt', 'Punt Return Touchdown', 'Blocked Field Goal', 'Kickoff Return (Defense)', 'Fumble Return Touchdown', 'Kickoff Return Touchdown', 'Blocked PAT', 'Blocked Field Goal Touchdown', 'Missed Field Goal Return Touchdown', 'Punt', 'Pass', 'Kickoff', 'Extra Point Good', 'Field Goal Good', 'Field Goal Missed', 'Extra Point Missed', '2pt Conversion', 'Offensive 1pt Safety', 'Pass Reception', 'Passing Touchdown', 'Rushing Touchdown', 'Pass Interception Return', 'End of Half', 'End of Game', 'Defensive 2pt Conversion', 'Missed Field Goal Return', 'Interception']\n"
     ]
    }
   ],
   "source": [
    "print(list(df))\n",
    "print(list(df.play_type.unique()))"
   ]
  },
  {
   "cell_type": "code",
   "execution_count": 4,
   "metadata": {},
   "outputs": [
    {
     "name": "stdout",
     "output_type": "stream",
     "text": [
      "119\n",
      "3940     DeAngelo Hall (VT) took lateral and rushed for...\n",
      "11077    Terrence Biggers (MSU) took lateral and rushed...\n",
      "11092    Derek Abney (UK) took lateral and rushed for 1...\n",
      "13313    Terrance Phillips (PSU) took lateral and rushe...\n",
      "28227    Andrico Hines (MTSU) took lateral and rushed f...\n",
      "30739    Lance Pendleton (BYU) took lateral and rushed ...\n",
      "31087    Chris Bruhn (WSU) took lateral and rushed for ...\n",
      "33853    Tim Blackwell (USM) took lateral and rushed fo...\n",
      "36684    Bruce Gradkowski (TOL) took lateral and rushed...\n",
      "39523    Michael Turner (NIU) took lateral and rushed f...\n",
      "43241    Jason Samples (TSU) took lateral and rushed fo...\n",
      "48186    Steve Breaston (MICH) took lateral and rushed ...\n",
      "52925    Duane Coleman (CLEM) took lateral and rushed f...\n",
      "53764    Scott Lunde (WSU) took lateral and rushed for ...\n",
      "63806    Aric Williams (OSU) took lateral and rushed fo...\n",
      "75692    Garrett Lepisto (UCLA) took lateral and rushed...\n",
      "83122    Sean Taylor (MIA) took lateral and rushed for ...\n",
      "88638    Mike Williams (USC) took lateral and rushed fo...\n",
      "93369    Leon Washington (FSU) took lateral and rushed ...\n",
      "94973    Mark Bradley (OKLA) took lateral and rushed fo...\n",
      "1037                                           Begin Drive\n",
      "1040                                           Begin Drive\n",
      "1047                                           Begin Drive\n",
      "1626     Carlos Ousley (ARK) took lateral and rushed fo...\n",
      "16304    Kelvin Hayden (ILL) took lateral and rushed fo...\n",
      "20855    Norval McKenzie (VAN) took lateral and rushed ...\n",
      "21039                                          Begin Drive\n",
      "23547    Jason Leach (USC) took lateral and rushed for ...\n",
      "24342                                          Begin Drive\n",
      "26454    Jemalle Cornelius (FLA) took lateral and rushe...\n",
      "30534                                          Begin Drive\n",
      "30768    Marcus Rucker (RICE) took lateral and rushed f...\n",
      "31293    Eric Green (VT) took lateral and rushed for 47...\n",
      "35455                                          Begin Drive\n",
      "37355                                          Begin Drive\n",
      "37725    Tres Moses (RU) took lateral and rushed for no...\n",
      "38305    Sid Slater (CAL) took lateral and rushed for 1...\n",
      "42191                                          Begin Drive\n",
      "42201                                          Begin Drive\n",
      "46312    Roscoe Parrish (MIA) took lateral and rushed f...\n",
      "51256    Brian Brosnan (ILL) took lateral and rushed fo...\n",
      "57130                                          Begin Drive\n",
      "57723    Chris Leak (FLA) took lateral and rushed for 5...\n",
      "57724    O.J. Small (FLA) took lateral and rushed for -...\n",
      "59586    Chris Markey (UCLA) took lateral and rushed fo...\n",
      "61266                                          Begin Drive\n",
      "61275                                          Begin Drive\n",
      "61289                                          Begin Drive\n",
      "62967    Darrell Blackman (NCST) took lateral and rushe...\n",
      "63273                                          Begin Drive\n",
      "Name: play_text, dtype: object\n"
     ]
    }
   ],
   "source": [
    "def fix_uncat(play_type, play_text):\n",
    "    global mxpr\n",
    "    if play_type != 'Uncategorized':\n",
    "        return play_type\n",
    "    else:\n",
    "        if isinstance(play_text,str):\n",
    "            if \"Start of the 1st quarter.\" in play_text:\n",
    "                return \"End Period\"\n",
    "            elif \"Start of the 2nd quarter.\" in play_text:\n",
    "                return \"End Period\"\n",
    "            elif \"Start of the 3rd quarter.\" in play_text:\n",
    "                return \"End of Half\"\n",
    "            elif \"Start of the 4th quarter.\" in play_text:\n",
    "                return \"End Period\"\n",
    "            elif \"Start of overtime.\" in play_text:\n",
    "                return \"End Period\"\n",
    "            elif \"End of the game.\" in play_text:\n",
    "                return \"End of Game\"\n",
    "            elif \"Extra point\" in play_text:\n",
    "                if \"is good\" in play_text:\n",
    "                    return \"Extra Point Good\"\n",
    "                elif \"is no good.\" in play_text[-13:]:\n",
    "                    return \"Extra Point Missed\"\n",
    "                else:\n",
    "                    return play_type\n",
    "            elif \"field goal\" in play_text:\n",
    "                if \"is good\" in play_text:\n",
    "                    return \"Field Goal Good\"\n",
    "                elif \"is no good.\" in play_text[-13:]:\n",
    "                    return \"Field Goal Missed\"\n",
    "                else:\n",
    "                    print(play_text)\n",
    "                    return play_type\n",
    "            elif \"missed PAT returned.\" in play_text:\n",
    "                return \"Extra Point Missed\"\n",
    "            else:\n",
    "                return play_type\n",
    "    return play_type\n",
    "\n",
    "df['play_type'] = df.apply(lambda row: fix_uncat(row['play_type'], row['play_text']),axis=1)\n",
    "\n",
    "uncat = df.loc[df.play_type=='Uncategorized']\n",
    "mpr = uncat.loc[uncat.play_type.str.contains('missed PAT returned')]\n",
    "print(len(uncat))\n",
    "print(uncat.play_text.head(50))"
   ]
  },
  {
   "cell_type": "markdown",
   "metadata": {},
   "source": [
    "# Need Separate Model for XP, Kickoffs"
   ]
  },
  {
   "cell_type": "code",
   "execution_count": 5,
   "metadata": {},
   "outputs": [
    {
     "name": "stdout",
     "output_type": "stream",
     "text": [
      "2223578\n",
      "272727\n",
      "1950851\n"
     ]
    }
   ],
   "source": [
    "# drop_cols\n",
    "separate = ['End Period', 'Kickoff Return (Offense)', 'Extra Point Good', 'Timeout',\n",
    " 'End of Half', 'End of Game', 'Two Point Pass', 'Two Point Rush', \n",
    " 'Kickoff Return (Defense)', 'Uncategorized', 'Kickoff Return Touchdown', 'Blocked PAT','Kickoff', \n",
    " 'Extra Point Missed', '2pt Conversion', 'Defensive 2pt Conversion']\n",
    "\n",
    "print(len(df))\n",
    "sep_df = df.loc[df.play_type.isin(separate)]\n",
    "print(len(sep_df))\n",
    "df = df.loc[~df.play_type.isin(separate)]\n",
    "print(len(df))\n"
   ]
  },
  {
   "cell_type": "code",
   "execution_count": 6,
   "metadata": {},
   "outputs": [
    {
     "name": "stdout",
     "output_type": "stream",
     "text": [
      "1950851\n",
      "1944001\n"
     ]
    }
   ],
   "source": [
    "# drop overtime and 61 period 0 entries\n",
    "print(len(df))\n",
    "df = df.loc[df.period.isin([1,2,3,4])]\n",
    "print(len(df))"
   ]
  },
  {
   "cell_type": "code",
   "execution_count": 14,
   "metadata": {},
   "outputs": [
    {
     "name": "stdout",
     "output_type": "stream",
     "text": [
      "[0.0, 25.0, 45.0, 30.0, 11.0, 15.0, 40.0, 55.0, 18.0, 22.0, 54.0, 23.0, 33.0, 44.0, 20.0, 34.0, 4.0, 10.0, 53.0, 56.0, 51.0, 21.0, 6.0, 16.0, 46.0, 3.0, 58.0, 7.0, 47.0, 27.0, 57.0, 17.0, 48.0, 37.0, 24.0, 14.0, 50.0, 5.0, 35.0, 43.0, 39.0, 52.0, 26.0, 36.0, 42.0, 12.0, 2.0, 32.0, 28.0, 8.0, 31.0, 19.0, 9.0, 29.0, 13.0, 41.0, 59.0, 38.0, 49.0, 1.0]\n"
     ]
    }
   ],
   "source": [
    "print(list(df['clock.seconds'].unique()))\n",
    "\n",
    "# instead of zero its nan for clock.seconds and clock.minutes\n",
    "df['clock.seconds'] = df['clock.seconds'].fillna(0)\n",
    "df['clock.minutes'] = df['clock.minutes'].fillna(0)"
   ]
  },
  {
   "cell_type": "code",
   "execution_count": 16,
   "metadata": {},
   "outputs": [
    {
     "name": "stdout",
     "output_type": "stream",
     "text": [
      "    period  clock.minutes  clock.seconds  tr_half  tr_game\n",
      "2        1           14.0            0.0   1740.0   3540.0\n",
      "3        1           14.0           25.0   1765.0   3565.0\n",
      "4        1           14.0           45.0   1785.0   3585.0\n",
      "5        1           13.0           30.0   1710.0   3510.0\n",
      "6        1           11.0           11.0   1571.0   3371.0\n",
      "7        1           11.0            0.0   1560.0   3360.0\n",
      "8        1           13.0           15.0   1695.0   3495.0\n",
      "9        1           12.0           45.0   1665.0   3465.0\n",
      "10       1           12.0           25.0   1645.0   3445.0\n",
      "11       1           12.0            0.0   1620.0   3420.0\n"
     ]
    }
   ],
   "source": [
    "# # calculate time remaining in half\n",
    "def tr_half(period, minutes, seconds):\n",
    "    tr = 0\n",
    "    if period in [1,3]:\n",
    "        # add a quarter of time remaining\n",
    "        tr += 900\n",
    "    tr += (60 * minutes + seconds)\n",
    "    return tr\n",
    "\n",
    "def tr_game(period, minutes, seconds):\n",
    "    quarters_left = 4-period\n",
    "    added_secs = 15*60*quarters_left\n",
    "    return (60*minutes + seconds + added_secs)\n",
    "\n",
    "df['tr_half'] = df.apply(lambda row: tr_half(row['period'],row['clock.minutes'],row['clock.seconds']),axis=1)\n",
    "df['tr_game'] = df.apply(lambda row: tr_game(row['period'],row['clock.minutes'],row['clock.seconds']),axis=1)\n",
    "\n",
    "print(df[['period','clock.minutes','clock.seconds','tr_half','tr_game']].head(10))"
   ]
  },
  {
   "cell_type": "code",
   "execution_count": 19,
   "metadata": {},
   "outputs": [],
   "source": [
    "# drop clock numbers, not needed anymore \n",
    "df = df.drop(columns=['clock.minutes','clock.seconds'])"
   ]
  },
  {
   "cell_type": "markdown",
   "metadata": {},
   "source": [
    "# Get Desired Features\n",
    "\n",
    "Need 6 variables. Well 8.\n",
    "\n",
    "Down  \n",
    "Seconds left in half  \n",
    "Yards to go for touchdown (log?)  \n",
    "Yards to go for first down (log?)  \n",
    "Goal to goal indicator  \n",
    "Under 2 minutes indicator  \n",
    "\n",
    "Using two others to weigh observations\n",
    "\n",
    "Also need target variable. Next Score.\n"
   ]
  },
  {
   "cell_type": "code",
   "execution_count": 33,
   "metadata": {},
   "outputs": [
    {
     "name": "stdout",
     "output_type": "stream",
     "text": [
      "12660\n"
     ]
    }
   ],
   "source": [
    "df['game_id'] = df.loc[:,'drive_id'].astype(str).str[:-2].astype(int)"
   ]
  },
  {
   "cell_type": "code",
   "execution_count": 40,
   "metadata": {},
   "outputs": [
    {
     "name": "stdout",
     "output_type": "stream",
     "text": [
      "['away', 'defense', 'defense_conference', 'defense_score', 'distance', 'down', 'drive_id', 'home', 'id', 'offense', 'offense_conference', 'offense_score', 'period', 'play_text', 'play_type', 'yard_line', 'yards_gained', 'tr_half', 'tr_game', 'game_id']\n",
      "144\n",
      "[23243009601, 23243009603, 23243009604, 23243009606, 23243009607, 23243009608, 23243009610, 23243009611, 23243009612, 23243009614, 23243009615, 23243009617, 23243009619, 23243009621, 23243009623, 23243009625, 23243009626, 23243009628, 23243009630, 23243009631]\n",
      "            away   defense defense_conference  defense_score  distance  down  \\\n",
      "7467  Louisville  Kentucky                SEC              0        10     1   \n",
      "7466  Louisville  Kentucky                SEC              0        10     2   \n",
      "7465  Louisville  Kentucky                SEC              0        10     3   \n",
      "7464  Louisville  Kentucky                SEC              0        10     1   \n",
      "7463  Louisville  Kentucky                SEC              0        10     1   \n",
      "7460  Louisville  Kentucky                SEC              0        10     1   \n",
      "7461  Louisville  Kentucky                SEC              0         1     3   \n",
      "7462  Louisville  Kentucky                SEC              0         3     2   \n",
      "7459  Louisville  Kentucky                SEC              0         5     2   \n",
      "7458  Louisville  Kentucky                SEC              0         5     1   \n",
      "7457  Louisville  Kentucky                SEC              0         1     2   \n",
      "7456  Louisville  Kentucky                SEC              0         6     2   \n",
      "\n",
      "         drive_id      home             id     offense offense_conference  \\\n",
      "7467  23243009601  Kentucky  2324300960101  Louisville     Conference USA   \n",
      "7466  23243009601  Kentucky  2324300960102  Louisville     Conference USA   \n",
      "7465  23243009601  Kentucky  2324300960103  Louisville     Conference USA   \n",
      "7464  23243009601  Kentucky  2324300960104  Louisville     Conference USA   \n",
      "7463  23243009601  Kentucky  2324300960105  Louisville     Conference USA   \n",
      "7460  23243009601  Kentucky  2324300960108  Louisville     Conference USA   \n",
      "7461  23243009601  Kentucky  2324300960107  Louisville     Conference USA   \n",
      "7462  23243009601  Kentucky  2324300960106  Louisville     Conference USA   \n",
      "7459  23243009601  Kentucky  2324300960109  Louisville     Conference USA   \n",
      "7458  23243009601  Kentucky  2324300960110  Louisville     Conference USA   \n",
      "7457  23243009601  Kentucky  2324300960111  Louisville     Conference USA   \n",
      "7456  23243009601  Kentucky  2324300960112  Louisville     Conference USA   \n",
      "\n",
      "      offense_score  period  \\\n",
      "7467              0       1   \n",
      "7466              0       1   \n",
      "7465              0       1   \n",
      "7464              0       1   \n",
      "7463              0       1   \n",
      "7460              0       1   \n",
      "7461              0       1   \n",
      "7462              0       1   \n",
      "7459              0       1   \n",
      "7458              0       1   \n",
      "7457              0       1   \n",
      "7456              6       1   \n",
      "\n",
      "                                              play_text          play_type  \\\n",
      "7467  Stefan LeFors (UL) pass incomplete to the left...  Pass Incompletion   \n",
      "7466  Michael Bush (UL) rushed up the middle for no ...               Rush   \n",
      "7465  Stefan LeFors (UL) pass right side complete to...    Pass Completion   \n",
      "7464  Eric Shelton (UL) rushed up the middle for 18 ...               Rush   \n",
      "7463  Eric Shelton (UL) rushed up the middle for 7 y...               Rush   \n",
      "7460  Lionel Gates (UL) rushed up the middle for 5 y...               Rush   \n",
      "7461  Eric Shelton (UL) rushed up the middle for 4 y...               Rush   \n",
      "7462  Stefan LeFors (UL) pass right side complete to...    Pass Completion   \n",
      "7459  Stefan LeFors (UL) pass across the middle comp...    Pass Completion   \n",
      "7458  Eric Shelton (UL) rushed up the middle for 4 y...               Rush   \n",
      "7457                       5 yard penalty on Cardinals.            Penalty   \n",
      "7456  Eric Shelton (UL) rushed up the middle for a 6...               Rush   \n",
      "\n",
      "      yard_line  yards_gained  tr_half  tr_game    game_id  \n",
      "7467         80             0   1800.0   3600.0  232430096  \n",
      "7466         80             0   1795.0   3595.0  232430096  \n",
      "7465         80            31   1770.0   3570.0  232430096  \n",
      "7464         49            18   1730.0   3530.0  232430096  \n",
      "7463         31             7   1710.0   3510.0  232430096  \n",
      "7460         21             5   1680.0   3480.0  232430096  \n",
      "7461         26             4   1680.0   3480.0  232430096  \n",
      "7462         28             2   1680.0   3480.0  232430096  \n",
      "7459         16            11   1580.0   3380.0  232430096  \n",
      "7458          5             4   1540.0   3340.0  232430096  \n",
      "7457          1            -5   1510.0   3310.0  232430096  \n",
      "7456          6             6   1498.0   3298.0  232430096  \n",
      "[['Eric Shelton (UL) rushed up the middle for a 6 yard touchdown.']]\n"
     ]
    }
   ],
   "source": [
    "# test\n",
    "\n",
    "UK = df.loc[df['home']=='Kentucky']\n",
    "print(list(UK))\n",
    "\n",
    "game_ids = list(UK.game_id.unique())\n",
    "\n",
    "print(len(game_ids))\n",
    "\n",
    "# test game\n",
    "test_game = UK.loc[UK['game_id']==232430096]\n",
    "\n",
    "# sort by time remaining game\n",
    "test_game = test_game.sort_values(by='tr_game',ascending=False)\n",
    "print(list(test.drive_id.unique()))\n",
    "\n",
    "sample_drive = test_game.loc[test_game['drive_id']==23243009601]\n",
    "\n",
    "print(sample_drive.head(50))\n",
    "print(sample_drive[['play_text']].tail(1).values)"
   ]
  },
  {
   "cell_type": "code",
   "execution_count": 43,
   "metadata": {},
   "outputs": [
    {
     "name": "stdout",
     "output_type": "stream",
     "text": [
      "Eric Shelton (UL) rushed up the middle for a 6 yard touchdown.\n",
      "Stefan LeFors (UL) pass left side complete to D.J. Kamer (UL) for a 3 yard touchdown.\n",
      "Wildcats punt blocked, recovered by Jonathan Jackerson (UL), advanced for a touchdown.\n",
      "Jared Lorenzen (UK) pass left side complete to Glenn Holt Jr. (UK) for a 13 yard touchdown.\n",
      "Draak Davis (UK) rushed up the middle for a 1 yard touchdown.\n",
      "Jared Lorenzen (UK) pass right side complete to Keenan Burton (UK) for a 31 yard touchdown.\n",
      "Eric Shelton (UL) rushed right side for a 22 yard touchdown.\n",
      "Lionel Gates (UL) rushed left side for a 2 yard touchdown.\n"
     ]
    }
   ],
   "source": [
    "def add_tds(play_type, play_text):\n",
    "    if play_type != 'Penalty':\n",
    "        if 'touchdown' in play_text:\n",
    "            return 1\n",
    "    else:\n",
    "        return 0\n",
    "    \n",
    "test_game['touchdown'] = test_game.apply(lambda row: add_tds(row['play_type'],row['play_text']), axis=1)\n",
    "\n",
    "td_plays = test_game.loc[test_game['touchdown']==1]\n",
    "\n",
    "td_play_text = list(td_plays.play_text.values)\n",
    "for tpt in td_play_text:\n",
    "    print(tpt)\n",
    "    \n"
   ]
  },
  {
   "cell_type": "code",
   "execution_count": null,
   "metadata": {},
   "outputs": [],
   "source": []
  }
 ],
 "metadata": {
  "kernelspec": {
   "display_name": "Python 3",
   "language": "python",
   "name": "python3"
  },
  "language_info": {
   "codemirror_mode": {
    "name": "ipython",
    "version": 3
   },
   "file_extension": ".py",
   "mimetype": "text/x-python",
   "name": "python",
   "nbconvert_exporter": "python",
   "pygments_lexer": "ipython3",
   "version": "3.7.4"
  }
 },
 "nbformat": 4,
 "nbformat_minor": 2
}
