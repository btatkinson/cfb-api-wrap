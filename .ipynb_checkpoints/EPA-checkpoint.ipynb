{
 "cells": [
  {
   "cell_type": "code",
   "execution_count": 1,
   "metadata": {},
   "outputs": [],
   "source": [
    "import pandas as pd\n",
    "import numpy as np \n",
    "import datetime\n",
    "import math\n",
    "import gc\n",
    "import requests\n",
    "gc.collect()\n",
    "\n",
    "from tqdm import tqdm"
   ]
  },
  {
   "cell_type": "markdown",
   "metadata": {},
   "source": [
    "# Load Processed Data"
   ]
  },
  {
   "cell_type": "code",
   "execution_count": 2,
   "metadata": {},
   "outputs": [
    {
     "name": "stdout",
     "output_type": "stream",
     "text": [
      "1927115\n"
     ]
    }
   ],
   "source": [
    "PATH = './output/processed.csv'\n",
    "df = pd.read_csv(PATH)\n",
    "print(len(df))"
   ]
  },
  {
   "cell_type": "markdown",
   "metadata": {},
   "source": [
    "## Challenges\n",
    "\n",
    "There are two main challenges when weighting an EPA model.  \n",
    "\n",
    "One, when teams get up 30 points, they will stop running efficient plays and just run clock. There needs to be some sort of penalty weight for plays when the score is out of hand. I'll try and arrive to this penalty empirically.  \n",
    "\n",
    "Two, in the Ron Yurko et. al. paper I'm referencing, they assign weighting penalties if the next score is 4 or 5 drives in the future. Essentially, in that case, the current drive isn't deterministic when it comes to expected points. Again, I'll try to arrive to this penalty empirically.  \n",
    "\n",
    "I'll start with the second challenge, and I'm going to approach it slightly differently. First, I'm going to take a small subset of the data and try to predict drives till next score. This should be near zero when in the opponent's redzone, and might max out (just a guess, 1.5) around a team's own 25. With multinomial logit, I can get a probability of zero, one, two, etc drives till next score. Then, using the rest of the data, I can group by drives till next score and predict probabilities of each type of score that way."
   ]
  },
  {
   "cell_type": "code",
   "execution_count": 3,
   "metadata": {},
   "outputs": [
    {
     "name": "stdout",
     "output_type": "stream",
     "text": [
      "36\n",
      "296840\n"
     ]
    }
   ],
   "source": [
    "gb = df.groupby(['game_id','drive_id'])['down'].count().reset_index()\n",
    "# gb = gb.groupby(['down'])['drive_id'].count()\n",
    "# gb = gb.sort_values(ascending=False)\n",
    "# gb = gb.reset_index()\n",
    "# gb = gb.rename(columns={'drive_id':'play_count'})\n",
    "_max = gb.down.max()\n",
    "print(_max)\n",
    "print(len(gb))"
   ]
  },
  {
   "cell_type": "code",
   "execution_count": 4,
   "metadata": {},
   "outputs": [
    {
     "data": {
      "text/plain": [
       "<Figure size 1500x900 with 1 Axes>"
      ]
     },
     "metadata": {},
     "output_type": "display_data"
    }
   ],
   "source": [
    "# just for fun/validation, wanted to look at \n",
    "import seaborn as sns\n",
    "import matplotlib.pyplot as plt\n",
    "from scipy import stats\n",
    "\n",
    "x = pd.Series(gb.down, name=\"play_count\")\n",
    "fig = plt.figure(figsize=[15,9])\n",
    "# ax1 = sns.kdeplot(x, bw=0.14, label=\"play_count\")\n",
    "ax = sns.distplot(x, bins=np.arange(0,_max), kde=False, norm_hist=True)\n",
    "ax.set(xlabel='play_count', ylabel='percentage of drives')\n",
    "ax.set_title('Distribution of Play Count on 300,000 CFB Drives')\n",
    "plt.show()\n",
    "\n",
    "fig.savefig(\"./plots/play_counts.png\")"
   ]
  },
  {
   "cell_type": "code",
   "execution_count": 5,
   "metadata": {},
   "outputs": [],
   "source": [
    "# add indicator if it's a scoring drive"
   ]
  },
  {
   "cell_type": "code",
   "execution_count": 6,
   "metadata": {},
   "outputs": [
    {
     "data": {
      "text/plain": [
       "drive_result\n",
       "BLOCKED FG                       186\n",
       "BLOCKED FG (TD) TD                 4\n",
       "BLOCKED PUNT                     256\n",
       "BLOCKED PUNT TD                   28\n",
       "DOWNS                          51298\n",
       "DOWNS TD                          99\n",
       "END OF 4TH QUARTER               234\n",
       "END OF GAME                    33699\n",
       "END OF GAME TD                    22\n",
       "END OF HALF                    32496\n",
       "END OF HALF TD                    75\n",
       "FG                             91065\n",
       "FG GOOD                       139204\n",
       "FG GOOD TD                        31\n",
       "FG MISSED                      53611\n",
       "FG MISSED TD                     229\n",
       "FG TD                             22\n",
       "FUMBLE                         73713\n",
       "FUMBLE RETURN TD                1485\n",
       "FUMBLE TD                       2652\n",
       "INCOMPLETE                       600\n",
       "INT                            98958\n",
       "INT RETURN TOUCH                 162\n",
       "INT TD                          6608\n",
       "KICKOFF                           81\n",
       "KICKOFF RETURN TD                 34\n",
       "LATERAL                            2\n",
       "MADE FG                         9554\n",
       "MISSED FG                      35424\n",
       "MISSED FG TD                     275\n",
       "PASS COMPLETE                    297\n",
       "PASSING TD                    158998\n",
       "PASSING TD TD                    153\n",
       "PENALTY                          223\n",
       "POSS. ON DOWNS                  4331\n",
       "POSSESSION (FOR OT DRIVES)        24\n",
       "PUNT                          651766\n",
       "PUNT RETURN TD                  2750\n",
       "PUNT RETURN TD TD                 45\n",
       "PUNT TD                         1020\n",
       "RUSH                            2096\n",
       "RUSHING TD                    173500\n",
       "RUSHING TD TD                     55\n",
       "SACK                             406\n",
       "SF                              2085\n",
       "TD                            212896\n",
       "TIMEOUT                          149\n",
       "TURNOVER ON DOWNS              73471\n",
       "TURNOVER ON DOWNS TD             134\n",
       "Uncategorized                  10609\n",
       "Name: down, dtype: int64"
      ]
     },
     "execution_count": 6,
     "metadata": {},
     "output_type": "execute_result"
    }
   ],
   "source": [
    "gb = df.groupby(['drive_result'])['down'].count()\n",
    "gb"
   ]
  },
  {
   "cell_type": "code",
   "execution_count": 8,
   "metadata": {},
   "outputs": [
    {
     "name": "stdout",
     "output_type": "stream",
     "text": [
      "Kevin Parks run for 1 yd to the Virg 38\n",
      "Goff, Jared pass complete to Rubenzer, Luke for 11 yards to the COLO35, PENALTY CAL illegal forward pass (Rubenzer, Luke) 11 yards to the COLO35, NO PLAY.\n",
      "Timeout CALIFORNIA, clock 00:01\n",
      "Jared Goff pass complete to Trevor Davis for 9 yds to the Colo 46\n",
      "Jared Goff pass incomplete to Trevor Davis\n",
      "Goff, Jared pass incomplete, PENALTY COLO holding (Crawley, Ken) 10 yards to the CAL45, 1ST DOWN CAL, NO PLAY. for a 1ST down\n",
      "Jared Goff pass incomplete\n",
      "WEST VIRGINIA Penalty, unsportsmanlike conduct (Kj Dillon) to the WVirg 13\n",
      "Tyler Rogers pass incomplete to Jordan Bergstrom\n",
      "Larry Rose III run for 11 yds to the UTEP 43 for a 1ST down\n",
      "Tyler Rogers pass incomplete to Teldrick Morgan\n",
      "Tyler Rogers pass incomplete to Tyrain Taylor\n",
      "Tyler Rogers pass complete to Jordan Bergstrom for 12 yds to the NMxSt 46 for a 1ST down\n",
      "Tyler Rogers run for 9 yds to the NMxSt 34\n",
      "Timeout NEW MEXICO ST, clock 00:15\n",
      "Tyler Rogers pass incomplete to Joshua Bowen\n",
      "Tyler Rogers pass incomplete to Tyrain Taylor\n",
      "Eddie Printz run for 10 yds to the TexSt 35 for a 1ST down\n",
      "ARKANSAS ST Penalty, personal foul (Blake Mack) to the ArkSt 8\n",
      "Torrance Marable run for 1 yd to the Presb 21\n",
      "Noah Johnson run for 6 yds to the AlcSt 7\n",
      "Trey Turner run for 4 yds to the AlcSt 11 for a 1ST down\n",
      "Noah Johnson pass complete to Trey Turner for 6 yds to the AlcSt 17\n",
      "Noah Johnson pass complete to Juan Anthony Jr. for 7 yds Juan Anthony Jr. fumbled, recovered by AlcSt Isiah Thomas for a 1ST down\n"
     ]
    }
   ],
   "source": [
    "for text in list(uncat.play_text.values):\n",
    "    print(text)"
   ]
  }
 ],
 "metadata": {
  "kernelspec": {
   "display_name": "Python 3",
   "language": "python",
   "name": "python3"
  },
  "language_info": {
   "codemirror_mode": {
    "name": "ipython",
    "version": 3
   },
   "file_extension": ".py",
   "mimetype": "text/x-python",
   "name": "python",
   "nbconvert_exporter": "python",
   "pygments_lexer": "ipython3",
   "version": "3.7.4"
  }
 },
 "nbformat": 4,
 "nbformat_minor": 2
}
