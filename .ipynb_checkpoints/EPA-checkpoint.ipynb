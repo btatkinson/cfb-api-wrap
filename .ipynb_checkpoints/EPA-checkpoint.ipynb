{
 "cells": [
  {
   "cell_type": "code",
   "execution_count": 1,
   "metadata": {},
   "outputs": [],
   "source": [
    "import pandas as pd\n",
    "import numpy as np \n",
    "import datetime\n",
    "import math\n",
    "import gc\n",
    "import requests\n",
    "gc.collect()\n",
    "\n",
    "from tqdm import tqdm"
   ]
  },
  {
   "cell_type": "markdown",
   "metadata": {},
   "source": [
    "# Load Processed Data"
   ]
  },
  {
   "cell_type": "code",
   "execution_count": 2,
   "metadata": {},
   "outputs": [
    {
     "name": "stdout",
     "output_type": "stream",
     "text": [
      "1878292\n"
     ]
    }
   ],
   "source": [
    "PATH = './output/processed.csv'\n",
    "df = pd.read_csv(PATH)\n",
    "print(len(df))"
   ]
  },
  {
   "cell_type": "markdown",
   "metadata": {},
   "source": [
    "## Challenges\n",
    "\n",
    "There are two main challenges when weighting an EPA model.  \n",
    "\n",
    "One, when teams get up 30 points, they will stop running efficient plays and just run clock. There needs to be some sort of penalty weight for plays when the score is out of hand. I'll try and arrive to this penalty empirically.  \n",
    "\n",
    "Two, in the Ron Yurko et. al. paper I'm referencing, they assign weighting penalties if the next score is 4 or 5 drives in the future. Essentially, in that case, the current drive isn't deterministic when it comes to expected points. Again, I'll try to arrive to this penalty empirically.  \n",
    "\n",
    "I'll start with the second challenge, and I'm going to approach it slightly differently. First, I'm going to take a small subset of the data and try to predict drives till next score. This should be near zero when in the opponent's redzone, and might max out (just a guess, 1.5) around a team's own 25. With multinomial logit, I can get a probability of zero, one, two, etc drives till next score. Then, using the rest of the data, I can group by drives till next score and predict probabilities of each type of score that way."
   ]
  },
  {
   "cell_type": "code",
   "execution_count": 3,
   "metadata": {},
   "outputs": [
    {
     "name": "stdout",
     "output_type": "stream",
     "text": [
      "36\n",
      "286844\n"
     ]
    }
   ],
   "source": [
    "gb = df.groupby(['game_id','drive_id'])['down'].count().reset_index()\n",
    "# gb = gb.groupby(['down'])['drive_id'].count()\n",
    "# gb = gb.sort_values(ascending=False)\n",
    "# gb = gb.reset_index()\n",
    "# gb = gb.rename(columns={'drive_id':'play_count'})\n",
    "_max = gb.down.max()\n",
    "print(_max)\n",
    "print(len(gb))"
   ]
  },
  {
   "cell_type": "code",
   "execution_count": 4,
   "metadata": {},
   "outputs": [
    {
     "data": {
      "text/plain": [
       "<Figure size 1500x900 with 1 Axes>"
      ]
     },
     "metadata": {},
     "output_type": "display_data"
    }
   ],
   "source": [
    "# just for fun/validation, wanted to look at \n",
    "import seaborn as sns\n",
    "import matplotlib.pyplot as plt\n",
    "from scipy import stats\n",
    "\n",
    "x = pd.Series(gb.down, name=\"play_count\")\n",
    "fig = plt.figure(figsize=[15,9])\n",
    "# ax1 = sns.kdeplot(x, bw=0.14, label=\"play_count\")\n",
    "ax = sns.distplot(x, bins=np.arange(0,_max), kde=False, norm_hist=True)\n",
    "ax.set(xlabel='play_count', ylabel='percentage of drives')\n",
    "ax.set_title('Distribution of Play Count on 300,000 CFB Drives')\n",
    "plt.show()\n",
    "\n",
    "fig.savefig(\"./plots/play_counts.png\")"
   ]
  },
  {
   "cell_type": "code",
   "execution_count": 5,
   "metadata": {},
   "outputs": [],
   "source": [
    "# Drives labelled \"FG MISSED TD\" are actually made field goals, ensuing kickoff returned for TD\n",
    "\n",
    "df.loc[df.drive_result=='FG MISSED TD', 'drive_result'] = 'FG GOOD'"
   ]
  },
  {
   "cell_type": "code",
   "execution_count": 6,
   "metadata": {},
   "outputs": [],
   "source": [
    "# fix 'FG GOOD TD'\n",
    "# for text in list(cat.tr_game.values):\n",
    "#     print(text)\n",
    "fgs = [30282005814]\n",
    "rush_tds = [32252239316, 32266019408]\n",
    "\n",
    "df.loc[df.drive_id==30282005814, 'drive_result'] = 'FG GOOD'\n",
    "\n",
    "df.loc[df.drive_id.isin(rush_tds), 'drive_result'] = 'RUSHING TD'"
   ]
  },
  {
   "cell_type": "code",
   "execution_count": 40,
   "metadata": {},
   "outputs": [],
   "source": [
    "# standardize\n",
    "df.loc[df.drive_result=='FUMBLE RETURN TD', 'drive_result'] = 'FUMBLE TD'\n",
    "\n",
    "df.loc[df.drive_result == 'INT RETURN TOUCH', 'drive_result'] = 'INT TD'\n",
    "\n",
    "df.loc[df.drive_result == 'BLOCKED FG (TD) TD', 'drive_result'] = 'MISSED FG TD'\n",
    "\n",
    "df.loc[df.drive_result=='POSS. ON DOWNS', 'drive_result'] = 'TURNOVER ON DOWNS'"
   ]
  },
  {
   "cell_type": "code",
   "execution_count": 8,
   "metadata": {},
   "outputs": [],
   "source": [
    "# for incompletes, if there is barely any time left, drive result = end of half or end of game. \n",
    "# otherwise turnover on downs\n",
    "\n",
    "incomp = df.loc[df.drive_result == 'INCOMPLETE']\n",
    "\n",
    "icb = incomp.groupby(['drive_id'])['tr_game'].min().reset_index()\n",
    "\n",
    "eofg = icb.loc[icb.tr_game < 30]\n",
    "eofg_ids = list(eofg.drive_id.values)\n",
    "\n",
    "incomp = incomp.loc[~incomp.drive_id.isin(eofg_ids)]\n",
    "\n",
    "icb = incomp.groupby(['drive_id'])['tr_half'].min().reset_index()\n",
    "eofh = icb.loc[icb.tr_half < 30]\n",
    "eofh_ids = list(eofh.drive_id.values)\n",
    "\n",
    "incomp = incomp.loc[~incomp.drive_id.isin(eofh_ids)]\n",
    "\n",
    "down_ids = list(incomp.drive_id.values)\n",
    "\n",
    "df.loc[df.drive_id.isin(eofg_ids), 'drive_result'] = 'END OF GAME'\n",
    "df.loc[df.drive_id.isin(eofh_ids), 'drive_result'] = 'END OF HALF'\n",
    "df.loc[df.drive_id.isin(down_ids), 'drive_result'] = 'TURNOVER ON DOWNS'"
   ]
  },
  {
   "cell_type": "code",
   "execution_count": 33,
   "metadata": {},
   "outputs": [],
   "source": [
    "# same with completes\n",
    "\n",
    "comp = df.loc[df.drive_result == 'PASS COMPLETE']\n",
    "\n",
    "ccb = comp.groupby(['drive_id'])['tr_game'].min().reset_index()\n",
    "\n",
    "eofg = ccb.loc[ccb.tr_game < 30]\n",
    "eofg_ids = list(eofg.drive_id.values)\n",
    "\n",
    "comp = comp.loc[~comp.drive_id.isin(eofg_ids)]\n",
    "\n",
    "ccb = comp.groupby(['drive_id'])['tr_half'].min().reset_index()\n",
    "eofh = ccb.loc[ccb.tr_half < 30]\n",
    "eofh_ids = list(eofh.drive_id.values)\n",
    "\n",
    "comp = comp.loc[~comp.drive_id.isin(eofh_ids)]\n",
    "\n",
    "down_ids = list(comp.drive_id.values)\n",
    "\n",
    "df.loc[df.drive_id.isin(eofg_ids), 'drive_result'] = 'END OF GAME'\n",
    "df.loc[df.drive_id.isin(eofh_ids), 'drive_result'] = 'END OF HALF'\n",
    "df.loc[df.drive_id.isin(down_ids), 'drive_result'] = 'TURNOVER ON DOWNS'"
   ]
  },
  {
   "cell_type": "code",
   "execution_count": 36,
   "metadata": {},
   "outputs": [],
   "source": [
    "# same with penalties\n",
    "\n",
    "pens = df.loc[df.drive_result == 'PENALTY']\n",
    "\n",
    "pcb = pens.groupby(['drive_id'])['tr_game'].min().reset_index()\n",
    "\n",
    "eofg = pcb.loc[pcb.tr_game < 30]\n",
    "eofg_ids = list(eofg.drive_id.values)\n",
    "\n",
    "pens = pens.loc[~pens.drive_id.isin(eofg_ids)]\n",
    "\n",
    "pcb = pens.groupby(['drive_id'])['tr_half'].min().reset_index()\n",
    "eofh = pcb.loc[pcb.tr_half < 30]\n",
    "eofh_ids = list(eofh.drive_id.values)\n",
    "\n",
    "pens = pens.loc[~pens.drive_id.isin(eofh_ids)]\n",
    "\n",
    "down_ids = list(pens.drive_id.values)\n",
    "\n",
    "df.loc[df.drive_id.isin(eofg_ids), 'drive_result'] = 'END OF GAME'\n",
    "df.loc[df.drive_id.isin(eofh_ids), 'drive_result'] = 'END OF HALF'\n",
    "df.loc[df.drive_id.isin(down_ids), 'drive_result'] = 'TURNOVER ON DOWNS'"
   ]
  },
  {
   "cell_type": "code",
   "execution_count": 12,
   "metadata": {},
   "outputs": [],
   "source": [
    "# for drive result == kickoffs, if there is barely any time remain in half, end of half\n",
    "# otherwise, i think they are just random plays out of other drives. dropping them\n",
    "\n",
    "kos = df.loc[df.drive_result == 'KICKOFF']\n",
    "\n",
    "kgb = kos.groupby(['drive_id'])['tr_half'].min().reset_index()\n",
    "\n",
    "eofh = kgb.loc[kgb.tr_half <= 60]\n",
    "eofh_ids = list(eofh.drive_id.values)\n",
    "\n",
    "kos = kos.loc[~kos.drive_id.isin(eofh_ids)]\n",
    "drops = list(kos.drive_id.values)\n",
    "\n",
    "df.loc[df.drive_id.isin(eofh_ids), 'drive_result'] = 'END OF HALF'\n",
    "\n",
    "df = df.loc[~df.drive_id.isin(drops)]"
   ]
  },
  {
   "cell_type": "code",
   "execution_count": 22,
   "metadata": {},
   "outputs": [],
   "source": [
    "# drop these, they're kickoff penalties\n",
    "df = df.loc[df.drive_result != 'KICKOFF RETURN TD']"
   ]
  },
  {
   "cell_type": "code",
   "execution_count": null,
   "metadata": {},
   "outputs": [],
   "source": []
  },
  {
   "cell_type": "code",
   "execution_count": 41,
   "metadata": {},
   "outputs": [
    {
     "data": {
      "text/plain": [
       "drive_result\n",
       "BLOCKED FG                 137\n",
       "BLOCKED PUNT               138\n",
       "BLOCKED PUNT TD            120\n",
       "DOWNS                    51256\n",
       "END OF GAME              34072\n",
       "END OF HALF              32698\n",
       "FG GOOD                 239813\n",
       "FG MISSED                88936\n",
       "FUMBLE                   69659\n",
       "FUMBLE TD                 4028\n",
       "INT                      93414\n",
       "INT TD                    6712\n",
       "MISSED FG TD               434\n",
       "PASSING TD              158987\n",
       "PASSING TD TD              153\n",
       "PUNT                    619434\n",
       "PUNT RETURN TD            2721\n",
       "PUNT RETURN TD TD           44\n",
       "PUNT TD                   1017\n",
       "Punt                        48\n",
       "RUSH                      1855\n",
       "RUSHING TD              173461\n",
       "RUSHING TD TD               55\n",
       "SACK                       400\n",
       "SF                        2073\n",
       "TD                      212689\n",
       "TIMEOUT                    148\n",
       "TURNOVER ON DOWNS        73951\n",
       "TURNOVER ON DOWNS TD       133\n",
       "Uncategorized             9666\n",
       "Name: down, dtype: int64"
      ]
     },
     "execution_count": 41,
     "metadata": {},
     "output_type": "execute_result"
    }
   ],
   "source": [
    "gb = df.groupby(['drive_result'])['down'].count()\n",
    "gb"
   ]
  },
  {
   "cell_type": "code",
   "execution_count": 45,
   "metadata": {},
   "outputs": [
    {
     "name": "stdout",
     "output_type": "stream",
     "text": [
      "          drive_id     offense  \\\n",
      "29625  24276002413  Washington   \n",
      "29627  24276002413  Washington   \n",
      "29628  24276002413  Washington   \n",
      "29629  24276002413  Washington   \n",
      "29630  24276002413  Washington   \n",
      "29631  24276002413  Washington   \n",
      "29632  24276002413  Washington   \n",
      "29633  24276002413  Washington   \n",
      "29634  24276002413  Washington   \n",
      "29635  24276002413  Washington   \n",
      "29636  24276002413  Washington   \n",
      "29637  24276002413  Washington   \n",
      "29638  24276002413  Washington   \n",
      "29639  24276002413  Washington   \n",
      "29640  24276002413    Stanford   \n",
      "29641  24276002413    Stanford   \n",
      "29642  24276002413    Stanford   \n",
      "29643  24276002413    Stanford   \n",
      "60154  24311026408  Washington   \n",
      "60155  24311026408  Washington   \n",
      "60156  24311026408  Washington   \n",
      "60157  24311026408  Washington   \n",
      "60158  24311026408  Washington   \n",
      "60159  24311026408  Washington   \n",
      "60160  24311026408  Washington   \n",
      "62642  24318000805    Arkansas   \n",
      "62643  24318000805    Arkansas   \n",
      "62644  24318000805    Arkansas   \n",
      "62645  24318000805    Arkansas   \n",
      "62646  24318000805    Arkansas   \n",
      "62647  24318000805    Arkansas   \n",
      "62648  24318000805    Arkansas   \n",
      "62649  24318000805    Arkansas   \n",
      "62650  24318000805    Arkansas   \n",
      "62651  24318000805    Arkansas   \n",
      "62652  24318000805    Arkansas   \n",
      "62653  24318000805    Ole Miss   \n",
      "62654  24318000805    Ole Miss   \n",
      "62655  24318000805    Ole Miss   \n",
      "62656  24318000805    Ole Miss   \n",
      "62657  24318000805    Ole Miss   \n",
      "75429  24339003820    Oklahoma   \n",
      "75430  24339003820    Oklahoma   \n",
      "75431  24339003820    Oklahoma   \n",
      "75432  24339003820    Oklahoma   \n",
      "75433  24339003820    Oklahoma   \n",
      "75434  24339003820    Oklahoma   \n",
      "75435  24339003820    Oklahoma   \n",
      "75436  24339003820    Oklahoma   \n",
      "75437  24339003820    Oklahoma   \n",
      "75438  24339003820    Colorado   \n",
      "75439  24339003820    Oklahoma   \n",
      "75440  24339003820    Colorado   \n",
      "75441  24339003820    Colorado   \n",
      "75442  24339003820    Colorado   \n",
      "\n",
      "                                               play_text  \n",
      "29625  Kenny James (UW) rushed right side for a 1 yar...  \n",
      "29627  James Sims Jr. (UW) rushed up the middle for 3...  \n",
      "29628    Kenny James (UW) rushed right side for 6 yards.  \n",
      "29629       Huskies timeout; 05:48 remaining 2nd quarter  \n",
      "29630  Carl Bonnell (UW) pass right side complete to ...  \n",
      "29631  Carl Bonnell (UW) pass incomplete to the left ...  \n",
      "29632  Carl Bonnell (UW) pass right side complete to ...  \n",
      "29633   Carl Bonnell (UW) rushed right side for 7 yards.  \n",
      "29634  James Sims Jr. (UW) rushed up the middle for 6...  \n",
      "29635  James Sims Jr. (UW) rushed up the middle for 3...  \n",
      "29636  Kenny James (UW) rushed up the middle for 6 ya...  \n",
      "29637  James Sims Jr. (UW) rushed up the middle for 6...  \n",
      "29638                         5 yard penalty on Huskies.  \n",
      "29639  Kenny James (UW) rushed up the middle for 13 y...  \n",
      "29640  Trent Edwards (STAN) pass incomplete across th...  \n",
      "29641  Trent Edwards (STAN) pass right side complete ...  \n",
      "29642  Trent Edwards (STAN) pass incomplete to the ri...  \n",
      "29643  Kenneth Tolon (STAN) rushed up the middle for ...  \n",
      "60154  Shelton Sampson (UW) rushed left side for a 5 ...  \n",
      "60155                         5 yard penalty on Huskies.  \n",
      "60156  Casey Paus (UW) pass incomplete across the mid...  \n",
      "60157  Casey Paus (UW) pass incomplete to the left side.  \n",
      "60158  Casey Paus (UW) rushed up the middle for 6 yards.  \n",
      "60159  Casey Paus (UW) pass left side complete to She...  \n",
      "60160  Casey Paus (UW) pass incomplete to the left side.  \n",
      "62642  DeCori Birmingham (ARK) rushed left side for a...  \n",
      "62643  De'Arrius Howard (ARK) rushed up the middle fo...  \n",
      "62644  Matt Jones (ARK) pass incomplete to the left s...  \n",
      "62645                          5 yard penalty on Rebels.  \n",
      "62646  Peyton Hillis (ARK) rushed up the middle for 3...  \n",
      "62647  De'Arrius Howard (ARK) rushed up the middle fo...  \n",
      "62648  De'Arrius Howard (ARK) rushed up the middle fo...  \n",
      "62649  Matt Jones (ARK) pass left side complete to Ma...  \n",
      "62650  Matt Jones (ARK) pass incomplete across the mi...  \n",
      "62651                      5 yard penalty on Razorbacks.  \n",
      "62652  DeCori Birmingham (ARK) rushed up the middle f...  \n",
      "62653  Brandon Jacobs (MISS) rushed left side for no ...  \n",
      "62654  Brandon Jacobs (MISS) rushed up the middle for...  \n",
      "62655  Jamal Pittman (MISS) rushed right side for 1 y...  \n",
      "62656     Mike Espy (MISS) rushed left side for 7 yards.  \n",
      "62657  Jamal Pittman (MISS) rushed left side for 14 y...  \n",
      "75429  Adrian Peterson (OKLA) rushed up the middle fo...  \n",
      "75430                       2 yard penalty on Buffaloes.  \n",
      "75431  Adrian Peterson (OKLA) rushed up the middle fo...  \n",
      "75432  Adrian Peterson (OKLA) rushed up the middle fo...  \n",
      "75433  Adrian Peterson (OKLA) rushed left side for 6 ...  \n",
      "75434  Kejuan Jones (OKLA) rushed up the middle for 8...  \n",
      "75435  Jason White (OKLA) pass across the middle comp...  \n",
      "75436  Jason White (OKLA) pass left side complete to ...  \n",
      "75437  Adrian Peterson (OKLA) rushed up the middle fo...  \n",
      "75438  John Torp (COL) pass left side complete to Dom...  \n",
      "75439                        13 yard penalty on Sooners.  \n",
      "75440  Joel Klatt (COL) pass right side complete to T...  \n",
      "75441  Joel Klatt (COL) pass incomplete to the right ...  \n",
      "75442  Joel Klatt (COL) pass incomplete to the right ...  \n"
     ]
    }
   ],
   "source": [
    "cat = df.loc[df.drive_result=='RUSHING TD TD']\n",
    "cat = cat.sort_values(by=['drive_id','tr_game'])\n",
    "print(cat[['drive_id','offense','play_text']])"
   ]
  },
  {
   "cell_type": "code",
   "execution_count": null,
   "metadata": {},
   "outputs": [],
   "source": [
    "# Rushing TD TD often is two drives with same ids\n",
    "\n",
    "# 24318000805 Ole Miss\n",
    "\n",
    "# 24339003820 Colorado\n",
    "\n",
    "# 24276002413 Stanford\n",
    "\n",
    "df.loc[((df.drive_id == 24318000805)&(df.offense=='Ole Miss')), 'drive_id'] = 2431800080500\n",
    "\n",
    "df.loc[((df.drive_id == 24339003820)&(df.offense=='Colorado')), 'drive_id'] = 2433900382000\n",
    "\n",
    "df.loc[((df.drive_id == 24276002413)&(df.offense=='Stanford')), 'drive_id'] = 2427600241300\n",
    "\n",
    "\n"
   ]
  },
  {
   "cell_type": "code",
   "execution_count": 43,
   "metadata": {},
   "outputs": [
    {
     "name": "stdout",
     "output_type": "stream",
     "text": [
      "Kenny James (UW) rushed right side for a 1 yard touchdown.\n",
      "James Sims Jr. (UW) rushed up the middle for 3 yards.\n",
      "Kenny James (UW) rushed right side for 6 yards.\n",
      "Huskies timeout; 05:48 remaining 2nd quarter\n",
      "Carl Bonnell (UW) pass right side complete to Sonny Shackelford (UW) for 4 yards.\n",
      "Carl Bonnell (UW) pass incomplete to the left side.\n",
      "Carl Bonnell (UW) pass right side complete to Jon Lyon (UW) for 14 yards.\n",
      "Carl Bonnell (UW) rushed right side for 7 yards.\n",
      "James Sims Jr. (UW) rushed up the middle for 6 yards.\n",
      "James Sims Jr. (UW) rushed up the middle for 3 yards.\n",
      "Kenny James (UW) rushed up the middle for 6 yards.\n",
      "James Sims Jr. (UW) rushed up the middle for 6 yards.\n",
      "5 yard penalty on Huskies.\n",
      "Kenny James (UW) rushed up the middle for 13 yards.\n",
      "Trent Edwards (STAN) pass incomplete across the middle.; turnover on downs.\n",
      "Trent Edwards (STAN) pass right side complete to Greg Camarillo (STAN) for 7 yards.\n",
      "Trent Edwards (STAN) pass incomplete to the right side.\n",
      "Kenneth Tolon (STAN) rushed up the middle for -3 yards.\n",
      "Shelton Sampson (UW) rushed left side for a 5 yard touchdown.\n",
      "5 yard penalty on Huskies.\n",
      "Casey Paus (UW) pass incomplete across the middle.\n",
      "Casey Paus (UW) pass incomplete to the left side.\n",
      "Casey Paus (UW) rushed up the middle for 6 yards.\n",
      "Casey Paus (UW) pass left side complete to Shelton Sampson (UW) for 57 yards.\n",
      "Casey Paus (UW) pass incomplete to the left side.\n",
      "DeCori Birmingham (ARK) rushed left side for a 11 yard touchdown.\n",
      "De'Arrius Howard (ARK) rushed up the middle for 7 yards.\n",
      "Matt Jones (ARK) pass incomplete to the left side.\n",
      "5 yard penalty on Rebels.\n",
      "Peyton Hillis (ARK) rushed up the middle for 3 yards.\n",
      "De'Arrius Howard (ARK) rushed up the middle for 1 yard.\n",
      "De'Arrius Howard (ARK) rushed up the middle for 8 yards.\n",
      "Matt Jones (ARK) pass left side complete to Marcus Monk (ARK) for 24 yards.\n",
      "Matt Jones (ARK) pass incomplete across the middle.\n",
      "5 yard penalty on Razorbacks.\n",
      "DeCori Birmingham (ARK) rushed up the middle for -1 yards.\n",
      "Brandon Jacobs (MISS) rushed left side for no gain; turnover on downs.\n",
      "Brandon Jacobs (MISS) rushed up the middle for no gain.\n",
      "Jamal Pittman (MISS) rushed right side for 1 yard.\n",
      "Mike Espy (MISS) rushed left side for 7 yards.\n",
      "Jamal Pittman (MISS) rushed left side for 14 yards.\n",
      "Adrian Peterson (OKLA) rushed up the middle for a 3 yard touchdown.\n",
      "2 yard penalty on Buffaloes.\n",
      "Adrian Peterson (OKLA) rushed up the middle for -1 yards.\n",
      "Adrian Peterson (OKLA) rushed up the middle for 12 yards.\n",
      "Adrian Peterson (OKLA) rushed left side for 6 yards.\n",
      "Kejuan Jones (OKLA) rushed up the middle for 8 yards.\n",
      "Jason White (OKLA) pass across the middle complete to Mark Clayton (OKLA) for 9 yards.\n",
      "Jason White (OKLA) pass left side complete to Travis Wilson (OKLA) for 4 yards.\n",
      "Adrian Peterson (OKLA) rushed up the middle for -2 yards.\n",
      "John Torp (COL) pass left side complete to Dominique Brooks (COL) for -1 yard; turnover on downs.\n",
      "13 yard penalty on Sooners.\n",
      "Joel Klatt (COL) pass right side complete to Tyler Littlehales (COL) for 8 yards.\n",
      "Joel Klatt (COL) pass incomplete to the right side.\n",
      "Joel Klatt (COL) pass incomplete to the right side.\n"
     ]
    }
   ],
   "source": [
    "for pt in list(cat.play_text.values):\n",
    "    print(pt)"
   ]
  },
  {
   "cell_type": "code",
   "execution_count": null,
   "metadata": {},
   "outputs": [],
   "source": []
  },
  {
   "cell_type": "code",
   "execution_count": null,
   "metadata": {},
   "outputs": [],
   "source": []
  }
 ],
 "metadata": {
  "kernelspec": {
   "display_name": "Python 3",
   "language": "python",
   "name": "python3"
  },
  "language_info": {
   "codemirror_mode": {
    "name": "ipython",
    "version": 3
   },
   "file_extension": ".py",
   "mimetype": "text/x-python",
   "name": "python",
   "nbconvert_exporter": "python",
   "pygments_lexer": "ipython3",
   "version": "3.7.4"
  }
 },
 "nbformat": 4,
 "nbformat_minor": 2
}
