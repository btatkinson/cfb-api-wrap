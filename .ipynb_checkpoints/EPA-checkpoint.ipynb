{
 "cells": [
  {
   "cell_type": "code",
   "execution_count": 1,
   "metadata": {},
   "outputs": [],
   "source": [
    "import pandas as pd\n",
    "import numpy as np \n",
    "import datetime\n",
    "import math\n",
    "import gc\n",
    "import requests\n",
    "gc.collect()\n",
    "\n",
    "from tqdm import tqdm"
   ]
  },
  {
   "cell_type": "markdown",
   "metadata": {},
   "source": [
    "# Load Processed Data"
   ]
  },
  {
   "cell_type": "code",
   "execution_count": 2,
   "metadata": {},
   "outputs": [],
   "source": [
    "PATH = './output/processed.csv'\n",
    "df = pd.read_csv(PATH)"
   ]
  },
  {
   "cell_type": "markdown",
   "metadata": {},
   "source": [
    "## Challenges\n",
    "\n",
    "There are two main challenges when weighting an EPA model.  \n",
    "\n",
    "One, when teams get up 30 points, they will stop running efficient plays and just run clock. There needs to be some sort of penalty weight for plays when the score is out of hand. I'll try and arrive to this penalty empirically.  \n",
    "\n",
    "Two, in the Ron Yurko et. al. paper I'm referencing, they assign weighting penalties if the next score is 4 or 5 drives in the future. Essentially, in that case, the current drive isn't deterministic when it comes to expected points. Again, I'll try to arrive to this penalty empirically.  \n",
    "\n",
    "I'll start with the second challenge, and I'm going to approach it slightly differently. First, I'm going to take a small subset of the data and try to predict drives till next score. This should be near zero when in the opponent's redzone, and might max out (just a guess, 1.5) around a team's own 25. With multinomial logit, I can get a probability of zero, one, two, etc drives till next score. Then, using the rest of the data, I can group by drives till next score and predict probabilities of each type of score that way."
   ]
  },
  {
   "cell_type": "code",
   "execution_count": 3,
   "metadata": {},
   "outputs": [
    {
     "name": "stdout",
     "output_type": "stream",
     "text": [
      "36\n",
      "275017\n"
     ]
    }
   ],
   "source": [
    "gb = df.groupby(['game_id','drive_id'])['down'].count().reset_index()\n",
    "# gb = gb.groupby(['down'])['drive_id'].count()\n",
    "# gb = gb.sort_values(ascending=False)\n",
    "# gb = gb.reset_index()\n",
    "# gb = gb.rename(columns={'drive_id':'play_count'})\n",
    "_max = gb.down.max()\n",
    "print(_max)\n",
    "print(len(gb))"
   ]
  },
  {
   "cell_type": "code",
   "execution_count": 4,
   "metadata": {},
   "outputs": [
    {
     "data": {
      "text/plain": [
       "<Figure size 1500x900 with 1 Axes>"
      ]
     },
     "metadata": {},
     "output_type": "display_data"
    }
   ],
   "source": [
    "# just for fun/validation, wanted to look at \n",
    "import seaborn as sns\n",
    "import matplotlib.pyplot as plt\n",
    "from scipy import stats\n",
    "\n",
    "x = pd.Series(gb.down, name=\"play_count\")\n",
    "fig = plt.figure(figsize=[15,9])\n",
    "# ax1 = sns.kdeplot(x, bw=0.14, label=\"play_count\")\n",
    "ax = sns.distplot(x, bins=np.arange(0,_max), kde=False, norm_hist=True)\n",
    "ax.set(xlabel='play_count', ylabel='percentage of drives')\n",
    "ax.set_title('Distribution of Play Count on 300,000 CFB Drives')\n",
    "plt.show()\n",
    "\n",
    "fig.savefig(\"./plots/play_counts.png\")"
   ]
  },
  {
   "cell_type": "code",
   "execution_count": 28,
   "metadata": {},
   "outputs": [],
   "source": [
    "# df[df['col_name'].str.contains(r'^(?=.*apple)(?=.*banana)')]\n",
    "\n",
    "# base = r'^{}'\n",
    "# expr = '(?=.*{})'\n",
    "# words = ['apple', 'banana', 'cat']  # example\n",
    "# base.format(''.join(expr.format(w) for w in words))"
   ]
  },
  {
   "cell_type": "code",
   "execution_count": null,
   "metadata": {},
   "outputs": [],
   "source": []
  }
 ],
 "metadata": {
  "kernelspec": {
   "display_name": "Python 3",
   "language": "python",
   "name": "python3"
  },
  "language_info": {
   "codemirror_mode": {
    "name": "ipython",
    "version": 3
   },
   "file_extension": ".py",
   "mimetype": "text/x-python",
   "name": "python",
   "nbconvert_exporter": "python",
   "pygments_lexer": "ipython3",
   "version": "3.7.4"
  }
 },
 "nbformat": 4,
 "nbformat_minor": 2
}
